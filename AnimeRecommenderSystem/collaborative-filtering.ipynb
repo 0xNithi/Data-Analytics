{
 "cells": [
  {
   "cell_type": "code",
   "execution_count": 20,
   "id": "1aedccff",
   "metadata": {},
   "outputs": [],
   "source": [
    "import numpy as np\n",
    "import pandas as pd\n",
    "\n",
    "import seaborn as sns"
   ]
  },
  {
   "cell_type": "markdown",
   "id": "66c12657",
   "metadata": {},
   "source": [
    "## Load the data from the Excel sheets"
   ]
  },
  {
   "cell_type": "code",
   "execution_count": 21,
   "id": "16104996",
   "metadata": {},
   "outputs": [],
   "source": [
    "ANIME_CSV_PATH = \"./datasets/anime.csv\"\n",
    "RATING_CSV_PATH = \"./datasets/rating.csv\""
   ]
  },
  {
   "cell_type": "code",
   "execution_count": 22,
   "id": "3eababbe",
   "metadata": {},
   "outputs": [],
   "source": [
    "anime_df = pd.read_csv(ANIME_CSV_PATH)\n",
    "rating_df = pd.read_csv(RATING_CSV_PATH)"
   ]
  },
  {
   "cell_type": "markdown",
   "id": "f3974d53",
   "metadata": {},
   "source": [
    "## Preprocess the data"
   ]
  },
  {
   "cell_type": "code",
   "execution_count": 23,
   "id": "3d1a989c",
   "metadata": {},
   "outputs": [],
   "source": [
    "rating_df.rating.replace({-1: np.nan}, inplace=True)"
   ]
  },
  {
   "cell_type": "code",
   "execution_count": 24,
   "id": "e6b3a9f1",
   "metadata": {
    "scrolled": true
   },
   "outputs": [],
   "source": [
    "anime_tv_df = anime_df[anime_df['type'] == 'TV']"
   ]
  },
  {
   "cell_type": "code",
   "execution_count": 25,
   "id": "241eee82",
   "metadata": {},
   "outputs": [],
   "source": [
    "merged_df = pd.merge(anime_tv_df, rating_df, on='anime_id', suffixes=['_anime', '_user'])"
   ]
  },
  {
   "cell_type": "code",
   "execution_count": 26,
   "id": "7ab17b01",
   "metadata": {},
   "outputs": [],
   "source": [
    "merged_df = merged_df[['user_id', 'name', 'rating_user']]"
   ]
  },
  {
   "cell_type": "code",
   "execution_count": 27,
   "id": "b337e182",
   "metadata": {},
   "outputs": [],
   "source": [
    "# sns.boxplot(y=merged_df.groupby('name').count()[merged_df.groupby('name').count()['rating_user'] > 5000]['rating_user'])"
   ]
  },
  {
   "cell_type": "code",
   "execution_count": 28,
   "id": "1c1dd149",
   "metadata": {},
   "outputs": [],
   "source": [
    "merged_limit_df = merged_df[merged_df.user_id <= 1000]"
   ]
  },
  {
   "cell_type": "markdown",
   "id": "3aab04f6",
   "metadata": {},
   "source": [
    "create pivot table for merged data"
   ]
  },
  {
   "cell_type": "code",
   "execution_count": 29,
   "id": "917e17f3",
   "metadata": {},
   "outputs": [],
   "source": [
    "user_anime_matrix = merged_limit_df.pivot_table(index=['user_id'], columns=['name'], values='rating_user')"
   ]
  },
  {
   "cell_type": "code",
   "execution_count": 30,
   "id": "dab43b0a",
   "metadata": {},
   "outputs": [],
   "source": [
    "norm_user_anime_matrix = user_anime_matrix.apply(lambda x: (x-np.mean(x))/(np.max(x)-np.min(x)), axis=1)"
   ]
  },
  {
   "cell_type": "code",
   "execution_count": 31,
   "id": "a9948595",
   "metadata": {},
   "outputs": [],
   "source": [
    "norm_user_anime_matrix.fillna(0, inplace=True)\n",
    "norm_user_anime_matrix = norm_user_anime_matrix.T\n",
    "norm_user_anime_matrix = norm_user_anime_matrix.loc[:, (norm_user_anime_matrix != 0).any(axis=0)]"
   ]
  },
  {
   "cell_type": "markdown",
   "id": "a2129abf",
   "metadata": {},
   "source": [
    "## Pearson Correlation"
   ]
  },
  {
   "cell_type": "code",
   "execution_count": 32,
   "id": "b764ccc5",
   "metadata": {},
   "outputs": [],
   "source": [
    "item_similarity = norm_user_anime_matrix.T.corr(method='pearson')\n",
    "user_similarity = norm_user_anime_matrix.corr(method='pearson')"
   ]
  },
  {
   "cell_type": "code",
   "execution_count": 33,
   "id": "e0631579",
   "metadata": {
    "scrolled": true
   },
   "outputs": [
    {
     "data": {
      "text/plain": [
       "name\n",
       "Naruto                                  1.000000\n",
       "Hoshi no Kirby                          0.181727\n",
       "Sansha Sanyou                           0.178296\n",
       "Venus Project: Climax                   0.171696\n",
       "Stitch!                                 0.171696\n",
       "Domo TV                                 0.171696\n",
       "Suzakinishi the Animation               0.171696\n",
       "Pan de Peace!                           0.166731\n",
       "Concrete Revolutio: Choujin Gensou      0.163048\n",
       "Kuromukuro                              0.163021\n",
       "Classroom☆Crisis                        0.150690\n",
       "Soul Link                               0.146919\n",
       "Bishoujo Yuugi Unit Crane Game Girls    0.143040\n",
       "Lime-iro Senkitan                       0.141570\n",
       "Spider Riders: Yomigaeru Taiyou         0.136976\n",
       "Saiko Robot Kombock                     0.127470\n",
       "Fractale                                0.118590\n",
       "Avenger                                 0.117764\n",
       "Popotan                                 0.115998\n",
       "Pokemon Advanced Generation             0.114676\n",
       "Name: Naruto, dtype: float64"
      ]
     },
     "execution_count": 33,
     "metadata": {},
     "output_type": "execute_result"
    }
   ],
   "source": [
    "anime_name = 'Naruto'\n",
    "item_similarity[anime_name].sort_values(ascending=False).iloc[:20]"
   ]
  },
  {
   "cell_type": "code",
   "execution_count": 34,
   "id": "231c491e",
   "metadata": {},
   "outputs": [
    {
     "data": {
      "text/plain": [
       "user_id\n",
       "5      1.000000\n",
       "529    0.223348\n",
       "771    0.222064\n",
       "38     0.213314\n",
       "687    0.198078\n",
       "392    0.187884\n",
       "29     0.187511\n",
       "148    0.186629\n",
       "250    0.181672\n",
       "776    0.178238\n",
       "702    0.178048\n",
       "875    0.172617\n",
       "500    0.172313\n",
       "920    0.170556\n",
       "567    0.162137\n",
       "235    0.160802\n",
       "926    0.157492\n",
       "183    0.156441\n",
       "189    0.155406\n",
       "139    0.150197\n",
       "Name: 5, dtype: float64"
      ]
     },
     "execution_count": 34,
     "metadata": {},
     "output_type": "execute_result"
    }
   ],
   "source": [
    "user_similarity[5].sort_values(ascending=False).iloc[:20]"
   ]
  },
  {
   "cell_type": "code",
   "execution_count": null,
   "id": "fd79d18b",
   "metadata": {},
   "outputs": [],
   "source": []
  }
 ],
 "metadata": {
  "kernelspec": {
   "display_name": "Python 3 (ipykernel)",
   "language": "python",
   "name": "python3"
  },
  "language_info": {
   "codemirror_mode": {
    "name": "ipython",
    "version": 3
   },
   "file_extension": ".py",
   "mimetype": "text/x-python",
   "name": "python",
   "nbconvert_exporter": "python",
   "pygments_lexer": "ipython3",
   "version": "3.11.2"
  }
 },
 "nbformat": 4,
 "nbformat_minor": 5
}
