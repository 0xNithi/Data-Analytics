{
 "cells": [
  {
   "cell_type": "code",
   "execution_count": 11,
   "id": "1aedccff",
   "metadata": {},
   "outputs": [],
   "source": [
    "import numpy as np\n",
    "import pandas as pd\n",
    "\n",
    "from sklearn.metrics.pairwise import cosine_similarity\n",
    "\n",
    "from scipy.sparse import csr_matrix"
   ]
  },
  {
   "cell_type": "markdown",
   "id": "66c12657",
   "metadata": {},
   "source": [
    "## Load the data from the Excel sheets"
   ]
  },
  {
   "cell_type": "code",
   "execution_count": 12,
   "id": "16104996",
   "metadata": {},
   "outputs": [],
   "source": [
    "ANIME_CSV_PATH = \"./datasets/anime.csv\"\n",
    "RATING_CSV_PATH = \"./datasets/rating.csv\""
   ]
  },
  {
   "cell_type": "code",
   "execution_count": 13,
   "id": "3eababbe",
   "metadata": {},
   "outputs": [],
   "source": [
    "anime_df = pd.read_csv(ANIME_CSV_PATH)\n",
    "rating_df = pd.read_csv(RATING_CSV_PATH)"
   ]
  },
  {
   "cell_type": "markdown",
   "id": "f3974d53",
   "metadata": {},
   "source": [
    "## Preprocess the data"
   ]
  },
  {
   "cell_type": "code",
   "execution_count": 14,
   "id": "3d1a989c",
   "metadata": {},
   "outputs": [],
   "source": [
    "rating_df.rating.replace({-1: np.nan}, inplace=True)"
   ]
  },
  {
   "cell_type": "code",
   "execution_count": 15,
   "id": "dd1e5a3d",
   "metadata": {},
   "outputs": [],
   "source": [
    "anime_tv_df = anime_df[anime_df['type'] == 'TV']"
   ]
  },
  {
   "cell_type": "code",
   "execution_count": 16,
   "id": "241eee82",
   "metadata": {},
   "outputs": [],
   "source": [
    "merged_df = pd.merge(anime_tv_df, rating_df, on='anime_id', suffixes=['_anime', '_user'])"
   ]
  },
  {
   "cell_type": "code",
   "execution_count": 17,
   "id": "7ab17b01",
   "metadata": {},
   "outputs": [],
   "source": [
    "merged_df = merged_df[['user_id', 'name', 'rating_user']]"
   ]
  },
  {
   "cell_type": "code",
   "execution_count": 18,
   "id": "1c1dd149",
   "metadata": {},
   "outputs": [],
   "source": [
    "merged_limit_df = merged_df[merged_df.user_id <= 20000]"
   ]
  },
  {
   "cell_type": "markdown",
   "id": "3aab04f6",
   "metadata": {},
   "source": [
    "create pivot table for merged data"
   ]
  },
  {
   "cell_type": "code",
   "execution_count": 19,
   "id": "917e17f3",
   "metadata": {},
   "outputs": [],
   "source": [
    "user_anime_matrix = merged_limit_df.pivot_table(index=['user_id'], columns=['name'], values='rating_user')"
   ]
  },
  {
   "cell_type": "code",
   "execution_count": null,
   "id": "dab43b0a",
   "metadata": {},
   "outputs": [],
   "source": [
    "norm_user_anime_matrix = user_anime_matrix.apply(lambda x: (x-np.mean(x))/(np.max(x)-np.min(x)), axis=1)"
   ]
  },
  {
   "cell_type": "code",
   "execution_count": null,
   "id": "a9948595",
   "metadata": {},
   "outputs": [],
   "source": [
    "norm_user_anime_matrix.fillna(0, inplace=True)\n",
    "norm_user_anime_matrix = norm_user_anime_matrix.T\n",
    "norm_user_anime_matrix = norm_user_anime_matrix.loc[:, (norm_user_anime_matrix != 0).any(axis=0)]"
   ]
  },
  {
   "cell_type": "markdown",
   "id": "9ab229d1",
   "metadata": {},
   "source": [
    "create sparse matrix for more efficient computation"
   ]
  },
  {
   "cell_type": "code",
   "execution_count": null,
   "id": "6b6215ae",
   "metadata": {},
   "outputs": [],
   "source": [
    "anime_user_csr = csr_matrix(norm_user_anime_matrix.values)"
   ]
  },
  {
   "cell_type": "markdown",
   "id": "a2129abf",
   "metadata": {},
   "source": [
    "## Cosine Similarity"
   ]
  },
  {
   "cell_type": "code",
   "execution_count": null,
   "id": "b764ccc5",
   "metadata": {},
   "outputs": [],
   "source": [
    "item_similarity = cosine_similarity(anime_user_csr)\n",
    "user_similarity = cosine_similarity(anime_user_csr.T)"
   ]
  },
  {
   "cell_type": "code",
   "execution_count": null,
   "id": "31553b2b",
   "metadata": {},
   "outputs": [],
   "source": [
    "item_sim_df = pd.DataFrame(item_similarity, index=norm_user_anime_matrix.index, columns=norm_user_anime_matrix.index)\n",
    "user_sim_df = pd.DataFrame(user_similarity, index=norm_user_anime_matrix.columns, columns=norm_user_anime_matrix.columns)"
   ]
  },
  {
   "cell_type": "code",
   "execution_count": null,
   "id": "21506fd8",
   "metadata": {},
   "outputs": [],
   "source": [
    "item_sim_df"
   ]
  },
  {
   "cell_type": "code",
   "execution_count": null,
   "id": "696ad817",
   "metadata": {},
   "outputs": [],
   "source": [
    "user_sim_df"
   ]
  }
 ],
 "metadata": {
  "kernelspec": {
   "display_name": "Python 3 (ipykernel)",
   "language": "python",
   "name": "python3"
  },
  "language_info": {
   "codemirror_mode": {
    "name": "ipython",
    "version": 3
   },
   "file_extension": ".py",
   "mimetype": "text/x-python",
   "name": "python",
   "nbconvert_exporter": "python",
   "pygments_lexer": "ipython3",
   "version": "3.11.2"
  }
 },
 "nbformat": 4,
 "nbformat_minor": 5
}
