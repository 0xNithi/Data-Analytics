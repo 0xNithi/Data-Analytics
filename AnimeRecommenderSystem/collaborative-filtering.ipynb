{
 "cells": [
  {
   "cell_type": "code",
   "execution_count": 275,
   "id": "1aedccff",
   "metadata": {},
   "outputs": [],
   "source": [
    "import numpy as np\n",
    "import pandas as pd\n",
    "\n",
    "from sklearn.metrics.pairwise import cosine_similarity\n",
    "from sklearn.metrics import precision_score, roc_auc_score\n",
    "from sklearn.model_selection import train_test_split\n",
    "\n",
    "from scipy.sparse import csr_matrix"
   ]
  },
  {
   "cell_type": "markdown",
   "id": "66c12657",
   "metadata": {},
   "source": [
    "## Load the data from the Excel sheets"
   ]
  },
  {
   "cell_type": "code",
   "execution_count": 276,
   "id": "16104996",
   "metadata": {},
   "outputs": [],
   "source": [
    "ANIME_CSV_PATH = \"./datasets/anime.csv\"\n",
    "RATING_CSV_PATH = \"./datasets/rating.csv\""
   ]
  },
  {
   "cell_type": "code",
   "execution_count": 277,
   "id": "3eababbe",
   "metadata": {},
   "outputs": [],
   "source": [
    "anime_df = pd.read_csv(ANIME_CSV_PATH)\n",
    "rating_df = pd.read_csv(RATING_CSV_PATH)"
   ]
  },
  {
   "cell_type": "markdown",
   "id": "f3974d53",
   "metadata": {},
   "source": [
    "## Preprocess the data"
   ]
  },
  {
   "cell_type": "code",
   "execution_count": 278,
   "id": "3d1a989c",
   "metadata": {},
   "outputs": [],
   "source": [
    "rating_df.rating.replace({-1: np.nan}, inplace = True)"
   ]
  },
  {
   "cell_type": "code",
   "execution_count": 279,
   "id": "241eee82",
   "metadata": {},
   "outputs": [],
   "source": [
    "merged_df = pd.merge(anime_df, rating_df, on='anime_id', suffixes=['_anime', '_user'])"
   ]
  },
  {
   "cell_type": "code",
   "execution_count": 280,
   "id": "7ab17b01",
   "metadata": {},
   "outputs": [],
   "source": [
    "merged_df = merged_df[['user_id', 'name', 'rating_user']]"
   ]
  },
  {
   "cell_type": "code",
   "execution_count": 281,
   "id": "1c1dd149",
   "metadata": {},
   "outputs": [],
   "source": [
    "merged_limit_df = merged_df[merged_df.user_id <= 10000]"
   ]
  },
  {
   "cell_type": "markdown",
   "id": "3aab04f6",
   "metadata": {},
   "source": [
    "create pivot table for merged data"
   ]
  },
  {
   "cell_type": "code",
   "execution_count": 282,
   "id": "917e17f3",
   "metadata": {},
   "outputs": [],
   "source": [
    "user_anime_matrix = merged_limit_df.pivot_table(index=['user_id'], columns=['name'], values='rating_user')"
   ]
  },
  {
   "cell_type": "code",
   "execution_count": 283,
   "id": "dab43b0a",
   "metadata": {},
   "outputs": [],
   "source": [
    "norm_user_anime_matrix = user_anime_matrix.apply(lambda x: (x-np.mean(x))/(np.max(x)-np.min(x)), axis=1)"
   ]
  },
  {
   "cell_type": "code",
   "execution_count": 284,
   "id": "a9948595",
   "metadata": {},
   "outputs": [],
   "source": [
    "norm_user_anime_matrix.fillna(0, inplace=True)\n",
    "norm_user_anime_matrix = norm_user_anime_matrix.T\n",
    "norm_user_anime_matrix = norm_user_anime_matrix.loc[:, (norm_user_anime_matrix != 0).any(axis=0)]"
   ]
  },
  {
   "cell_type": "markdown",
   "id": "9ab229d1",
   "metadata": {},
   "source": [
    "create sparse matrix for more efficient computation"
   ]
  },
  {
   "cell_type": "code",
   "execution_count": 285,
   "id": "6b6215ae",
   "metadata": {},
   "outputs": [],
   "source": [
    "anime_user_csr = csr_matrix(norm_user_anime_matrix.values)"
   ]
  },
  {
   "cell_type": "markdown",
   "id": "a2129abf",
   "metadata": {},
   "source": [
    "## Cosine Similarity"
   ]
  },
  {
   "cell_type": "code",
   "execution_count": 286,
   "id": "b764ccc5",
   "metadata": {},
   "outputs": [],
   "source": [
    "item_similarity = cosine_similarity(anime_user_csr)\n",
    "user_similarity = cosine_similarity(anime_user_csr.T)"
   ]
  },
  {
   "cell_type": "code",
   "execution_count": 287,
   "id": "31553b2b",
   "metadata": {},
   "outputs": [],
   "source": [
    "item_sim_df = pd.DataFrame(item_similarity, index=norm_user_anime_matrix.index, columns=norm_user_anime_matrix.index)\n",
    "user_sim_df = pd.DataFrame(user_similarity, index=norm_user_anime_matrix.columns, columns=norm_user_anime_matrix.columns)"
   ]
  },
  {
   "cell_type": "code",
   "execution_count": 288,
   "id": "e4683943",
   "metadata": {},
   "outputs": [],
   "source": [
    "def get_recommendations_by_item(anime_name, n_recommendations=10):\n",
    "    print(f'Recommendations for anime: {anime_name}\\n')\n",
    "    for anime in item_sim_df.sort_values(by=anime_name, ascending=False).index[1:n_recommendations]:\n",
    "        print(f'{anime}')"
   ]
  },
  {
   "cell_type": "code",
   "execution_count": 289,
   "id": "d1342a5d",
   "metadata": {},
   "outputs": [],
   "source": [
    "def get_recommendations_by_user(user_id, n_recommendations=10):\n",
    "    if user_id not in norm_user_anime_matrix.columns:\n",
    "        return print(f'Not found user: {user_id}\\n')\n",
    "    \n",
    "    sim_users = user_sim_df.sort_values(by=user_id, ascending=False).index[1:11]\n",
    "    best = []\n",
    "    most_common = {}\n",
    "    \n",
    "    for i in sim_users:\n",
    "        max_score = norm_user_anime_matrix.loc[:, i].max()\n",
    "        best.append(norm_user_anime_matrix[norm_user_anime_matrix.loc[:, i] == max_score].index.tolist())\n",
    "    for i in range(len(best)):\n",
    "        for j in best[i]:\n",
    "            if j in most_common:\n",
    "                most_common[j] += 1\n",
    "            else:\n",
    "                most_common[j] = 1\n",
    "    sorted_list = sorted(most_common.items(), key=lambda elem: elem[1], reverse=True)\n",
    "\n",
    "    print(f'Recommendations for user: {user_id}\\n')\n",
    "    for anime, _ in sorted_list[:n_recommendations]:\n",
    "        print(f'{anime}')"
   ]
  },
  {
   "cell_type": "code",
   "execution_count": 290,
   "id": "39ed27ec",
   "metadata": {},
   "outputs": [
    {
     "name": "stdout",
     "output_type": "stream",
     "text": [
      "Recommendations for anime: Naruto\n",
      "\n",
      "Naruto: Shippuuden Movie 1\n",
      "Bleach\n",
      "Naruto Movie 1: Dai Katsugeki!! Yuki Hime Shinobu Houjou Dattebayo!\n",
      "Naruto: Shippuuden Movie 2 - Kizuna\n",
      "Naruto: Shippuuden Movie 6 - Road to Ninja\n",
      "Naruto: Shippuuden Movie 5 - Blood Prison\n",
      "Gunslinger Stratos\n",
      "Sword Gai\n",
      "Dragon Ball Z\n"
     ]
    }
   ],
   "source": [
    "get_recommendations_by_item('Naruto')"
   ]
  },
  {
   "cell_type": "code",
   "execution_count": 291,
   "id": "5f3cfb22",
   "metadata": {},
   "outputs": [
    {
     "name": "stdout",
     "output_type": "stream",
     "text": [
      "Recommendations for user: 5\n",
      "\n",
      "Fullmetal Alchemist: Brotherhood\n",
      "Steins;Gate\n",
      "Gintama\n",
      "Gintama&#039;\n",
      "Clannad: After Story\n",
      "Shigatsu wa Kimi no Uso\n",
      "Gintama°\n",
      "Gintama&#039;: Enchousen\n",
      "Cowboy Bebop\n",
      "Hunter x Hunter (2011)\n"
     ]
    }
   ],
   "source": [
    "get_recommendations_by_user(5)"
   ]
  },
  {
   "cell_type": "code",
   "execution_count": null,
   "id": "21506fd8",
   "metadata": {},
   "outputs": [],
   "source": []
  }
 ],
 "metadata": {
  "kernelspec": {
   "display_name": "Python 3 (ipykernel)",
   "language": "python",
   "name": "python3"
  },
  "language_info": {
   "codemirror_mode": {
    "name": "ipython",
    "version": 3
   },
   "file_extension": ".py",
   "mimetype": "text/x-python",
   "name": "python",
   "nbconvert_exporter": "python",
   "pygments_lexer": "ipython3",
   "version": "3.11.2"
  }
 },
 "nbformat": 4,
 "nbformat_minor": 5
}
