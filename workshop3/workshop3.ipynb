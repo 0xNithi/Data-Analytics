{
 "cells": [
  {
   "cell_type": "code",
   "execution_count": 191,
   "metadata": {},
   "outputs": [],
   "source": [
    "import pandas as pd\n",
    "import numpy as np\n",
    "import matplotlib.pyplot as plt\n",
    "import seaborn as sns\n",
    "%matplotlib inline\n",
    "\n",
    "from sklearn.model_selection import train_test_split\n",
    "from sklearn.linear_model import LinearRegression\n",
    "from sklearn import metrics"
   ]
  },
  {
   "cell_type": "code",
   "execution_count": 192,
   "metadata": {},
   "outputs": [],
   "source": [
    "df = pd.read_csv('https://docs.google.com/spreadsheets/d/e/2PACX-1vR67xhoAkjEvKTiy5Movr0s7scp0Z8H-rzPW-lM7upIJtDK6lCvDCWUypk9s5EJrr9l3eRVtmtuGmI5/pub?gid=1228674889&single=true&output=csv')\n",
    "df_unseen = pd.read_csv('https://docs.google.com/spreadsheets/d/e/2PACX-1vR67xhoAkjEvKTiy5Movr0s7scp0Z8H-rzPW-lM7upIJtDK6lCvDCWUypk9s5EJrr9l3eRVtmtuGmI5/pub?gid=598844070&single=true&output=csv')"
   ]
  },
  {
   "cell_type": "code",
   "execution_count": 193,
   "metadata": {},
   "outputs": [
    {
     "data": {
      "text/html": [
       "<div>\n",
       "<style scoped>\n",
       "    .dataframe tbody tr th:only-of-type {\n",
       "        vertical-align: middle;\n",
       "    }\n",
       "\n",
       "    .dataframe tbody tr th {\n",
       "        vertical-align: top;\n",
       "    }\n",
       "\n",
       "    .dataframe thead th {\n",
       "        text-align: right;\n",
       "    }\n",
       "</style>\n",
       "<table border=\"1\" class=\"dataframe\">\n",
       "  <thead>\n",
       "    <tr style=\"text-align: right;\">\n",
       "      <th></th>\n",
       "      <th>id</th>\n",
       "      <th>x1</th>\n",
       "      <th>x2</th>\n",
       "      <th>x3</th>\n",
       "      <th>x4</th>\n",
       "      <th>x5</th>\n",
       "      <th>x6</th>\n",
       "      <th>x7</th>\n",
       "      <th>x8</th>\n",
       "      <th>y</th>\n",
       "    </tr>\n",
       "  </thead>\n",
       "  <tbody>\n",
       "    <tr>\n",
       "      <th>0</th>\n",
       "      <td>1</td>\n",
       "      <td>1.18</td>\n",
       "      <td>3.02</td>\n",
       "      <td>9.50</td>\n",
       "      <td>D</td>\n",
       "      <td>1.23</td>\n",
       "      <td>810.89</td>\n",
       "      <td>4180.73</td>\n",
       "      <td>152.16</td>\n",
       "      <td>674.74</td>\n",
       "    </tr>\n",
       "    <tr>\n",
       "      <th>1</th>\n",
       "      <td>2</td>\n",
       "      <td>5.92</td>\n",
       "      <td>3.03</td>\n",
       "      <td>9.92</td>\n",
       "      <td>A</td>\n",
       "      <td>23.34</td>\n",
       "      <td>419.94</td>\n",
       "      <td>747.48</td>\n",
       "      <td>336.24</td>\n",
       "      <td>931.36</td>\n",
       "    </tr>\n",
       "    <tr>\n",
       "      <th>2</th>\n",
       "      <td>3</td>\n",
       "      <td>7.32</td>\n",
       "      <td>3.54</td>\n",
       "      <td>13.18</td>\n",
       "      <td>B</td>\n",
       "      <td>5.39</td>\n",
       "      <td>348.00</td>\n",
       "      <td>1814.33</td>\n",
       "      <td>369.86</td>\n",
       "      <td>1630.72</td>\n",
       "    </tr>\n",
       "    <tr>\n",
       "      <th>3</th>\n",
       "      <td>4</td>\n",
       "      <td>8.80</td>\n",
       "      <td>0.23</td>\n",
       "      <td>7.79</td>\n",
       "      <td>A</td>\n",
       "      <td>23.59</td>\n",
       "      <td>223.98</td>\n",
       "      <td>2296.12</td>\n",
       "      <td>226.97</td>\n",
       "      <td>433.03</td>\n",
       "    </tr>\n",
       "    <tr>\n",
       "      <th>4</th>\n",
       "      <td>5</td>\n",
       "      <td>2.56</td>\n",
       "      <td>2.29</td>\n",
       "      <td>10.51</td>\n",
       "      <td>D</td>\n",
       "      <td>4.36</td>\n",
       "      <td>619.53</td>\n",
       "      <td>2930.18</td>\n",
       "      <td>339.87</td>\n",
       "      <td>1534.46</td>\n",
       "    </tr>\n",
       "    <tr>\n",
       "      <th>...</th>\n",
       "      <td>...</td>\n",
       "      <td>...</td>\n",
       "      <td>...</td>\n",
       "      <td>...</td>\n",
       "      <td>...</td>\n",
       "      <td>...</td>\n",
       "      <td>...</td>\n",
       "      <td>...</td>\n",
       "      <td>...</td>\n",
       "      <td>...</td>\n",
       "    </tr>\n",
       "    <tr>\n",
       "      <th>135</th>\n",
       "      <td>136</td>\n",
       "      <td>5.64</td>\n",
       "      <td>1.00</td>\n",
       "      <td>5.90</td>\n",
       "      <td>B</td>\n",
       "      <td>5.59</td>\n",
       "      <td>463.91</td>\n",
       "      <td>1471.13</td>\n",
       "      <td>22.59</td>\n",
       "      <td>-63.60</td>\n",
       "    </tr>\n",
       "    <tr>\n",
       "      <th>136</th>\n",
       "      <td>137</td>\n",
       "      <td>9.32</td>\n",
       "      <td>1.96</td>\n",
       "      <td>10.45</td>\n",
       "      <td>A</td>\n",
       "      <td>27.85</td>\n",
       "      <td>91.40</td>\n",
       "      <td>3869.41</td>\n",
       "      <td>65.16</td>\n",
       "      <td>-534.80</td>\n",
       "    </tr>\n",
       "    <tr>\n",
       "      <th>137</th>\n",
       "      <td>138</td>\n",
       "      <td>3.12</td>\n",
       "      <td>4.53</td>\n",
       "      <td>1.16</td>\n",
       "      <td>C</td>\n",
       "      <td>23.16</td>\n",
       "      <td>239.20</td>\n",
       "      <td>3036.52</td>\n",
       "      <td>175.38</td>\n",
       "      <td>106.00</td>\n",
       "    </tr>\n",
       "    <tr>\n",
       "      <th>138</th>\n",
       "      <td>139</td>\n",
       "      <td>4.93</td>\n",
       "      <td>2.60</td>\n",
       "      <td>13.03</td>\n",
       "      <td>B</td>\n",
       "      <td>21.93</td>\n",
       "      <td>817.99</td>\n",
       "      <td>1840.87</td>\n",
       "      <td>14.51</td>\n",
       "      <td>-624.54</td>\n",
       "    </tr>\n",
       "    <tr>\n",
       "      <th>139</th>\n",
       "      <td>140</td>\n",
       "      <td>3.69</td>\n",
       "      <td>1.07</td>\n",
       "      <td>4.05</td>\n",
       "      <td>D</td>\n",
       "      <td>8.07</td>\n",
       "      <td>294.19</td>\n",
       "      <td>1334.61</td>\n",
       "      <td>264.79</td>\n",
       "      <td>1072.51</td>\n",
       "    </tr>\n",
       "  </tbody>\n",
       "</table>\n",
       "<p>140 rows × 10 columns</p>\n",
       "</div>"
      ],
      "text/plain": [
       "      id    x1    x2     x3 x4     x5      x6       x7      x8        y\n",
       "0      1  1.18  3.02   9.50  D   1.23  810.89  4180.73  152.16   674.74\n",
       "1      2  5.92  3.03   9.92  A  23.34  419.94   747.48  336.24   931.36\n",
       "2      3  7.32  3.54  13.18  B   5.39  348.00  1814.33  369.86  1630.72\n",
       "3      4  8.80  0.23   7.79  A  23.59  223.98  2296.12  226.97   433.03\n",
       "4      5  2.56  2.29  10.51  D   4.36  619.53  2930.18  339.87  1534.46\n",
       "..   ...   ...   ...    ... ..    ...     ...      ...     ...      ...\n",
       "135  136  5.64  1.00   5.90  B   5.59  463.91  1471.13   22.59   -63.60\n",
       "136  137  9.32  1.96  10.45  A  27.85   91.40  3869.41   65.16  -534.80\n",
       "137  138  3.12  4.53   1.16  C  23.16  239.20  3036.52  175.38   106.00\n",
       "138  139  4.93  2.60  13.03  B  21.93  817.99  1840.87   14.51  -624.54\n",
       "139  140  3.69  1.07   4.05  D   8.07  294.19  1334.61  264.79  1072.51\n",
       "\n",
       "[140 rows x 10 columns]"
      ]
     },
     "execution_count": 193,
     "metadata": {},
     "output_type": "execute_result"
    }
   ],
   "source": [
    "df"
   ]
  },
  {
   "cell_type": "code",
   "execution_count": 194,
   "metadata": {},
   "outputs": [
    {
     "data": {
      "text/html": [
       "<div>\n",
       "<style scoped>\n",
       "    .dataframe tbody tr th:only-of-type {\n",
       "        vertical-align: middle;\n",
       "    }\n",
       "\n",
       "    .dataframe tbody tr th {\n",
       "        vertical-align: top;\n",
       "    }\n",
       "\n",
       "    .dataframe thead th {\n",
       "        text-align: right;\n",
       "    }\n",
       "</style>\n",
       "<table border=\"1\" class=\"dataframe\">\n",
       "  <thead>\n",
       "    <tr style=\"text-align: right;\">\n",
       "      <th></th>\n",
       "      <th>id</th>\n",
       "      <th>x1</th>\n",
       "      <th>x2</th>\n",
       "      <th>x3</th>\n",
       "      <th>x4</th>\n",
       "      <th>x5</th>\n",
       "      <th>x6</th>\n",
       "      <th>x7</th>\n",
       "      <th>x8</th>\n",
       "    </tr>\n",
       "  </thead>\n",
       "  <tbody>\n",
       "    <tr>\n",
       "      <th>0</th>\n",
       "      <td>141</td>\n",
       "      <td>5.48</td>\n",
       "      <td>1.85</td>\n",
       "      <td>7.34</td>\n",
       "      <td>B</td>\n",
       "      <td>21.00</td>\n",
       "      <td>754.43</td>\n",
       "      <td>90.73</td>\n",
       "      <td>152.59</td>\n",
       "    </tr>\n",
       "    <tr>\n",
       "      <th>1</th>\n",
       "      <td>142</td>\n",
       "      <td>6.32</td>\n",
       "      <td>0.64</td>\n",
       "      <td>12.69</td>\n",
       "      <td>B</td>\n",
       "      <td>7.66</td>\n",
       "      <td>55.44</td>\n",
       "      <td>3244.73</td>\n",
       "      <td>359.84</td>\n",
       "    </tr>\n",
       "    <tr>\n",
       "      <th>2</th>\n",
       "      <td>143</td>\n",
       "      <td>8.11</td>\n",
       "      <td>3.47</td>\n",
       "      <td>12.64</td>\n",
       "      <td>E</td>\n",
       "      <td>1.34</td>\n",
       "      <td>142.61</td>\n",
       "      <td>2861.21</td>\n",
       "      <td>98.78</td>\n",
       "    </tr>\n",
       "    <tr>\n",
       "      <th>3</th>\n",
       "      <td>144</td>\n",
       "      <td>0.79</td>\n",
       "      <td>0.28</td>\n",
       "      <td>12.73</td>\n",
       "      <td>D</td>\n",
       "      <td>12.32</td>\n",
       "      <td>793.89</td>\n",
       "      <td>2163.24</td>\n",
       "      <td>119.44</td>\n",
       "    </tr>\n",
       "    <tr>\n",
       "      <th>4</th>\n",
       "      <td>145</td>\n",
       "      <td>5.92</td>\n",
       "      <td>1.13</td>\n",
       "      <td>8.78</td>\n",
       "      <td>E</td>\n",
       "      <td>7.37</td>\n",
       "      <td>118.58</td>\n",
       "      <td>999.02</td>\n",
       "      <td>257.55</td>\n",
       "    </tr>\n",
       "    <tr>\n",
       "      <th>5</th>\n",
       "      <td>146</td>\n",
       "      <td>4.49</td>\n",
       "      <td>1.86</td>\n",
       "      <td>14.76</td>\n",
       "      <td>E</td>\n",
       "      <td>13.01</td>\n",
       "      <td>385.80</td>\n",
       "      <td>3560.56</td>\n",
       "      <td>14.34</td>\n",
       "    </tr>\n",
       "    <tr>\n",
       "      <th>6</th>\n",
       "      <td>147</td>\n",
       "      <td>6.64</td>\n",
       "      <td>3.67</td>\n",
       "      <td>11.77</td>\n",
       "      <td>E</td>\n",
       "      <td>6.56</td>\n",
       "      <td>815.28</td>\n",
       "      <td>2315.78</td>\n",
       "      <td>208.08</td>\n",
       "    </tr>\n",
       "    <tr>\n",
       "      <th>7</th>\n",
       "      <td>148</td>\n",
       "      <td>7.53</td>\n",
       "      <td>2.54</td>\n",
       "      <td>11.28</td>\n",
       "      <td>E</td>\n",
       "      <td>24.03</td>\n",
       "      <td>928.12</td>\n",
       "      <td>1773.88</td>\n",
       "      <td>323.28</td>\n",
       "    </tr>\n",
       "    <tr>\n",
       "      <th>8</th>\n",
       "      <td>149</td>\n",
       "      <td>4.21</td>\n",
       "      <td>4.03</td>\n",
       "      <td>14.60</td>\n",
       "      <td>A</td>\n",
       "      <td>12.62</td>\n",
       "      <td>14.13</td>\n",
       "      <td>4770.95</td>\n",
       "      <td>353.67</td>\n",
       "    </tr>\n",
       "    <tr>\n",
       "      <th>9</th>\n",
       "      <td>150</td>\n",
       "      <td>6.18</td>\n",
       "      <td>2.58</td>\n",
       "      <td>13.48</td>\n",
       "      <td>A</td>\n",
       "      <td>18.72</td>\n",
       "      <td>305.07</td>\n",
       "      <td>1813.56</td>\n",
       "      <td>207.66</td>\n",
       "    </tr>\n",
       "  </tbody>\n",
       "</table>\n",
       "</div>"
      ],
      "text/plain": [
       "    id    x1    x2     x3 x4     x5      x6       x7      x8\n",
       "0  141  5.48  1.85   7.34  B  21.00  754.43    90.73  152.59\n",
       "1  142  6.32  0.64  12.69  B   7.66   55.44  3244.73  359.84\n",
       "2  143  8.11  3.47  12.64  E   1.34  142.61  2861.21   98.78\n",
       "3  144  0.79  0.28  12.73  D  12.32  793.89  2163.24  119.44\n",
       "4  145  5.92  1.13   8.78  E   7.37  118.58   999.02  257.55\n",
       "5  146  4.49  1.86  14.76  E  13.01  385.80  3560.56   14.34\n",
       "6  147  6.64  3.67  11.77  E   6.56  815.28  2315.78  208.08\n",
       "7  148  7.53  2.54  11.28  E  24.03  928.12  1773.88  323.28\n",
       "8  149  4.21  4.03  14.60  A  12.62   14.13  4770.95  353.67\n",
       "9  150  6.18  2.58  13.48  A  18.72  305.07  1813.56  207.66"
      ]
     },
     "execution_count": 194,
     "metadata": {},
     "output_type": "execute_result"
    }
   ],
   "source": [
    "df_unseen"
   ]
  },
  {
   "cell_type": "code",
   "execution_count": 195,
   "metadata": {},
   "outputs": [
    {
     "name": "stdout",
     "output_type": "stream",
     "text": [
      "<class 'pandas.core.frame.DataFrame'>\n",
      "RangeIndex: 140 entries, 0 to 139\n",
      "Data columns (total 10 columns):\n",
      " #   Column  Non-Null Count  Dtype  \n",
      "---  ------  --------------  -----  \n",
      " 0   id      140 non-null    int64  \n",
      " 1   x1      139 non-null    float64\n",
      " 2   x2      140 non-null    float64\n",
      " 3   x3      140 non-null    float64\n",
      " 4   x4      140 non-null    object \n",
      " 5   x5      140 non-null    float64\n",
      " 6   x6      139 non-null    float64\n",
      " 7   x7      140 non-null    float64\n",
      " 8   x8      140 non-null    float64\n",
      " 9   y       140 non-null    float64\n",
      "dtypes: float64(8), int64(1), object(1)\n",
      "memory usage: 11.1+ KB\n",
      "<class 'pandas.core.frame.DataFrame'>\n",
      "RangeIndex: 10 entries, 0 to 9\n",
      "Data columns (total 9 columns):\n",
      " #   Column  Non-Null Count  Dtype  \n",
      "---  ------  --------------  -----  \n",
      " 0   id      10 non-null     int64  \n",
      " 1   x1      10 non-null     float64\n",
      " 2   x2      10 non-null     float64\n",
      " 3   x3      10 non-null     float64\n",
      " 4   x4      10 non-null     object \n",
      " 5   x5      10 non-null     float64\n",
      " 6   x6      10 non-null     float64\n",
      " 7   x7      10 non-null     float64\n",
      " 8   x8      10 non-null     float64\n",
      "dtypes: float64(7), int64(1), object(1)\n",
      "memory usage: 848.0+ bytes\n"
     ]
    }
   ],
   "source": [
    "df.info()\n",
    "df_unseen.info()"
   ]
  },
  {
   "cell_type": "code",
   "execution_count": 196,
   "metadata": {},
   "outputs": [
    {
     "data": {
      "text/html": [
       "<div>\n",
       "<style scoped>\n",
       "    .dataframe tbody tr th:only-of-type {\n",
       "        vertical-align: middle;\n",
       "    }\n",
       "\n",
       "    .dataframe tbody tr th {\n",
       "        vertical-align: top;\n",
       "    }\n",
       "\n",
       "    .dataframe thead th {\n",
       "        text-align: right;\n",
       "    }\n",
       "</style>\n",
       "<table border=\"1\" class=\"dataframe\">\n",
       "  <thead>\n",
       "    <tr style=\"text-align: right;\">\n",
       "      <th></th>\n",
       "      <th>id</th>\n",
       "      <th>x1</th>\n",
       "      <th>x2</th>\n",
       "      <th>x3</th>\n",
       "      <th>x5</th>\n",
       "      <th>x6</th>\n",
       "      <th>x7</th>\n",
       "      <th>x8</th>\n",
       "      <th>y</th>\n",
       "    </tr>\n",
       "  </thead>\n",
       "  <tbody>\n",
       "    <tr>\n",
       "      <th>count</th>\n",
       "      <td>140.0000</td>\n",
       "      <td>139.000000</td>\n",
       "      <td>140.000000</td>\n",
       "      <td>140.000000</td>\n",
       "      <td>140.000000</td>\n",
       "      <td>139.000000</td>\n",
       "      <td>140.000000</td>\n",
       "      <td>140.000000</td>\n",
       "      <td>140.000000</td>\n",
       "    </tr>\n",
       "    <tr>\n",
       "      <th>mean</th>\n",
       "      <td>70.5000</td>\n",
       "      <td>5.287266</td>\n",
       "      <td>2.465643</td>\n",
       "      <td>7.749429</td>\n",
       "      <td>15.304143</td>\n",
       "      <td>485.509353</td>\n",
       "      <td>2572.986786</td>\n",
       "      <td>248.534500</td>\n",
       "      <td>746.765071</td>\n",
       "    </tr>\n",
       "    <tr>\n",
       "      <th>std</th>\n",
       "      <td>40.5586</td>\n",
       "      <td>2.989303</td>\n",
       "      <td>1.496873</td>\n",
       "      <td>4.542832</td>\n",
       "      <td>8.702078</td>\n",
       "      <td>280.528298</td>\n",
       "      <td>1395.140872</td>\n",
       "      <td>136.773126</td>\n",
       "      <td>756.563035</td>\n",
       "    </tr>\n",
       "    <tr>\n",
       "      <th>min</th>\n",
       "      <td>1.0000</td>\n",
       "      <td>0.190000</td>\n",
       "      <td>0.130000</td>\n",
       "      <td>0.100000</td>\n",
       "      <td>0.240000</td>\n",
       "      <td>31.440000</td>\n",
       "      <td>10.130000</td>\n",
       "      <td>1.610000</td>\n",
       "      <td>-788.810000</td>\n",
       "    </tr>\n",
       "    <tr>\n",
       "      <th>25%</th>\n",
       "      <td>35.7500</td>\n",
       "      <td>2.650000</td>\n",
       "      <td>1.207500</td>\n",
       "      <td>3.675000</td>\n",
       "      <td>8.040000</td>\n",
       "      <td>244.580000</td>\n",
       "      <td>1516.057500</td>\n",
       "      <td>141.067500</td>\n",
       "      <td>57.727500</td>\n",
       "    </tr>\n",
       "    <tr>\n",
       "      <th>50%</th>\n",
       "      <td>70.5000</td>\n",
       "      <td>5.640000</td>\n",
       "      <td>2.410000</td>\n",
       "      <td>8.395000</td>\n",
       "      <td>15.120000</td>\n",
       "      <td>479.280000</td>\n",
       "      <td>2531.480000</td>\n",
       "      <td>252.630000</td>\n",
       "      <td>751.095000</td>\n",
       "    </tr>\n",
       "    <tr>\n",
       "      <th>75%</th>\n",
       "      <td>105.2500</td>\n",
       "      <td>7.980000</td>\n",
       "      <td>3.765000</td>\n",
       "      <td>11.725000</td>\n",
       "      <td>23.205000</td>\n",
       "      <td>708.410000</td>\n",
       "      <td>3742.345000</td>\n",
       "      <td>363.645000</td>\n",
       "      <td>1398.822500</td>\n",
       "    </tr>\n",
       "    <tr>\n",
       "      <th>max</th>\n",
       "      <td>140.0000</td>\n",
       "      <td>9.970000</td>\n",
       "      <td>5.000000</td>\n",
       "      <td>14.940000</td>\n",
       "      <td>29.750000</td>\n",
       "      <td>997.260000</td>\n",
       "      <td>4932.780000</td>\n",
       "      <td>498.960000</td>\n",
       "      <td>2232.790000</td>\n",
       "    </tr>\n",
       "  </tbody>\n",
       "</table>\n",
       "</div>"
      ],
      "text/plain": [
       "             id          x1          x2          x3          x5          x6  \\\n",
       "count  140.0000  139.000000  140.000000  140.000000  140.000000  139.000000   \n",
       "mean    70.5000    5.287266    2.465643    7.749429   15.304143  485.509353   \n",
       "std     40.5586    2.989303    1.496873    4.542832    8.702078  280.528298   \n",
       "min      1.0000    0.190000    0.130000    0.100000    0.240000   31.440000   \n",
       "25%     35.7500    2.650000    1.207500    3.675000    8.040000  244.580000   \n",
       "50%     70.5000    5.640000    2.410000    8.395000   15.120000  479.280000   \n",
       "75%    105.2500    7.980000    3.765000   11.725000   23.205000  708.410000   \n",
       "max    140.0000    9.970000    5.000000   14.940000   29.750000  997.260000   \n",
       "\n",
       "                x7          x8            y  \n",
       "count   140.000000  140.000000   140.000000  \n",
       "mean   2572.986786  248.534500   746.765071  \n",
       "std    1395.140872  136.773126   756.563035  \n",
       "min      10.130000    1.610000  -788.810000  \n",
       "25%    1516.057500  141.067500    57.727500  \n",
       "50%    2531.480000  252.630000   751.095000  \n",
       "75%    3742.345000  363.645000  1398.822500  \n",
       "max    4932.780000  498.960000  2232.790000  "
      ]
     },
     "execution_count": 196,
     "metadata": {},
     "output_type": "execute_result"
    }
   ],
   "source": [
    "df.describe()\n"
   ]
  },
  {
   "cell_type": "code",
   "execution_count": 197,
   "metadata": {},
   "outputs": [
    {
     "data": {
      "text/html": [
       "<div>\n",
       "<style scoped>\n",
       "    .dataframe tbody tr th:only-of-type {\n",
       "        vertical-align: middle;\n",
       "    }\n",
       "\n",
       "    .dataframe tbody tr th {\n",
       "        vertical-align: top;\n",
       "    }\n",
       "\n",
       "    .dataframe thead th {\n",
       "        text-align: right;\n",
       "    }\n",
       "</style>\n",
       "<table border=\"1\" class=\"dataframe\">\n",
       "  <thead>\n",
       "    <tr style=\"text-align: right;\">\n",
       "      <th></th>\n",
       "      <th>id</th>\n",
       "      <th>x1</th>\n",
       "      <th>x2</th>\n",
       "      <th>x3</th>\n",
       "      <th>x5</th>\n",
       "      <th>x6</th>\n",
       "      <th>x7</th>\n",
       "      <th>x8</th>\n",
       "    </tr>\n",
       "  </thead>\n",
       "  <tbody>\n",
       "    <tr>\n",
       "      <th>count</th>\n",
       "      <td>10.00000</td>\n",
       "      <td>10.00000</td>\n",
       "      <td>10.000000</td>\n",
       "      <td>10.000000</td>\n",
       "      <td>10.000000</td>\n",
       "      <td>10.000000</td>\n",
       "      <td>10.000000</td>\n",
       "      <td>10.000000</td>\n",
       "    </tr>\n",
       "    <tr>\n",
       "      <th>mean</th>\n",
       "      <td>145.50000</td>\n",
       "      <td>5.56700</td>\n",
       "      <td>2.205000</td>\n",
       "      <td>12.007000</td>\n",
       "      <td>12.463000</td>\n",
       "      <td>431.335000</td>\n",
       "      <td>2359.366000</td>\n",
       "      <td>209.523000</td>\n",
       "    </tr>\n",
       "    <tr>\n",
       "      <th>std</th>\n",
       "      <td>3.02765</td>\n",
       "      <td>2.06472</td>\n",
       "      <td>1.286056</td>\n",
       "      <td>2.372093</td>\n",
       "      <td>7.100424</td>\n",
       "      <td>356.619432</td>\n",
       "      <td>1332.192635</td>\n",
       "      <td>115.635004</td>\n",
       "    </tr>\n",
       "    <tr>\n",
       "      <th>min</th>\n",
       "      <td>141.00000</td>\n",
       "      <td>0.79000</td>\n",
       "      <td>0.280000</td>\n",
       "      <td>7.340000</td>\n",
       "      <td>1.340000</td>\n",
       "      <td>14.130000</td>\n",
       "      <td>90.730000</td>\n",
       "      <td>14.340000</td>\n",
       "    </tr>\n",
       "    <tr>\n",
       "      <th>25%</th>\n",
       "      <td>143.25000</td>\n",
       "      <td>4.73750</td>\n",
       "      <td>1.310000</td>\n",
       "      <td>11.402500</td>\n",
       "      <td>7.442500</td>\n",
       "      <td>124.587500</td>\n",
       "      <td>1783.800000</td>\n",
       "      <td>127.727500</td>\n",
       "    </tr>\n",
       "    <tr>\n",
       "      <th>50%</th>\n",
       "      <td>145.50000</td>\n",
       "      <td>6.05000</td>\n",
       "      <td>2.200000</td>\n",
       "      <td>12.665000</td>\n",
       "      <td>12.470000</td>\n",
       "      <td>345.435000</td>\n",
       "      <td>2239.510000</td>\n",
       "      <td>207.870000</td>\n",
       "    </tr>\n",
       "    <tr>\n",
       "      <th>75%</th>\n",
       "      <td>147.75000</td>\n",
       "      <td>6.56000</td>\n",
       "      <td>3.247500</td>\n",
       "      <td>13.292500</td>\n",
       "      <td>17.292500</td>\n",
       "      <td>784.025000</td>\n",
       "      <td>3148.850000</td>\n",
       "      <td>306.847500</td>\n",
       "    </tr>\n",
       "    <tr>\n",
       "      <th>max</th>\n",
       "      <td>150.00000</td>\n",
       "      <td>8.11000</td>\n",
       "      <td>4.030000</td>\n",
       "      <td>14.760000</td>\n",
       "      <td>24.030000</td>\n",
       "      <td>928.120000</td>\n",
       "      <td>4770.950000</td>\n",
       "      <td>359.840000</td>\n",
       "    </tr>\n",
       "  </tbody>\n",
       "</table>\n",
       "</div>"
      ],
      "text/plain": [
       "              id        x1         x2         x3         x5          x6  \\\n",
       "count   10.00000  10.00000  10.000000  10.000000  10.000000   10.000000   \n",
       "mean   145.50000   5.56700   2.205000  12.007000  12.463000  431.335000   \n",
       "std      3.02765   2.06472   1.286056   2.372093   7.100424  356.619432   \n",
       "min    141.00000   0.79000   0.280000   7.340000   1.340000   14.130000   \n",
       "25%    143.25000   4.73750   1.310000  11.402500   7.442500  124.587500   \n",
       "50%    145.50000   6.05000   2.200000  12.665000  12.470000  345.435000   \n",
       "75%    147.75000   6.56000   3.247500  13.292500  17.292500  784.025000   \n",
       "max    150.00000   8.11000   4.030000  14.760000  24.030000  928.120000   \n",
       "\n",
       "                x7          x8  \n",
       "count    10.000000   10.000000  \n",
       "mean   2359.366000  209.523000  \n",
       "std    1332.192635  115.635004  \n",
       "min      90.730000   14.340000  \n",
       "25%    1783.800000  127.727500  \n",
       "50%    2239.510000  207.870000  \n",
       "75%    3148.850000  306.847500  \n",
       "max    4770.950000  359.840000  "
      ]
     },
     "execution_count": 197,
     "metadata": {},
     "output_type": "execute_result"
    }
   ],
   "source": [
    "df_unseen.describe()"
   ]
  },
  {
   "cell_type": "code",
   "execution_count": 198,
   "metadata": {},
   "outputs": [],
   "source": [
    "# delete id column\n",
    "# df = df.drop('id', axis=1)\n",
    "# df_unseen = df_unseen.drop('id', axis=1)"
   ]
  },
  {
   "cell_type": "code",
   "execution_count": 199,
   "metadata": {},
   "outputs": [],
   "source": [
    "# insert null value with mean x1\n",
    "df['x1'].fillna(df['x1'].mean(), inplace=True)\n",
    "# drop null value in x1\n",
    "# df.dropna(subset=['x1'], inplace=True)"
   ]
  },
  {
   "cell_type": "code",
   "execution_count": 200,
   "metadata": {},
   "outputs": [
    {
     "name": "stdout",
     "output_type": "stream",
     "text": [
      "<class 'pandas.core.frame.DataFrame'>\n",
      "RangeIndex: 140 entries, 0 to 139\n",
      "Data columns (total 10 columns):\n",
      " #   Column  Non-Null Count  Dtype  \n",
      "---  ------  --------------  -----  \n",
      " 0   id      140 non-null    int64  \n",
      " 1   x1      140 non-null    float64\n",
      " 2   x2      140 non-null    float64\n",
      " 3   x3      140 non-null    float64\n",
      " 4   x4      140 non-null    object \n",
      " 5   x5      140 non-null    float64\n",
      " 6   x6      139 non-null    float64\n",
      " 7   x7      140 non-null    float64\n",
      " 8   x8      140 non-null    float64\n",
      " 9   y       140 non-null    float64\n",
      "dtypes: float64(8), int64(1), object(1)\n",
      "memory usage: 11.1+ KB\n"
     ]
    }
   ],
   "source": [
    "df.info()"
   ]
  },
  {
   "cell_type": "code",
   "execution_count": 201,
   "metadata": {},
   "outputs": [],
   "source": [
    "# insert null value with mean x6\n",
    "df['x6'].fillna(df['x6'].mean(), inplace=True)\n",
    "# drop null value in x6\n",
    "# df.dropna(subset=['x6'], inplace=True)"
   ]
  },
  {
   "cell_type": "code",
   "execution_count": 202,
   "metadata": {},
   "outputs": [
    {
     "name": "stdout",
     "output_type": "stream",
     "text": [
      "<class 'pandas.core.frame.DataFrame'>\n",
      "RangeIndex: 140 entries, 0 to 139\n",
      "Data columns (total 10 columns):\n",
      " #   Column  Non-Null Count  Dtype  \n",
      "---  ------  --------------  -----  \n",
      " 0   id      140 non-null    int64  \n",
      " 1   x1      140 non-null    float64\n",
      " 2   x2      140 non-null    float64\n",
      " 3   x3      140 non-null    float64\n",
      " 4   x4      140 non-null    object \n",
      " 5   x5      140 non-null    float64\n",
      " 6   x6      140 non-null    float64\n",
      " 7   x7      140 non-null    float64\n",
      " 8   x8      140 non-null    float64\n",
      " 9   y       140 non-null    float64\n",
      "dtypes: float64(8), int64(1), object(1)\n",
      "memory usage: 11.1+ KB\n"
     ]
    }
   ],
   "source": [
    "df.info()"
   ]
  },
  {
   "cell_type": "code",
   "execution_count": 203,
   "metadata": {},
   "outputs": [
    {
     "data": {
      "text/plain": [
       "<seaborn.axisgrid.PairGrid at 0x184bd0ad510>"
      ]
     },
     "execution_count": 203,
     "metadata": {},
     "output_type": "execute_result"
    },
    {
     "data": {
      "image/png": "[encoded data removed]",
      "text/plain": [
       "<Figure size 2500x250 with 11 Axes>"
      ]
     },
     "metadata": {},
     "output_type": "display_data"
    }
   ],
   "source": [
    "# check data exploration\n",
    "sns.pairplot(df, x_vars=df.columns, y_vars=[\"y\"])"
   ]
  },
  {
   "cell_type": "code",
   "execution_count": 204,
   "metadata": {},
   "outputs": [
    {
     "name": "stderr",
     "output_type": "stream",
     "text": [
      "C:\\Users\\ASUS\\AppData\\Local\\Temp\\ipykernel_17880\\1238583701.py:1: UserWarning: \n",
      "\n",
      "`distplot` is a deprecated function and will be removed in seaborn v0.14.0.\n",
      "\n",
      "Please adapt your code to use either `displot` (a figure-level function with\n",
      "similar flexibility) or `histplot` (an axes-level function for histograms).\n",
      "\n",
      "For a guide to updating your code to use the new functions, please see\n",
      "https://gist.github.com/mwaskom/de44147ed2974457ad6372750bbe5751\n",
      "\n",
      "  sns.distplot(df['y'])\n"
     ]
    },
    {
     "data": {
      "text/plain": [
       "<AxesSubplot: xlabel='y', ylabel='Density'>"
      ]
     },
     "execution_count": 204,
     "metadata": {},
     "output_type": "execute_result"
    },
    {
     "data": {
      "image/png": "[encoded data removed]",
      "text/plain": [
       "<Figure size 640x480 with 1 Axes>"
      ]
     },
     "metadata": {},
     "output_type": "display_data"
    }
   ],
   "source": [
    "sns.distplot(df['y'])"
   ]
  },
  {
   "cell_type": "code",
   "execution_count": 205,
   "metadata": {},
   "outputs": [
    {
     "name": "stderr",
     "output_type": "stream",
     "text": [
      "C:\\Users\\ASUS\\AppData\\Local\\Temp\\ipykernel_17880\\291646549.py:5: FutureWarning: The default value of numeric_only in DataFrame.corr is deprecated. In a future version, it will default to False. Select only valid columns or specify the value of numeric_only to silence this warning.\n",
      "  df.corr()\n"
     ]
    },
    {
     "data": {
      "text/html": [
       "<div>\n",
       "<style scoped>\n",
       "    .dataframe tbody tr th:only-of-type {\n",
       "        vertical-align: middle;\n",
       "    }\n",
       "\n",
       "    .dataframe tbody tr th {\n",
       "        vertical-align: top;\n",
       "    }\n",
       "\n",
       "    .dataframe thead th {\n",
       "        text-align: right;\n",
       "    }\n",
       "</style>\n",
       "<table border=\"1\" class=\"dataframe\">\n",
       "  <thead>\n",
       "    <tr style=\"text-align: right;\">\n",
       "      <th></th>\n",
       "      <th>id</th>\n",
       "      <th>x1</th>\n",
       "      <th>x2</th>\n",
       "      <th>x3</th>\n",
       "      <th>x5</th>\n",
       "      <th>x6</th>\n",
       "      <th>x7</th>\n",
       "      <th>x8</th>\n",
       "      <th>y</th>\n",
       "    </tr>\n",
       "  </thead>\n",
       "  <tbody>\n",
       "    <tr>\n",
       "      <th>id</th>\n",
       "      <td>1.000000</td>\n",
       "      <td>-0.094935</td>\n",
       "      <td>-0.002113</td>\n",
       "      <td>-0.050251</td>\n",
       "      <td>0.007897</td>\n",
       "      <td>0.046174</td>\n",
       "      <td>-0.075041</td>\n",
       "      <td>-0.150174</td>\n",
       "      <td>-0.138234</td>\n",
       "    </tr>\n",
       "    <tr>\n",
       "      <th>x1</th>\n",
       "      <td>-0.094935</td>\n",
       "      <td>1.000000</td>\n",
       "      <td>-0.078729</td>\n",
       "      <td>-0.064133</td>\n",
       "      <td>-0.072058</td>\n",
       "      <td>0.008397</td>\n",
       "      <td>0.127196</td>\n",
       "      <td>-0.058470</td>\n",
       "      <td>-0.025030</td>\n",
       "    </tr>\n",
       "    <tr>\n",
       "      <th>x2</th>\n",
       "      <td>-0.002113</td>\n",
       "      <td>-0.078729</td>\n",
       "      <td>1.000000</td>\n",
       "      <td>-0.005577</td>\n",
       "      <td>-0.055523</td>\n",
       "      <td>0.037925</td>\n",
       "      <td>0.006289</td>\n",
       "      <td>-0.037747</td>\n",
       "      <td>-0.054242</td>\n",
       "    </tr>\n",
       "    <tr>\n",
       "      <th>x3</th>\n",
       "      <td>-0.050251</td>\n",
       "      <td>-0.064133</td>\n",
       "      <td>-0.005577</td>\n",
       "      <td>1.000000</td>\n",
       "      <td>0.025709</td>\n",
       "      <td>0.164306</td>\n",
       "      <td>-0.073397</td>\n",
       "      <td>0.081529</td>\n",
       "      <td>0.064706</td>\n",
       "    </tr>\n",
       "    <tr>\n",
       "      <th>x5</th>\n",
       "      <td>0.007897</td>\n",
       "      <td>-0.072058</td>\n",
       "      <td>-0.055523</td>\n",
       "      <td>0.025709</td>\n",
       "      <td>1.000000</td>\n",
       "      <td>-0.035199</td>\n",
       "      <td>-0.006246</td>\n",
       "      <td>-0.098508</td>\n",
       "      <td>-0.431582</td>\n",
       "    </tr>\n",
       "    <tr>\n",
       "      <th>x6</th>\n",
       "      <td>0.046174</td>\n",
       "      <td>0.008397</td>\n",
       "      <td>0.037925</td>\n",
       "      <td>0.164306</td>\n",
       "      <td>-0.035199</td>\n",
       "      <td>1.000000</td>\n",
       "      <td>-0.016818</td>\n",
       "      <td>-0.162926</td>\n",
       "      <td>-0.136618</td>\n",
       "    </tr>\n",
       "    <tr>\n",
       "      <th>x7</th>\n",
       "      <td>-0.075041</td>\n",
       "      <td>0.127196</td>\n",
       "      <td>0.006289</td>\n",
       "      <td>-0.073397</td>\n",
       "      <td>-0.006246</td>\n",
       "      <td>-0.016818</td>\n",
       "      <td>1.000000</td>\n",
       "      <td>-0.012542</td>\n",
       "      <td>-0.009634</td>\n",
       "    </tr>\n",
       "    <tr>\n",
       "      <th>x8</th>\n",
       "      <td>-0.150174</td>\n",
       "      <td>-0.058470</td>\n",
       "      <td>-0.037747</td>\n",
       "      <td>0.081529</td>\n",
       "      <td>-0.098508</td>\n",
       "      <td>-0.162926</td>\n",
       "      <td>-0.012542</td>\n",
       "      <td>1.000000</td>\n",
       "      <td>0.939352</td>\n",
       "    </tr>\n",
       "    <tr>\n",
       "      <th>y</th>\n",
       "      <td>-0.138234</td>\n",
       "      <td>-0.025030</td>\n",
       "      <td>-0.054242</td>\n",
       "      <td>0.064706</td>\n",
       "      <td>-0.431582</td>\n",
       "      <td>-0.136618</td>\n",
       "      <td>-0.009634</td>\n",
       "      <td>0.939352</td>\n",
       "      <td>1.000000</td>\n",
       "    </tr>\n",
       "  </tbody>\n",
       "</table>\n",
       "</div>"
      ],
      "text/plain": [
       "          id        x1        x2        x3        x5        x6        x7  \\\n",
       "id  1.000000 -0.094935 -0.002113 -0.050251  0.007897  0.046174 -0.075041   \n",
       "x1 -0.094935  1.000000 -0.078729 -0.064133 -0.072058  0.008397  0.127196   \n",
       "x2 -0.002113 -0.078729  1.000000 -0.005577 -0.055523  0.037925  0.006289   \n",
       "x3 -0.050251 -0.064133 -0.005577  1.000000  0.025709  0.164306 -0.073397   \n",
       "x5  0.007897 -0.072058 -0.055523  0.025709  1.000000 -0.035199 -0.006246   \n",
       "x6  0.046174  0.008397  0.037925  0.164306 -0.035199  1.000000 -0.016818   \n",
       "x7 -0.075041  0.127196  0.006289 -0.073397 -0.006246 -0.016818  1.000000   \n",
       "x8 -0.150174 -0.058470 -0.037747  0.081529 -0.098508 -0.162926 -0.012542   \n",
       "y  -0.138234 -0.025030 -0.054242  0.064706 -0.431582 -0.136618 -0.009634   \n",
       "\n",
       "          x8         y  \n",
       "id -0.150174 -0.138234  \n",
       "x1 -0.058470 -0.025030  \n",
       "x2 -0.037747 -0.054242  \n",
       "x3  0.081529  0.064706  \n",
       "x5 -0.098508 -0.431582  \n",
       "x6 -0.162926 -0.136618  \n",
       "x7 -0.012542 -0.009634  \n",
       "x8  1.000000  0.939352  \n",
       "y   0.939352  1.000000  "
      ]
     },
     "execution_count": 205,
     "metadata": {},
     "output_type": "execute_result"
    }
   ],
   "source": [
    "# choose x5,(x6 is bairly), x8 as feature\n",
    "# x5 = \t-0.431582\n",
    "# x6 = \t-0.136618\n",
    "# x8 =   0.939352\n",
    "df.corr()"
   ]
  },
  {
   "cell_type": "code",
   "execution_count": 206,
   "metadata": {},
   "outputs": [
    {
     "name": "stderr",
     "output_type": "stream",
     "text": [
      "C:\\Users\\ASUS\\AppData\\Local\\Temp\\ipykernel_17880\\58359773.py:1: FutureWarning: The default value of numeric_only in DataFrame.corr is deprecated. In a future version, it will default to False. Select only valid columns or specify the value of numeric_only to silence this warning.\n",
      "  sns.heatmap(df.corr())\n"
     ]
    },
    {
     "data": {
      "text/plain": [
       "<AxesSubplot: >"
      ]
     },
     "execution_count": 206,
     "metadata": {},
     "output_type": "execute_result"
    },
    {
     "data": {
      "image/png": "[encoded data removed]",
      "text/plain": [
       "<Figure size 640x480 with 2 Axes>"
      ]
     },
     "metadata": {},
     "output_type": "display_data"
    }
   ],
   "source": [
    "sns.heatmap(df.corr())"
   ]
  },
  {
   "cell_type": "code",
   "execution_count": 207,
   "metadata": {},
   "outputs": [
    {
     "name": "stderr",
     "output_type": "stream",
     "text": [
      "C:\\Users\\ASUS\\AppData\\Local\\Temp\\ipykernel_17880\\4150759196.py:1: FutureWarning: The default value of numeric_only in DataFrame.corr is deprecated. In a future version, it will default to False. Select only valid columns or specify the value of numeric_only to silence this warning.\n",
      "  df.corr().apply(lambda x:abs(x)).sort_values(\"y\", ascending=False)[[\"y\"]]\n"
     ]
    },
    {
     "data": {
      "text/html": [
       "<div>\n",
       "<style scoped>\n",
       "    .dataframe tbody tr th:only-of-type {\n",
       "        vertical-align: middle;\n",
       "    }\n",
       "\n",
       "    .dataframe tbody tr th {\n",
       "        vertical-align: top;\n",
       "    }\n",
       "\n",
       "    .dataframe thead th {\n",
       "        text-align: right;\n",
       "    }\n",
       "</style>\n",
       "<table border=\"1\" class=\"dataframe\">\n",
       "  <thead>\n",
       "    <tr style=\"text-align: right;\">\n",
       "      <th></th>\n",
       "      <th>y</th>\n",
       "    </tr>\n",
       "  </thead>\n",
       "  <tbody>\n",
       "    <tr>\n",
       "      <th>y</th>\n",
       "      <td>1.000000</td>\n",
       "    </tr>\n",
       "    <tr>\n",
       "      <th>x8</th>\n",
       "      <td>0.939352</td>\n",
       "    </tr>\n",
       "    <tr>\n",
       "      <th>x5</th>\n",
       "      <td>0.431582</td>\n",
       "    </tr>\n",
       "    <tr>\n",
       "      <th>id</th>\n",
       "      <td>0.138234</td>\n",
       "    </tr>\n",
       "    <tr>\n",
       "      <th>x6</th>\n",
       "      <td>0.136618</td>\n",
       "    </tr>\n",
       "    <tr>\n",
       "      <th>x3</th>\n",
       "      <td>0.064706</td>\n",
       "    </tr>\n",
       "    <tr>\n",
       "      <th>x2</th>\n",
       "      <td>0.054242</td>\n",
       "    </tr>\n",
       "    <tr>\n",
       "      <th>x1</th>\n",
       "      <td>0.025030</td>\n",
       "    </tr>\n",
       "    <tr>\n",
       "      <th>x7</th>\n",
       "      <td>0.009634</td>\n",
       "    </tr>\n",
       "  </tbody>\n",
       "</table>\n",
       "</div>"
      ],
      "text/plain": [
       "           y\n",
       "y   1.000000\n",
       "x8  0.939352\n",
       "x5  0.431582\n",
       "id  0.138234\n",
       "x6  0.136618\n",
       "x3  0.064706\n",
       "x2  0.054242\n",
       "x1  0.025030\n",
       "x7  0.009634"
      ]
     },
     "execution_count": 207,
     "metadata": {},
     "output_type": "execute_result"
    }
   ],
   "source": [
    "df.corr().apply(lambda x:abs(x)).sort_values(\"y\", ascending=False)[[\"y\"]]"
   ]
  },
  {
   "cell_type": "code",
   "execution_count": 208,
   "metadata": {},
   "outputs": [
    {
     "data": {
      "text/plain": [
       "<seaborn.axisgrid.PairGrid at 0x184bf72b670>"
      ]
     },
     "execution_count": 208,
     "metadata": {},
     "output_type": "execute_result"
    },
    {
     "data": {
      "image/png": "[encoded data removed]",
      "text/plain": [
       "<Figure size 750x250 with 3 Axes>"
      ]
     },
     "metadata": {},
     "output_type": "display_data"
    }
   ],
   "source": [
    "selectColumns = ['x8','x5','x2']\n",
    "sns.pairplot(df, x_vars=selectColumns, y_vars=[\"y\"])"
   ]
  },
  {
   "attachments": {},
   "cell_type": "markdown",
   "metadata": {},
   "source": [
    "## Select Data"
   ]
  },
  {
   "cell_type": "code",
   "execution_count": 209,
   "metadata": {},
   "outputs": [],
   "source": [
    "X = df[selectColumns]\n",
    "y = df[\"y\"]"
   ]
  },
  {
   "cell_type": "code",
   "execution_count": 210,
   "metadata": {},
   "outputs": [
    {
     "data": {
      "text/html": [
       "<div>\n",
       "<style scoped>\n",
       "    .dataframe tbody tr th:only-of-type {\n",
       "        vertical-align: middle;\n",
       "    }\n",
       "\n",
       "    .dataframe tbody tr th {\n",
       "        vertical-align: top;\n",
       "    }\n",
       "\n",
       "    .dataframe thead th {\n",
       "        text-align: right;\n",
       "    }\n",
       "</style>\n",
       "<table border=\"1\" class=\"dataframe\">\n",
       "  <thead>\n",
       "    <tr style=\"text-align: right;\">\n",
       "      <th></th>\n",
       "      <th>x8</th>\n",
       "      <th>x5</th>\n",
       "      <th>x2</th>\n",
       "    </tr>\n",
       "  </thead>\n",
       "  <tbody>\n",
       "    <tr>\n",
       "      <th>0</th>\n",
       "      <td>152.16</td>\n",
       "      <td>1.23</td>\n",
       "      <td>3.02</td>\n",
       "    </tr>\n",
       "    <tr>\n",
       "      <th>1</th>\n",
       "      <td>336.24</td>\n",
       "      <td>23.34</td>\n",
       "      <td>3.03</td>\n",
       "    </tr>\n",
       "    <tr>\n",
       "      <th>2</th>\n",
       "      <td>369.86</td>\n",
       "      <td>5.39</td>\n",
       "      <td>3.54</td>\n",
       "    </tr>\n",
       "    <tr>\n",
       "      <th>3</th>\n",
       "      <td>226.97</td>\n",
       "      <td>23.59</td>\n",
       "      <td>0.23</td>\n",
       "    </tr>\n",
       "    <tr>\n",
       "      <th>4</th>\n",
       "      <td>339.87</td>\n",
       "      <td>4.36</td>\n",
       "      <td>2.29</td>\n",
       "    </tr>\n",
       "    <tr>\n",
       "      <th>...</th>\n",
       "      <td>...</td>\n",
       "      <td>...</td>\n",
       "      <td>...</td>\n",
       "    </tr>\n",
       "    <tr>\n",
       "      <th>135</th>\n",
       "      <td>22.59</td>\n",
       "      <td>5.59</td>\n",
       "      <td>1.00</td>\n",
       "    </tr>\n",
       "    <tr>\n",
       "      <th>136</th>\n",
       "      <td>65.16</td>\n",
       "      <td>27.85</td>\n",
       "      <td>1.96</td>\n",
       "    </tr>\n",
       "    <tr>\n",
       "      <th>137</th>\n",
       "      <td>175.38</td>\n",
       "      <td>23.16</td>\n",
       "      <td>4.53</td>\n",
       "    </tr>\n",
       "    <tr>\n",
       "      <th>138</th>\n",
       "      <td>14.51</td>\n",
       "      <td>21.93</td>\n",
       "      <td>2.60</td>\n",
       "    </tr>\n",
       "    <tr>\n",
       "      <th>139</th>\n",
       "      <td>264.79</td>\n",
       "      <td>8.07</td>\n",
       "      <td>1.07</td>\n",
       "    </tr>\n",
       "  </tbody>\n",
       "</table>\n",
       "<p>140 rows × 3 columns</p>\n",
       "</div>"
      ],
      "text/plain": [
       "         x8     x5    x2\n",
       "0    152.16   1.23  3.02\n",
       "1    336.24  23.34  3.03\n",
       "2    369.86   5.39  3.54\n",
       "3    226.97  23.59  0.23\n",
       "4    339.87   4.36  2.29\n",
       "..      ...    ...   ...\n",
       "135   22.59   5.59  1.00\n",
       "136   65.16  27.85  1.96\n",
       "137  175.38  23.16  4.53\n",
       "138   14.51  21.93  2.60\n",
       "139  264.79   8.07  1.07\n",
       "\n",
       "[140 rows x 3 columns]"
      ]
     },
     "execution_count": 210,
     "metadata": {},
     "output_type": "execute_result"
    }
   ],
   "source": [
    "X"
   ]
  },
  {
   "cell_type": "code",
   "execution_count": 211,
   "metadata": {},
   "outputs": [
    {
     "data": {
      "text/plain": [
       "0       674.74\n",
       "1       931.36\n",
       "2      1630.72\n",
       "3       433.03\n",
       "4      1534.46\n",
       "        ...   \n",
       "135     -63.60\n",
       "136    -534.80\n",
       "137     106.00\n",
       "138    -624.54\n",
       "139    1072.51\n",
       "Name: y, Length: 140, dtype: float64"
      ]
     },
     "execution_count": 211,
     "metadata": {},
     "output_type": "execute_result"
    }
   ],
   "source": [
    "y"
   ]
  },
  {
   "attachments": {},
   "cell_type": "markdown",
   "metadata": {},
   "source": [
    "## Train with split"
   ]
  },
  {
   "cell_type": "code",
   "execution_count": 212,
   "metadata": {},
   "outputs": [],
   "source": [
    "# Randome train test split\n",
    "X_train, X_test, y_train, y_test = train_test_split(X, y, test_size=0.25, random_state=100)"
   ]
  },
  {
   "cell_type": "code",
   "execution_count": 213,
   "metadata": {},
   "outputs": [
    {
     "data": {
      "text/plain": [
       "139    1072.51\n",
       "97      -36.08\n",
       "134    1144.33\n",
       "110     418.47\n",
       "81     1680.60\n",
       "26     1478.49\n",
       "35      577.57\n",
       "32     1336.41\n",
       "84     1845.84\n",
       "95     1653.14\n",
       "25     1513.45\n",
       "69     1402.55\n",
       "40      550.98\n",
       "28      881.35\n",
       "125     669.76\n",
       "133    1835.40\n",
       "99     1441.76\n",
       "117    1408.51\n",
       "11     1521.47\n",
       "46     -138.66\n",
       "51      107.39\n",
       "101     -88.54\n",
       "136    -534.80\n",
       "121    1037.48\n",
       "37     -113.48\n",
       "21      -95.91\n",
       "89     2104.99\n",
       "119     859.35\n",
       "118    -498.79\n",
       "29     1730.62\n",
       "96     1104.64\n",
       "52      534.32\n",
       "45      604.51\n",
       "106     817.48\n",
       "92     1336.14\n",
       "Name: y, dtype: float64"
      ]
     },
     "execution_count": 213,
     "metadata": {},
     "output_type": "execute_result"
    }
   ],
   "source": [
    "y_test"
   ]
  },
  {
   "cell_type": "code",
   "execution_count": 214,
   "metadata": {},
   "outputs": [
    {
     "name": "stdout",
     "output_type": "stream",
     "text": [
      "len(X_train) :  105\n",
      "len(X_test) :  35\n",
      "len(y_train) :  105\n",
      "len(y_test) :  35\n"
     ]
    }
   ],
   "source": [
    "print(\"len(X_train) : \", len(X_train))\n",
    "print(\"len(X_test) : \", len(X_test))\n",
    "print(\"len(y_train) : \", len(y_train))\n",
    "print(\"len(y_test) : \", len(y_test))"
   ]
  },
  {
   "cell_type": "code",
   "execution_count": 215,
   "metadata": {},
   "outputs": [
    {
     "data": {
      "text/html": [
       "<style>#sk-container-id-5 {color: black;background-color: white;}#sk-container-id-5 pre{padding: 0;}#sk-container-id-5 div.sk-toggleable {background-color: white;}#sk-container-id-5 label.sk-toggleable__label {cursor: pointer;display: block;width: 100%;margin-bottom: 0;padding: 0.3em;box-sizing: border-box;text-align: center;}#sk-container-id-5 label.sk-toggleable__label-arrow:before {content: \"▸\";float: left;margin-right: 0.25em;color: #696969;}#sk-container-id-5 label.sk-toggleable__label-arrow:hover:before {color: black;}#sk-container-id-5 div.sk-estimator:hover label.sk-toggleable__label-arrow:before {color: black;}#sk-container-id-5 div.sk-toggleable__content {max-height: 0;max-width: 0;overflow: hidden;text-align: left;background-color: #f0f8ff;}#sk-container-id-5 div.sk-toggleable__content pre {margin: 0.2em;color: black;border-radius: 0.25em;background-color: #f0f8ff;}#sk-container-id-5 input.sk-toggleable__control:checked~div.sk-toggleable__content {max-height: 200px;max-width: 100%;overflow: auto;}#sk-container-id-5 input.sk-toggleable__control:checked~label.sk-toggleable__label-arrow:before {content: \"▾\";}#sk-container-id-5 div.sk-estimator input.sk-toggleable__control:checked~label.sk-toggleable__label {background-color: #d4ebff;}#sk-container-id-5 div.sk-label input.sk-toggleable__control:checked~label.sk-toggleable__label {background-color: #d4ebff;}#sk-container-id-5 input.sk-hidden--visually {border: 0;clip: rect(1px 1px 1px 1px);clip: rect(1px, 1px, 1px, 1px);height: 1px;margin: -1px;overflow: hidden;padding: 0;position: absolute;width: 1px;}#sk-container-id-5 div.sk-estimator {font-family: monospace;background-color: #f0f8ff;border: 1px dotted black;border-radius: 0.25em;box-sizing: border-box;margin-bottom: 0.5em;}#sk-container-id-5 div.sk-estimator:hover {background-color: #d4ebff;}#sk-container-id-5 div.sk-parallel-item::after {content: \"\";width: 100%;border-bottom: 1px solid gray;flex-grow: 1;}#sk-container-id-5 div.sk-label:hover label.sk-toggleable__label {background-color: #d4ebff;}#sk-container-id-5 div.sk-serial::before {content: \"\";position: absolute;border-left: 1px solid gray;box-sizing: border-box;top: 0;bottom: 0;left: 50%;z-index: 0;}#sk-container-id-5 div.sk-serial {display: flex;flex-direction: column;align-items: center;background-color: white;padding-right: 0.2em;padding-left: 0.2em;position: relative;}#sk-container-id-5 div.sk-item {position: relative;z-index: 1;}#sk-container-id-5 div.sk-parallel {display: flex;align-items: stretch;justify-content: center;background-color: white;position: relative;}#sk-container-id-5 div.sk-item::before, #sk-container-id-5 div.sk-parallel-item::before {content: \"\";position: absolute;border-left: 1px solid gray;box-sizing: border-box;top: 0;bottom: 0;left: 50%;z-index: -1;}#sk-container-id-5 div.sk-parallel-item {display: flex;flex-direction: column;z-index: 1;position: relative;background-color: white;}#sk-container-id-5 div.sk-parallel-item:first-child::after {align-self: flex-end;width: 50%;}#sk-container-id-5 div.sk-parallel-item:last-child::after {align-self: flex-start;width: 50%;}#sk-container-id-5 div.sk-parallel-item:only-child::after {width: 0;}#sk-container-id-5 div.sk-dashed-wrapped {border: 1px dashed gray;margin: 0 0.4em 0.5em 0.4em;box-sizing: border-box;padding-bottom: 0.4em;background-color: white;}#sk-container-id-5 div.sk-label label {font-family: monospace;font-weight: bold;display: inline-block;line-height: 1.2em;}#sk-container-id-5 div.sk-label-container {text-align: center;}#sk-container-id-5 div.sk-container {/* jupyter's `normalize.less` sets `[hidden] { display: none; }` but bootstrap.min.css set `[hidden] { display: none !important; }` so we also need the `!important` here to be able to override the default hidden behavior on the sphinx rendered scikit-learn.org. See: https://github.com/scikit-learn/scikit-learn/issues/21755 */display: inline-block !important;position: relative;}#sk-container-id-5 div.sk-text-repr-fallback {display: none;}</style><div id=\"sk-container-id-5\" class=\"sk-top-container\"><div class=\"sk-text-repr-fallback\"><pre>LinearRegression()</pre><b>In a Jupyter environment, please rerun this cell to show the HTML representation or trust the notebook. <br />On GitHub, the HTML representation is unable to render, please try loading this page with nbviewer.org.</b></div><div class=\"sk-container\" hidden><div class=\"sk-item\"><div class=\"sk-estimator sk-toggleable\"><input class=\"sk-toggleable__control sk-hidden--visually\" id=\"sk-estimator-id-5\" type=\"checkbox\" checked><label for=\"sk-estimator-id-5\" class=\"sk-toggleable__label sk-toggleable__label-arrow\">LinearRegression</label><div class=\"sk-toggleable__content\"><pre>LinearRegression()</pre></div></div></div></div></div>"
      ],
      "text/plain": [
       "LinearRegression()"
      ]
     },
     "execution_count": 215,
     "metadata": {},
     "output_type": "execute_result"
    }
   ],
   "source": [
    "lm = LinearRegression()\n",
    "lm.fit(X_train,y_train)"
   ]
  },
  {
   "cell_type": "code",
   "execution_count": 216,
   "metadata": {},
   "outputs": [
    {
     "name": "stdout",
     "output_type": "stream",
     "text": [
      "LM MODEL\n",
      "\n",
      "y =\n",
      " 4.999875857148001 * x8    +\n",
      " -29.970186316355285 * x5    +\n",
      " -19.809073054112773 * x2    +\n",
      " 11.626251605815241\n"
     ]
    }
   ],
   "source": [
    "print(\"LM MODEL\")\n",
    "print(\"\")\n",
    "print(y.name, \"=\")\n",
    "for i in range(0, len(X.columns)):\n",
    "    print(\"\", lm.coef_[i], \"*\", X.columns[i], \"   +\")\n",
    "print(\"\", lm.intercept_)"
   ]
  },
  {
   "cell_type": "code",
   "execution_count": 217,
   "metadata": {},
   "outputs": [],
   "source": [
    "y_pred = lm.predict(X_test)"
   ]
  },
  {
   "cell_type": "code",
   "execution_count": 218,
   "metadata": {},
   "outputs": [
    {
     "data": {
      "text/plain": [
       "array([1072.48826808,  -37.46496942, 1144.53161984,  421.12621919,\n",
       "       1682.62286215, 1479.76069381,  578.02741643, 1337.90563564,\n",
       "       1845.6634581 , 1654.40959798, 1511.72946981, 1400.62754077,\n",
       "        549.57513783,  883.79139238,  668.92645741, 1833.72756564,\n",
       "       1439.33648965, 1405.76265142, 1522.81325285, -138.86303114,\n",
       "        108.04899778,  -87.37716258, -536.07730964, 1037.5973532 ,\n",
       "       -113.16904827,  -97.6838037 , 2104.06560297,  859.03260971,\n",
       "       -498.20802866, 1729.79049957, 1105.1357441 ,  534.88375428,\n",
       "        604.36859127,  818.84797744, 1336.47646424])"
      ]
     },
     "execution_count": 218,
     "metadata": {},
     "output_type": "execute_result"
    }
   ],
   "source": [
    "y_pred"
   ]
  },
  {
   "cell_type": "code",
   "execution_count": 219,
   "metadata": {},
   "outputs": [
    {
     "data": {
      "text/plain": [
       "<matplotlib.collections.PathCollection at 0x184bf79e5c0>"
      ]
     },
     "execution_count": 219,
     "metadata": {},
     "output_type": "execute_result"
    },
    {
     "data": {
      "image/png": "[encoded data removed]",
      "text/plain": [
       "<Figure size 640x480 with 1 Axes>"
      ]
     },
     "metadata": {},
     "output_type": "display_data"
    }
   ],
   "source": [
    "plt.scatter(y_test,y_pred)"
   ]
  },
  {
   "cell_type": "code",
   "execution_count": 220,
   "metadata": {},
   "outputs": [
    {
     "name": "stdout",
     "output_type": "stream",
     "text": [
      "RMSE =  1.34572764338823\n"
     ]
    }
   ],
   "source": [
    "rmse = metrics.mean_squared_error(y_test, y_pred, squared=False)\n",
    "print(\"RMSE = \", rmse)"
   ]
  },
  {
   "cell_type": "code",
   "execution_count": 221,
   "metadata": {},
   "outputs": [
    {
     "name": "stdout",
     "output_type": "stream",
     "text": [
      "MAPE =  0.328151801316973 %\n"
     ]
    }
   ],
   "source": [
    "mape = np.mean(np.abs((y_test - y_pred) / y_test)) * 100\n",
    "print(\"MAPE = \", mape, \"%\")"
   ]
  },
  {
   "cell_type": "code",
   "execution_count": 222,
   "metadata": {},
   "outputs": [],
   "source": [
    "# predict unseen data\n",
    "y_unseen_pred = lm.predict(df_unseen[selectColumns]);"
   ]
  },
  {
   "cell_type": "code",
   "execution_count": 223,
   "metadata": {},
   "outputs": [
    {
     "data": {
      "text/plain": [
       "array([ 108.53661085, 1568.5321461 ,  396.61645561,  234.03218811,\n",
       "       1056.07975291, -343.43252846,  782.69669962,  857.48749597,\n",
       "       1321.87803028,  437.75117578])"
      ]
     },
     "execution_count": 223,
     "metadata": {},
     "output_type": "execute_result"
    }
   ],
   "source": [
    "y_unseen_pred"
   ]
  },
  {
   "attachments": {},
   "cell_type": "markdown",
   "metadata": {},
   "source": [
    "## K-fold"
   ]
  },
  {
   "cell_type": "code",
   "execution_count": 224,
   "metadata": {},
   "outputs": [],
   "source": [
    "from sklearn.model_selection import KFold\n",
    "from sklearn.preprocessing import StandardScaler\n",
    "from sklearn.linear_model import LinearRegression\n",
    "from sklearn.metrics import mean_squared_error"
   ]
  },
  {
   "cell_type": "code",
   "execution_count": 225,
   "metadata": {},
   "outputs": [],
   "source": [
    "X = df[selectColumns]\n",
    "y = df[\"y\"]"
   ]
  },
  {
   "cell_type": "code",
   "execution_count": 226,
   "metadata": {},
   "outputs": [],
   "source": [
    "k = 5\n",
    "kf = KFold(n_splits=k)"
   ]
  },
  {
   "cell_type": "code",
   "execution_count": 227,
   "metadata": {},
   "outputs": [
    {
     "name": "stdout",
     "output_type": "stream",
     "text": [
      "Round 1\n",
      "  intercept:  11.70167314666105  ; coef:  [  5.00069882 -29.97206744 -19.84457706]\n",
      "  RMSE =  1.6345795653254571\n",
      "------------------------------------\n",
      "Round 2\n",
      "  intercept:  11.291018025127755  ; coef:  [  5.00125874 -29.97524016 -19.81397509]\n",
      "  RMSE =  1.4943624415959693\n",
      "------------------------------------\n",
      "Round 3\n",
      "  intercept:  11.772463959177003  ; coef:  [  4.99920066 -29.9702072  -19.83391026]\n",
      "  RMSE =  1.577240138298873\n",
      "------------------------------------\n",
      "Round 4\n",
      "  intercept:  11.7359738971752  ; coef:  [  4.99943235 -29.96478853 -19.82965508]\n",
      "  RMSE =  1.4640186304187097\n",
      "------------------------------------\n",
      "Round 5\n",
      "  intercept:  11.838050751390142  ; coef:  [  4.99961938 -29.96809275 -19.88356151]\n",
      "  RMSE =  1.2095078703617719\n",
      "------------------------------------\n"
     ]
    }
   ],
   "source": [
    "round_num = 1\n",
    "RMSEs = []\n",
    "\n",
    "for train_index, test_index in kf.split(X):\n",
    "  print(\"Round\", round_num)\n",
    "  #print(\"  TRAIN:\", train_index[0:10],\"...\")\n",
    "  #print(\"  TEST:\", test_index[0:5],\"...\")\n",
    "\n",
    "  # (5.1) to split train and test datasets\n",
    "  X_train, X_test = X.loc[train_index], X.loc[test_index]\n",
    "  y_train, y_test = y.loc[train_index], y.loc[test_index]\n",
    "\n",
    "  # (5.2) to train and create a linear regression model\n",
    "  lm = LinearRegression()\n",
    "  lm.fit(X_train,y_train)\n",
    "  print(\"  intercept: \", lm.intercept_, \" ; coef: \", lm.coef_)\n",
    "\n",
    "  # (6.1) to predict from the test set\n",
    "  y_pred = lm.predict(X_test)\n",
    "\n",
    "  # (6.2) to evaluate with some evaluation methods\n",
    "  rmse = mean_squared_error(y_test, y_pred, squared=False)\n",
    "  print(\"  RMSE = \", rmse)\n",
    "  RMSEs.append(rmse)\n",
    "\n",
    "\n",
    "\n",
    "  print(\"------------------------------------\")\n",
    "  round_num+=1"
   ]
  },
  {
   "cell_type": "code",
   "execution_count": 228,
   "metadata": {},
   "outputs": [
    {
     "name": "stdout",
     "output_type": "stream",
     "text": [
      "[1.6345795653254571, 1.4943624415959693, 1.577240138298873, 1.4640186304187097, 1.2095078703617719]\n"
     ]
    }
   ],
   "source": [
    "print(RMSEs)"
   ]
  },
  {
   "cell_type": "code",
   "execution_count": 229,
   "metadata": {},
   "outputs": [],
   "source": [
    "kfold_rmse = np.array(RMSEs).mean()"
   ]
  },
  {
   "cell_type": "code",
   "execution_count": 230,
   "metadata": {},
   "outputs": [
    {
     "name": "stdout",
     "output_type": "stream",
     "text": [
      "K-Fold CV RMSE =  1.4759417292001562\n"
     ]
    }
   ],
   "source": [
    "print(\"K-Fold CV\", \"RMSE = \", kfold_rmse)"
   ]
  },
  {
   "attachments": {},
   "cell_type": "markdown",
   "metadata": {},
   "source": [
    "## Check Answer"
   ]
  },
  {
   "cell_type": "code",
   "execution_count": 231,
   "metadata": {},
   "outputs": [],
   "source": [
    "df_answer = pd.read_csv('https://docs.google.com/spreadsheets/d/e/2PACX-1vR67xhoAkjEvKTiy5Movr0s7scp0Z8H-rzPW-lM7upIJtDK6lCvDCWUypk9s5EJrr9l3eRVtmtuGmI5/pub?gid=79321423&single=true&output=csv')"
   ]
  },
  {
   "cell_type": "code",
   "execution_count": 232,
   "metadata": {},
   "outputs": [],
   "source": [
    "y_unseen_test = df_answer[\"y\"]\n",
    "df_unseen[\"y_test\"] = df_answer[\"y\"]"
   ]
  },
  {
   "cell_type": "code",
   "execution_count": 233,
   "metadata": {},
   "outputs": [],
   "source": [
    "df_unseen[\"y_pred\"] = y_unseen_pred"
   ]
  },
  {
   "cell_type": "code",
   "execution_count": 234,
   "metadata": {},
   "outputs": [
    {
     "data": {
      "text/html": [
       "<div>\n",
       "<style scoped>\n",
       "    .dataframe tbody tr th:only-of-type {\n",
       "        vertical-align: middle;\n",
       "    }\n",
       "\n",
       "    .dataframe tbody tr th {\n",
       "        vertical-align: top;\n",
       "    }\n",
       "\n",
       "    .dataframe thead th {\n",
       "        text-align: right;\n",
       "    }\n",
       "</style>\n",
       "<table border=\"1\" class=\"dataframe\">\n",
       "  <thead>\n",
       "    <tr style=\"text-align: right;\">\n",
       "      <th></th>\n",
       "      <th>y_test</th>\n",
       "      <th>y_pred</th>\n",
       "    </tr>\n",
       "  </thead>\n",
       "  <tbody>\n",
       "    <tr>\n",
       "      <th>0</th>\n",
       "      <td>110.85</td>\n",
       "      <td>108.536611</td>\n",
       "    </tr>\n",
       "    <tr>\n",
       "      <th>1</th>\n",
       "      <td>1568.75</td>\n",
       "      <td>1568.532146</td>\n",
       "    </tr>\n",
       "    <tr>\n",
       "      <th>2</th>\n",
       "      <td>394.73</td>\n",
       "      <td>396.616456</td>\n",
       "    </tr>\n",
       "    <tr>\n",
       "      <th>3</th>\n",
       "      <td>232.83</td>\n",
       "      <td>234.032188</td>\n",
       "    </tr>\n",
       "    <tr>\n",
       "      <th>4</th>\n",
       "      <td>1058.11</td>\n",
       "      <td>1056.079753</td>\n",
       "    </tr>\n",
       "    <tr>\n",
       "      <th>5</th>\n",
       "      <td>-342.08</td>\n",
       "      <td>-343.432528</td>\n",
       "    </tr>\n",
       "    <tr>\n",
       "      <th>6</th>\n",
       "      <td>784.16</td>\n",
       "      <td>782.696700</td>\n",
       "    </tr>\n",
       "    <tr>\n",
       "      <th>7</th>\n",
       "      <td>857.91</td>\n",
       "      <td>857.487496</td>\n",
       "    </tr>\n",
       "    <tr>\n",
       "      <th>8</th>\n",
       "      <td>1323.03</td>\n",
       "      <td>1321.878030</td>\n",
       "    </tr>\n",
       "    <tr>\n",
       "      <th>9</th>\n",
       "      <td>438.17</td>\n",
       "      <td>437.751176</td>\n",
       "    </tr>\n",
       "  </tbody>\n",
       "</table>\n",
       "</div>"
      ],
      "text/plain": [
       "    y_test       y_pred\n",
       "0   110.85   108.536611\n",
       "1  1568.75  1568.532146\n",
       "2   394.73   396.616456\n",
       "3   232.83   234.032188\n",
       "4  1058.11  1056.079753\n",
       "5  -342.08  -343.432528\n",
       "6   784.16   782.696700\n",
       "7   857.91   857.487496\n",
       "8  1323.03  1321.878030\n",
       "9   438.17   437.751176"
      ]
     },
     "execution_count": 234,
     "metadata": {},
     "output_type": "execute_result"
    }
   ],
   "source": [
    "df_unseen[[\"y_test\",\"y_pred\"]]"
   ]
  },
  {
   "cell_type": "code",
   "execution_count": 235,
   "metadata": {},
   "outputs": [
    {
     "name": "stdout",
     "output_type": "stream",
     "text": [
      "RMSE =  1.4204450989913453\n"
     ]
    }
   ],
   "source": [
    "rmse = metrics.mean_squared_error(y_unseen_test, y_unseen_pred, squared=False)\n",
    "print(\"RMSE = \", rmse)"
   ]
  },
  {
   "cell_type": "code",
   "execution_count": 236,
   "metadata": {},
   "outputs": [
    {
     "name": "stdout",
     "output_type": "stream",
     "text": [
      "MAPE =  0.41008587377922734 %\n"
     ]
    }
   ],
   "source": [
    "mape = np.mean(np.abs((y_unseen_test - y_unseen_pred) / y_unseen_test)) * 100\n",
    "print(\"MAPE = \", mape, \"%\")"
   ]
  },
  {
   "cell_type": "code",
   "execution_count": 237,
   "metadata": {},
   "outputs": [
    {
     "data": {
      "text/plain": [
       "<matplotlib.collections.PathCollection at 0x184bf82c3a0>"
      ]
     },
     "execution_count": 237,
     "metadata": {},
     "output_type": "execute_result"
    },
    {
     "data": {
      "image/png": "[encoded data removed]",
      "text/plain": [
       "<Figure size 640x480 with 1 Axes>"
      ]
     },
     "metadata": {},
     "output_type": "display_data"
    }
   ],
   "source": [
    "plt.scatter(y_unseen_test,y_unseen_pred)"
   ]
  }
 ],
 "metadata": {
  "kernelspec": {
   "display_name": "Python 3",
   "language": "python",
   "name": "python3"
  },
  "language_info": {
   "codemirror_mode": {
    "name": "ipython",
    "version": 3
   },
   "file_extension": ".py",
   "mimetype": "text/x-python",
   "name": "python",
   "nbconvert_exporter": "python",
   "pygments_lexer": "ipython3",
   "version": "3.10.6"
  },
  "orig_nbformat": 4,
  "vscode": {
   "interpreter": {
    "hash": "27f6fea6f47ae512550f0b8facdbd035a93e1dd89633f7bf2dd00a2502c71d0d"
   }
  }
 },
 "nbformat": 4,
 "nbformat_minor": 2
}
