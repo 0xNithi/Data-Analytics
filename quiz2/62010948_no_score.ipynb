{
  "cells": [
    {
      "cell_type": "markdown",
      "metadata": {
        "id": "HoVU3NP1wCa7"
      },
      "source": [
        "# **A Quick Tutorial on AI Techniques**\n",
        "> ## *Author* : [Rathachai CHAWUTHAI](https://rathachai.creatier.pro/) , Ph.D\n",
        "> ### *Affiliation* : Computer Engineering, King Mongkut's Institute of Technology Ladkrabang (KMITL)\n",
        "> #### *Updated Date* : 2022-04-15\n",
        "---"
      ]
    },
    {
      "cell_type": "markdown",
      "metadata": {
        "id": "9m0fPG6ZjYIP"
      },
      "source": [
        "> <a rel=\"license\" href=\"http://creativecommons.org/licenses/by-nc-sa/4.0/\"><img alt=\"Creative Commons License\" style=\"border-width:0\" src=\"https://i.creativecommons.org/l/by-nc-sa/4.0/88x31.png\" /></a><br />This work is licensed under a <a rel=\"license\" href=\"http://creativecommons.org/licenses/by-nc-sa/4.0/\">Creative Commons Attribution-NonCommercial-ShareAlike 4.0 International License</a>.\n",
        "\n",
        "\n",
        "\n",
        "---"
      ]
    },
    {
      "attachments": {},
      "cell_type": "markdown",
      "metadata": {},
      "source": [
        "## **Answer Function**"
      ]
    },
    {
      "cell_type": "code",
      "execution_count": 372,
      "metadata": {},
      "outputs": [],
      "source": [
        "def print_answer(model):\n",
        "    import pandas as pd\n",
        "    \n",
        "    ANSWER_CSV_PATH = \"./Ex1-Class-unseen.csv\"\n",
        "    answer_df = pd.read_csv(ANSWER_CSV_PATH)\n",
        "    print(model.predict(answer_df))\n",
        "    print(model.predict_proba(answer_df))\n",
        "    print(model.classes_)\n",
        "    \n",
        "    "
      ]
    },
    {
      "cell_type": "markdown",
      "metadata": {
        "id": "APQ3LUiwwvjg"
      },
      "source": [
        "## **Decision Tree**"
      ]
    },
    {
      "cell_type": "markdown",
      "metadata": {
        "id": "E-_0S6rv10sI"
      },
      "source": [
        "### Import Libraries"
      ]
    },
    {
      "cell_type": "code",
      "execution_count": 373,
      "metadata": {
        "id": "vTCp46Ys2HPB"
      },
      "outputs": [],
      "source": [
        "import numpy as np\n",
        "import pandas as pd\n",
        "\n",
        "from sklearn import tree\n",
        "from sklearn.tree import DecisionTreeClassifier\n",
        "from sklearn.model_selection import train_test_split\n",
        "from sklearn.metrics import accuracy_score\n",
        "from sklearn.metrics import precision_score\n",
        "from sklearn.metrics import recall_score\n",
        "from sklearn.metrics import f1_score\n",
        "from sklearn.metrics import confusion_matrix\n",
        "from sklearn.metrics import classification_report\n",
        "from sklearn.metrics import roc_auc_score\n",
        "from sklearn.metrics import log_loss"
      ]
    },
    {
      "cell_type": "markdown",
      "metadata": {
        "id": "G-BCqqxR23pa"
      },
      "source": [
        "### Dataset"
      ]
    },
    {
      "cell_type": "code",
      "execution_count": 374,
      "metadata": {
        "id": "iTI34EVP3ywy"
      },
      "outputs": [],
      "source": [
        "CSV_PATH = \"./Ex1-Class-train.csv\"\n",
        "df = pd.read_csv(CSV_PATH)"
      ]
    },
    {
      "cell_type": "code",
      "execution_count": 375,
      "metadata": {
        "colab": {
          "base_uri": "https://localhost:8080/",
          "height": 423
        },
        "id": "jiMM_ogm3Ny0",
        "outputId": "3471e24d-a770-4b96-9b20-21418d5c3ac4"
      },
      "outputs": [
        {
          "data": {
            "text/html": [
              "<div>\n",
              "<style scoped>\n",
              "    .dataframe tbody tr th:only-of-type {\n",
              "        vertical-align: middle;\n",
              "    }\n",
              "\n",
              "    .dataframe tbody tr th {\n",
              "        vertical-align: top;\n",
              "    }\n",
              "\n",
              "    .dataframe thead th {\n",
              "        text-align: right;\n",
              "    }\n",
              "</style>\n",
              "<table border=\"1\" class=\"dataframe\">\n",
              "  <thead>\n",
              "    <tr style=\"text-align: right;\">\n",
              "      <th></th>\n",
              "      <th>x1</th>\n",
              "      <th>x2</th>\n",
              "      <th>x3</th>\n",
              "      <th>x4</th>\n",
              "      <th>x5</th>\n",
              "      <th>y</th>\n",
              "    </tr>\n",
              "  </thead>\n",
              "  <tbody>\n",
              "    <tr>\n",
              "      <th>0</th>\n",
              "      <td>-17.20</td>\n",
              "      <td>30.38</td>\n",
              "      <td>7.48</td>\n",
              "      <td>26.15</td>\n",
              "      <td>21.32</td>\n",
              "      <td>B</td>\n",
              "    </tr>\n",
              "    <tr>\n",
              "      <th>1</th>\n",
              "      <td>5.23</td>\n",
              "      <td>-11.30</td>\n",
              "      <td>-4.49</td>\n",
              "      <td>-8.77</td>\n",
              "      <td>-6.76</td>\n",
              "      <td>A</td>\n",
              "    </tr>\n",
              "    <tr>\n",
              "      <th>2</th>\n",
              "      <td>2.31</td>\n",
              "      <td>6.24</td>\n",
              "      <td>9.27</td>\n",
              "      <td>13.17</td>\n",
              "      <td>-3.58</td>\n",
              "      <td>B</td>\n",
              "    </tr>\n",
              "    <tr>\n",
              "      <th>3</th>\n",
              "      <td>1.24</td>\n",
              "      <td>6.91</td>\n",
              "      <td>8.41</td>\n",
              "      <td>14.41</td>\n",
              "      <td>-2.43</td>\n",
              "      <td>B</td>\n",
              "    </tr>\n",
              "    <tr>\n",
              "      <th>4</th>\n",
              "      <td>10.53</td>\n",
              "      <td>-23.79</td>\n",
              "      <td>-9.82</td>\n",
              "      <td>-23.38</td>\n",
              "      <td>-12.86</td>\n",
              "      <td>A</td>\n",
              "    </tr>\n",
              "    <tr>\n",
              "      <th>...</th>\n",
              "      <td>...</td>\n",
              "      <td>...</td>\n",
              "      <td>...</td>\n",
              "      <td>...</td>\n",
              "      <td>...</td>\n",
              "      <td>...</td>\n",
              "    </tr>\n",
              "    <tr>\n",
              "      <th>185</th>\n",
              "      <td>24.23</td>\n",
              "      <td>-34.07</td>\n",
              "      <td>-4.41</td>\n",
              "      <td>15.78</td>\n",
              "      <td>-37.05</td>\n",
              "      <td>B</td>\n",
              "    </tr>\n",
              "    <tr>\n",
              "      <th>186</th>\n",
              "      <td>5.88</td>\n",
              "      <td>-25.08</td>\n",
              "      <td>-18.39</td>\n",
              "      <td>-14.31</td>\n",
              "      <td>-9.34</td>\n",
              "      <td>A</td>\n",
              "    </tr>\n",
              "    <tr>\n",
              "      <th>187</th>\n",
              "      <td>0.53</td>\n",
              "      <td>1.10</td>\n",
              "      <td>2.35</td>\n",
              "      <td>-5.73</td>\n",
              "      <td>0.57</td>\n",
              "      <td>A</td>\n",
              "    </tr>\n",
              "    <tr>\n",
              "      <th>188</th>\n",
              "      <td>13.01</td>\n",
              "      <td>-36.62</td>\n",
              "      <td>-21.88</td>\n",
              "      <td>-1.76</td>\n",
              "      <td>-21.85</td>\n",
              "      <td>A</td>\n",
              "    </tr>\n",
              "    <tr>\n",
              "      <th>189</th>\n",
              "      <td>-0.68</td>\n",
              "      <td>9.09</td>\n",
              "      <td>9.83</td>\n",
              "      <td>-11.79</td>\n",
              "      <td>4.56</td>\n",
              "      <td>C</td>\n",
              "    </tr>\n",
              "  </tbody>\n",
              "</table>\n",
              "<p>190 rows × 6 columns</p>\n",
              "</div>"
            ],
            "text/plain": [
              "        x1     x2     x3     x4     x5  y\n",
              "0   -17.20  30.38   7.48  26.15  21.32  B\n",
              "1     5.23 -11.30  -4.49  -8.77  -6.76  A\n",
              "2     2.31   6.24   9.27  13.17  -3.58  B\n",
              "3     1.24   6.91   8.41  14.41  -2.43  B\n",
              "4    10.53 -23.79  -9.82 -23.38 -12.86  A\n",
              "..     ...    ...    ...    ...    ... ..\n",
              "185  24.23 -34.07  -4.41  15.78 -37.05  B\n",
              "186   5.88 -25.08 -18.39 -14.31  -9.34  A\n",
              "187   0.53   1.10   2.35  -5.73   0.57  A\n",
              "188  13.01 -36.62 -21.88  -1.76 -21.85  A\n",
              "189  -0.68   9.09   9.83 -11.79   4.56  C\n",
              "\n",
              "[190 rows x 6 columns]"
            ]
          },
          "execution_count": 375,
          "metadata": {},
          "output_type": "execute_result"
        }
      ],
      "source": [
        "df"
      ]
    },
    {
      "cell_type": "markdown",
      "metadata": {
        "id": "gHOiRshx12ct"
      },
      "source": [
        "### Train-Test Split"
      ]
    },
    {
      "cell_type": "code",
      "execution_count": 376,
      "metadata": {
        "id": "W_v_qX5c21zx"
      },
      "outputs": [],
      "source": [
        "x_columns = [\"x1\",\"x2\",\"x3\",\"x4\",\"x5\"]\n",
        "y_column = 'y';\n",
        "X = df[x_columns]\n",
        "y = df[y_column]"
      ]
    },
    {
      "cell_type": "code",
      "execution_count": 377,
      "metadata": {
        "id": "YNhP736V4a9N"
      },
      "outputs": [],
      "source": [
        "X_train, X_test, y_train, y_test = train_test_split(X, y, test_size=0.4)"
      ]
    },
    {
      "cell_type": "markdown",
      "metadata": {
        "id": "5VhCHRKy167X"
      },
      "source": [
        "### Model"
      ]
    },
    {
      "cell_type": "code",
      "execution_count": 378,
      "metadata": {
        "id": "JUiPORKh4jyQ"
      },
      "outputs": [],
      "source": [
        "model = DecisionTreeClassifier()"
      ]
    },
    {
      "cell_type": "code",
      "execution_count": 379,
      "metadata": {
        "colab": {
          "base_uri": "https://localhost:8080/"
        },
        "id": "cfHpiv_p4sk5",
        "outputId": "dae80d8b-9fc2-42eb-d8f0-54d6ac61bd3c"
      },
      "outputs": [
        {
          "data": {
            "text/html": [
              "<style>#sk-container-id-37 {color: black;background-color: white;}#sk-container-id-37 pre{padding: 0;}#sk-container-id-37 div.sk-toggleable {background-color: white;}#sk-container-id-37 label.sk-toggleable__label {cursor: pointer;display: block;width: 100%;margin-bottom: 0;padding: 0.3em;box-sizing: border-box;text-align: center;}#sk-container-id-37 label.sk-toggleable__label-arrow:before {content: \"▸\";float: left;margin-right: 0.25em;color: #696969;}#sk-container-id-37 label.sk-toggleable__label-arrow:hover:before {color: black;}#sk-container-id-37 div.sk-estimator:hover label.sk-toggleable__label-arrow:before {color: black;}#sk-container-id-37 div.sk-toggleable__content {max-height: 0;max-width: 0;overflow: hidden;text-align: left;background-color: #f0f8ff;}#sk-container-id-37 div.sk-toggleable__content pre {margin: 0.2em;color: black;border-radius: 0.25em;background-color: #f0f8ff;}#sk-container-id-37 input.sk-toggleable__control:checked~div.sk-toggleable__content {max-height: 200px;max-width: 100%;overflow: auto;}#sk-container-id-37 input.sk-toggleable__control:checked~label.sk-toggleable__label-arrow:before {content: \"▾\";}#sk-container-id-37 div.sk-estimator input.sk-toggleable__control:checked~label.sk-toggleable__label {background-color: #d4ebff;}#sk-container-id-37 div.sk-label input.sk-toggleable__control:checked~label.sk-toggleable__label {background-color: #d4ebff;}#sk-container-id-37 input.sk-hidden--visually {border: 0;clip: rect(1px 1px 1px 1px);clip: rect(1px, 1px, 1px, 1px);height: 1px;margin: -1px;overflow: hidden;padding: 0;position: absolute;width: 1px;}#sk-container-id-37 div.sk-estimator {font-family: monospace;background-color: #f0f8ff;border: 1px dotted black;border-radius: 0.25em;box-sizing: border-box;margin-bottom: 0.5em;}#sk-container-id-37 div.sk-estimator:hover {background-color: #d4ebff;}#sk-container-id-37 div.sk-parallel-item::after {content: \"\";width: 100%;border-bottom: 1px solid gray;flex-grow: 1;}#sk-container-id-37 div.sk-label:hover label.sk-toggleable__label {background-color: #d4ebff;}#sk-container-id-37 div.sk-serial::before {content: \"\";position: absolute;border-left: 1px solid gray;box-sizing: border-box;top: 0;bottom: 0;left: 50%;z-index: 0;}#sk-container-id-37 div.sk-serial {display: flex;flex-direction: column;align-items: center;background-color: white;padding-right: 0.2em;padding-left: 0.2em;position: relative;}#sk-container-id-37 div.sk-item {position: relative;z-index: 1;}#sk-container-id-37 div.sk-parallel {display: flex;align-items: stretch;justify-content: center;background-color: white;position: relative;}#sk-container-id-37 div.sk-item::before, #sk-container-id-37 div.sk-parallel-item::before {content: \"\";position: absolute;border-left: 1px solid gray;box-sizing: border-box;top: 0;bottom: 0;left: 50%;z-index: -1;}#sk-container-id-37 div.sk-parallel-item {display: flex;flex-direction: column;z-index: 1;position: relative;background-color: white;}#sk-container-id-37 div.sk-parallel-item:first-child::after {align-self: flex-end;width: 50%;}#sk-container-id-37 div.sk-parallel-item:last-child::after {align-self: flex-start;width: 50%;}#sk-container-id-37 div.sk-parallel-item:only-child::after {width: 0;}#sk-container-id-37 div.sk-dashed-wrapped {border: 1px dashed gray;margin: 0 0.4em 0.5em 0.4em;box-sizing: border-box;padding-bottom: 0.4em;background-color: white;}#sk-container-id-37 div.sk-label label {font-family: monospace;font-weight: bold;display: inline-block;line-height: 1.2em;}#sk-container-id-37 div.sk-label-container {text-align: center;}#sk-container-id-37 div.sk-container {/* jupyter's `normalize.less` sets `[hidden] { display: none; }` but bootstrap.min.css set `[hidden] { display: none !important; }` so we also need the `!important` here to be able to override the default hidden behavior on the sphinx rendered scikit-learn.org. See: https://github.com/scikit-learn/scikit-learn/issues/21755 */display: inline-block !important;position: relative;}#sk-container-id-37 div.sk-text-repr-fallback {display: none;}</style><div id=\"sk-container-id-37\" class=\"sk-top-container\"><div class=\"sk-text-repr-fallback\"><pre>DecisionTreeClassifier()</pre><b>In a Jupyter environment, please rerun this cell to show the HTML representation or trust the notebook. <br />On GitHub, the HTML representation is unable to render, please try loading this page with nbviewer.org.</b></div><div class=\"sk-container\" hidden><div class=\"sk-item\"><div class=\"sk-estimator sk-toggleable\"><input class=\"sk-toggleable__control sk-hidden--visually\" id=\"sk-estimator-id-37\" type=\"checkbox\" checked><label for=\"sk-estimator-id-37\" class=\"sk-toggleable__label sk-toggleable__label-arrow\">DecisionTreeClassifier</label><div class=\"sk-toggleable__content\"><pre>DecisionTreeClassifier()</pre></div></div></div></div></div>"
            ],
            "text/plain": [
              "DecisionTreeClassifier()"
            ]
          },
          "execution_count": 379,
          "metadata": {},
          "output_type": "execute_result"
        }
      ],
      "source": [
        "model.fit(X_train.values, y_train)"
      ]
    },
    {
      "cell_type": "code",
      "execution_count": 380,
      "metadata": {
        "colab": {
          "base_uri": "https://localhost:8080/"
        },
        "id": "IsUgyAwV6RZm",
        "outputId": "5dc31a5c-f36a-4240-a591-032ae3abb498"
      },
      "outputs": [
        {
          "name": "stdout",
          "output_type": "stream",
          "text": [
            "|--- feature_2 <= 6.36\n",
            "|   |--- feature_4 <= 8.21\n",
            "|   |   |--- feature_3 <= 7.57\n",
            "|   |   |   |--- feature_0 <= 0.40\n",
            "|   |   |   |   |--- class: C\n",
            "|   |   |   |--- feature_0 >  0.40\n",
            "|   |   |   |   |--- feature_3 <= 2.91\n",
            "|   |   |   |   |   |--- class: A\n",
            "|   |   |   |   |--- feature_3 >  2.91\n",
            "|   |   |   |   |   |--- feature_3 <= 3.95\n",
            "|   |   |   |   |   |   |--- class: C\n",
            "|   |   |   |   |   |--- feature_3 >  3.95\n",
            "|   |   |   |   |   |   |--- class: A\n",
            "|   |   |--- feature_3 >  7.57\n",
            "|   |   |   |--- feature_4 <= -14.99\n",
            "|   |   |   |   |--- class: B\n",
            "|   |   |   |--- feature_4 >  -14.99\n",
            "|   |   |   |   |--- feature_2 <= -5.16\n",
            "|   |   |   |   |   |--- class: A\n",
            "|   |   |   |   |--- feature_2 >  -5.16\n",
            "|   |   |   |   |   |--- feature_0 <= -3.02\n",
            "|   |   |   |   |   |   |--- class: A\n",
            "|   |   |   |   |   |--- feature_0 >  -3.02\n",
            "|   |   |   |   |   |   |--- feature_0 <= 3.88\n",
            "|   |   |   |   |   |   |   |--- class: B\n",
            "|   |   |   |   |   |   |--- feature_0 >  3.88\n",
            "|   |   |   |   |   |   |   |--- class: A\n",
            "|   |--- feature_4 >  8.21\n",
            "|   |   |--- feature_0 <= -14.39\n",
            "|   |   |   |--- feature_0 <= -15.65\n",
            "|   |   |   |   |--- class: B\n",
            "|   |   |   |--- feature_0 >  -15.65\n",
            "|   |   |   |   |--- class: A\n",
            "|   |   |--- feature_0 >  -14.39\n",
            "|   |   |   |--- class: C\n",
            "|--- feature_2 >  6.36\n",
            "|   |--- feature_3 <= -4.58\n",
            "|   |   |--- feature_1 <= 36.14\n",
            "|   |   |   |--- class: C\n",
            "|   |   |--- feature_1 >  36.14\n",
            "|   |   |   |--- class: B\n",
            "|   |--- feature_3 >  -4.58\n",
            "|   |   |--- feature_2 <= 6.67\n",
            "|   |   |   |--- feature_1 <= 19.68\n",
            "|   |   |   |   |--- class: B\n",
            "|   |   |   |--- feature_1 >  19.68\n",
            "|   |   |   |   |--- class: C\n",
            "|   |   |--- feature_2 >  6.67\n",
            "|   |   |   |--- class: B\n",
            "\n"
          ]
        }
      ],
      "source": [
        "print(tree.export_text(model))"
      ]
    },
    {
      "cell_type": "markdown",
      "metadata": {
        "id": "6RTWCIezIM08"
      },
      "source": [
        "### Prediction"
      ]
    },
    {
      "cell_type": "code",
      "execution_count": 381,
      "metadata": {
        "colab": {
          "base_uri": "https://localhost:8080/"
        },
        "id": "KzDIPGKLIPGI",
        "outputId": "20912366-4c32-4c91-8bae-ad97e57cf36b"
      },
      "outputs": [],
      "source": [
        "# model.predict([[5,3,1,1]]) # NOTE : EDIT VALUE HERE"
      ]
    },
    {
      "cell_type": "code",
      "execution_count": 382,
      "metadata": {
        "colab": {
          "base_uri": "https://localhost:8080/"
        },
        "id": "NIgjloQ4JHi5",
        "outputId": "4d81adbc-3247-457f-a2d1-af53c4b02c40"
      },
      "outputs": [],
      "source": [
        "# model.predict_proba([[5,3,1,1]]) # NOTE : EDIT VALUE HERE"
      ]
    },
    {
      "cell_type": "code",
      "execution_count": 383,
      "metadata": {
        "colab": {
          "base_uri": "https://localhost:8080/"
        },
        "id": "voG43To3J_Sd",
        "outputId": "d0e231ab-5305-4d1c-a179-dea380c39d50"
      },
      "outputs": [
        {
          "data": {
            "text/plain": [
              "array(['A', 'B', 'C'], dtype=object)"
            ]
          },
          "execution_count": 383,
          "metadata": {},
          "output_type": "execute_result"
        }
      ],
      "source": [
        "model.classes_"
      ]
    },
    {
      "cell_type": "markdown",
      "metadata": {
        "id": "eXNt4p1519PA"
      },
      "source": [
        "### Evaluation"
      ]
    },
    {
      "cell_type": "code",
      "execution_count": 384,
      "metadata": {
        "id": "Zqj0zixs6dhP"
      },
      "outputs": [
        {
          "name": "stderr",
          "output_type": "stream",
          "text": [
            "c:\\Users\\ASUS\\AppData\\Local\\Programs\\Python\\Python310\\lib\\site-packages\\sklearn\\base.py:413: UserWarning: X has feature names, but DecisionTreeClassifier was fitted without feature names\n",
            "  warnings.warn(\n"
          ]
        }
      ],
      "source": [
        "y_pred = model.predict(X_test)"
      ]
    },
    {
      "cell_type": "code",
      "execution_count": 385,
      "metadata": {
        "colab": {
          "base_uri": "https://localhost:8080/"
        },
        "id": "gNhilyUg6po2",
        "outputId": "e2fd8fed-ea0f-4ad3-bc42-806304a7ee23"
      },
      "outputs": [
        {
          "data": {
            "text/plain": [
              "array(['A', 'B', 'C', 'B', 'A', 'C', 'A', 'C', 'C', 'B', 'B', 'B', 'A',\n",
              "       'C', 'B', 'C', 'B', 'C', 'C', 'C', 'A', 'C', 'C', 'C', 'C', 'C',\n",
              "       'C', 'A', 'B', 'C', 'C', 'C', 'C', 'A', 'A', 'C', 'B', 'A', 'B',\n",
              "       'C', 'B', 'A', 'A', 'C', 'A', 'B', 'A', 'B', 'C', 'B', 'A', 'B',\n",
              "       'B', 'B', 'C', 'B', 'A', 'A', 'B', 'B', 'C', 'A', 'C', 'A', 'A',\n",
              "       'A', 'A', 'B', 'B', 'C', 'A', 'A', 'C', 'B', 'A', 'C'],\n",
              "      dtype=object)"
            ]
          },
          "execution_count": 385,
          "metadata": {},
          "output_type": "execute_result"
        }
      ],
      "source": [
        "y_pred"
      ]
    },
    {
      "cell_type": "code",
      "execution_count": 386,
      "metadata": {
        "id": "9aNv997a6sMz"
      },
      "outputs": [
        {
          "name": "stderr",
          "output_type": "stream",
          "text": [
            "c:\\Users\\ASUS\\AppData\\Local\\Programs\\Python\\Python310\\lib\\site-packages\\sklearn\\base.py:413: UserWarning: X has feature names, but DecisionTreeClassifier was fitted without feature names\n",
            "  warnings.warn(\n"
          ]
        }
      ],
      "source": [
        "# Classification Metrics\n",
        "\n",
        "y_pred_proba = model.predict_proba(X_test)\n",
        "\n",
        "acc = accuracy_score(y_test, y_pred)\n",
        "prec = precision_score(y_test, y_pred, average='micro')\n",
        "recall = recall_score(y_test, y_pred, average='micro')\n",
        "f1 = f1_score(y_test, y_pred, average='micro')\n",
        "con = confusion_matrix(y_test, y_pred)\n",
        "report = classification_report(y_test, y_pred)\n",
        "roc = roc_auc_score(y_test, y_pred_proba,  multi_class='ovr')\n",
        "loss = log_loss(y_test, y_pred_proba)"
      ]
    },
    {
      "cell_type": "code",
      "execution_count": 387,
      "metadata": {
        "colab": {
          "base_uri": "https://localhost:8080/"
        },
        "id": "LxFcvWeh60c1",
        "outputId": "07acf2ae-e446-4670-e942-0e725cf9b370"
      },
      "outputs": [
        {
          "name": "stdout",
          "output_type": "stream",
          "text": [
            "Accuracy : 0.8552631578947368\n",
            "Precision : 0.8552631578947368\n",
            "Recall : 0.8552631578947368\n",
            "F1 : 0.8552631578947367\n",
            "Confustion Matrix :\n",
            " [[18  1  2]\n",
            " [ 4 20  0]\n",
            " [ 2  2 27]]\n",
            "Classification Report :\n",
            "               precision    recall  f1-score   support\n",
            "\n",
            "           A       0.75      0.86      0.80        21\n",
            "           B       0.87      0.83      0.85        24\n",
            "           C       0.93      0.87      0.90        31\n",
            "\n",
            "    accuracy                           0.86        76\n",
            "   macro avg       0.85      0.85      0.85        76\n",
            "weighted avg       0.86      0.86      0.86        76\n",
            "\n",
            "Roc score : 0.8917027118640023\n",
            "Log Loss : 5.216844569477483\n"
          ]
        }
      ],
      "source": [
        "print(\"Accuracy :\", acc)\n",
        "print(\"Precision :\", prec)\n",
        "print(\"Recall :\", recall)\n",
        "print(\"F1 :\", f1)\n",
        "print(\"Confustion Matrix :\\n\", con)\n",
        "print(\"Classification Report :\\n\", report)\n",
        "print(\"Roc score :\", roc)\n",
        "print(\"Log Loss :\", loss)"
      ]
    },
    {
      "cell_type": "code",
      "execution_count": 388,
      "metadata": {},
      "outputs": [
        {
          "name": "stdout",
          "output_type": "stream",
          "text": [
            "['A' 'C' 'A' 'C' 'A' 'A' 'C' 'B' 'C' 'C']\n",
            "[[1. 0. 0.]\n",
            " [0. 0. 1.]\n",
            " [1. 0. 0.]\n",
            " [0. 0. 1.]\n",
            " [1. 0. 0.]\n",
            " [1. 0. 0.]\n",
            " [0. 0. 1.]\n",
            " [0. 1. 0.]\n",
            " [0. 0. 1.]\n",
            " [0. 0. 1.]]\n",
            "['A' 'B' 'C']\n"
          ]
        },
        {
          "name": "stderr",
          "output_type": "stream",
          "text": [
            "c:\\Users\\ASUS\\AppData\\Local\\Programs\\Python\\Python310\\lib\\site-packages\\sklearn\\base.py:413: UserWarning: X has feature names, but DecisionTreeClassifier was fitted without feature names\n",
            "  warnings.warn(\n",
            "c:\\Users\\ASUS\\AppData\\Local\\Programs\\Python\\Python310\\lib\\site-packages\\sklearn\\base.py:413: UserWarning: X has feature names, but DecisionTreeClassifier was fitted without feature names\n",
            "  warnings.warn(\n"
          ]
        }
      ],
      "source": [
        "print_answer(model)"
      ]
    },
    {
      "cell_type": "markdown",
      "metadata": {
        "id": "m5SvY1QCxCzF"
      },
      "source": [
        "\n",
        "\n",
        "---\n",
        "\n"
      ]
    },
    {
      "cell_type": "markdown",
      "metadata": {
        "id": "8aZWNrjMxJoy"
      },
      "source": [
        "## **Logistic Regression**"
      ]
    },
    {
      "cell_type": "markdown",
      "metadata": {
        "id": "t3DLOBx-7D59"
      },
      "source": [
        "### Import Libraries"
      ]
    },
    {
      "cell_type": "code",
      "execution_count": 389,
      "metadata": {
        "id": "937oMFiI7MVS"
      },
      "outputs": [],
      "source": [
        "import numpy as np\n",
        "import pandas as pd\n",
        "\n",
        "from sklearn.linear_model import LogisticRegression\n",
        "from sklearn.model_selection import train_test_split\n",
        "from sklearn.metrics import accuracy_score\n",
        "from sklearn.metrics import precision_score\n",
        "from sklearn.metrics import recall_score\n",
        "from sklearn.metrics import f1_score\n",
        "from sklearn.metrics import confusion_matrix\n",
        "from sklearn.metrics import classification_report\n",
        "from sklearn.metrics import roc_auc_score\n",
        "from sklearn.metrics import log_loss"
      ]
    },
    {
      "cell_type": "markdown",
      "metadata": {
        "id": "PVlC2MXpBBAj"
      },
      "source": [
        "### Dataset and Train-Test Split"
      ]
    },
    {
      "cell_type": "code",
      "execution_count": 390,
      "metadata": {
        "id": "SB1vPym7BFhS"
      },
      "outputs": [],
      "source": [
        "CSV_PATH = \"./Ex1-Class-train.csv\"\n",
        "df = pd.read_csv(CSV_PATH)\n",
        "\n",
        "x_columns = [\"x1\",\"x2\",\"x3\",\"x4\",\"x5\"]\n",
        "y_column = 'y';\n",
        "X = df[x_columns]\n",
        "y = df[y_column]\n",
        "\n",
        "X_train, X_test, y_train, y_test = train_test_split(X, y, test_size=0.4)"
      ]
    },
    {
      "cell_type": "markdown",
      "metadata": {
        "id": "mCr3TzFA69TL"
      },
      "source": [
        "### Model"
      ]
    },
    {
      "cell_type": "code",
      "execution_count": 391,
      "metadata": {
        "id": "wKCDB2DJ671S"
      },
      "outputs": [],
      "source": [
        "model = LogisticRegression()"
      ]
    },
    {
      "cell_type": "code",
      "execution_count": 392,
      "metadata": {
        "colab": {
          "base_uri": "https://localhost:8080/"
        },
        "id": "lGqUDvmI7YnY",
        "outputId": "1cca65ae-3b12-4ad5-a48b-3ca69a7cc633"
      },
      "outputs": [
        {
          "data": {
            "text/html": [
              "<style>#sk-container-id-38 {color: black;background-color: white;}#sk-container-id-38 pre{padding: 0;}#sk-container-id-38 div.sk-toggleable {background-color: white;}#sk-container-id-38 label.sk-toggleable__label {cursor: pointer;display: block;width: 100%;margin-bottom: 0;padding: 0.3em;box-sizing: border-box;text-align: center;}#sk-container-id-38 label.sk-toggleable__label-arrow:before {content: \"▸\";float: left;margin-right: 0.25em;color: #696969;}#sk-container-id-38 label.sk-toggleable__label-arrow:hover:before {color: black;}#sk-container-id-38 div.sk-estimator:hover label.sk-toggleable__label-arrow:before {color: black;}#sk-container-id-38 div.sk-toggleable__content {max-height: 0;max-width: 0;overflow: hidden;text-align: left;background-color: #f0f8ff;}#sk-container-id-38 div.sk-toggleable__content pre {margin: 0.2em;color: black;border-radius: 0.25em;background-color: #f0f8ff;}#sk-container-id-38 input.sk-toggleable__control:checked~div.sk-toggleable__content {max-height: 200px;max-width: 100%;overflow: auto;}#sk-container-id-38 input.sk-toggleable__control:checked~label.sk-toggleable__label-arrow:before {content: \"▾\";}#sk-container-id-38 div.sk-estimator input.sk-toggleable__control:checked~label.sk-toggleable__label {background-color: #d4ebff;}#sk-container-id-38 div.sk-label input.sk-toggleable__control:checked~label.sk-toggleable__label {background-color: #d4ebff;}#sk-container-id-38 input.sk-hidden--visually {border: 0;clip: rect(1px 1px 1px 1px);clip: rect(1px, 1px, 1px, 1px);height: 1px;margin: -1px;overflow: hidden;padding: 0;position: absolute;width: 1px;}#sk-container-id-38 div.sk-estimator {font-family: monospace;background-color: #f0f8ff;border: 1px dotted black;border-radius: 0.25em;box-sizing: border-box;margin-bottom: 0.5em;}#sk-container-id-38 div.sk-estimator:hover {background-color: #d4ebff;}#sk-container-id-38 div.sk-parallel-item::after {content: \"\";width: 100%;border-bottom: 1px solid gray;flex-grow: 1;}#sk-container-id-38 div.sk-label:hover label.sk-toggleable__label {background-color: #d4ebff;}#sk-container-id-38 div.sk-serial::before {content: \"\";position: absolute;border-left: 1px solid gray;box-sizing: border-box;top: 0;bottom: 0;left: 50%;z-index: 0;}#sk-container-id-38 div.sk-serial {display: flex;flex-direction: column;align-items: center;background-color: white;padding-right: 0.2em;padding-left: 0.2em;position: relative;}#sk-container-id-38 div.sk-item {position: relative;z-index: 1;}#sk-container-id-38 div.sk-parallel {display: flex;align-items: stretch;justify-content: center;background-color: white;position: relative;}#sk-container-id-38 div.sk-item::before, #sk-container-id-38 div.sk-parallel-item::before {content: \"\";position: absolute;border-left: 1px solid gray;box-sizing: border-box;top: 0;bottom: 0;left: 50%;z-index: -1;}#sk-container-id-38 div.sk-parallel-item {display: flex;flex-direction: column;z-index: 1;position: relative;background-color: white;}#sk-container-id-38 div.sk-parallel-item:first-child::after {align-self: flex-end;width: 50%;}#sk-container-id-38 div.sk-parallel-item:last-child::after {align-self: flex-start;width: 50%;}#sk-container-id-38 div.sk-parallel-item:only-child::after {width: 0;}#sk-container-id-38 div.sk-dashed-wrapped {border: 1px dashed gray;margin: 0 0.4em 0.5em 0.4em;box-sizing: border-box;padding-bottom: 0.4em;background-color: white;}#sk-container-id-38 div.sk-label label {font-family: monospace;font-weight: bold;display: inline-block;line-height: 1.2em;}#sk-container-id-38 div.sk-label-container {text-align: center;}#sk-container-id-38 div.sk-container {/* jupyter's `normalize.less` sets `[hidden] { display: none; }` but bootstrap.min.css set `[hidden] { display: none !important; }` so we also need the `!important` here to be able to override the default hidden behavior on the sphinx rendered scikit-learn.org. See: https://github.com/scikit-learn/scikit-learn/issues/21755 */display: inline-block !important;position: relative;}#sk-container-id-38 div.sk-text-repr-fallback {display: none;}</style><div id=\"sk-container-id-38\" class=\"sk-top-container\"><div class=\"sk-text-repr-fallback\"><pre>LogisticRegression()</pre><b>In a Jupyter environment, please rerun this cell to show the HTML representation or trust the notebook. <br />On GitHub, the HTML representation is unable to render, please try loading this page with nbviewer.org.</b></div><div class=\"sk-container\" hidden><div class=\"sk-item\"><div class=\"sk-estimator sk-toggleable\"><input class=\"sk-toggleable__control sk-hidden--visually\" id=\"sk-estimator-id-38\" type=\"checkbox\" checked><label for=\"sk-estimator-id-38\" class=\"sk-toggleable__label sk-toggleable__label-arrow\">LogisticRegression</label><div class=\"sk-toggleable__content\"><pre>LogisticRegression()</pre></div></div></div></div></div>"
            ],
            "text/plain": [
              "LogisticRegression()"
            ]
          },
          "execution_count": 392,
          "metadata": {},
          "output_type": "execute_result"
        }
      ],
      "source": [
        "model.fit(X_train.values, y_train)"
      ]
    },
    {
      "cell_type": "code",
      "execution_count": 393,
      "metadata": {
        "colab": {
          "base_uri": "https://localhost:8080/"
        },
        "id": "iDQOXDA07b7N",
        "outputId": "84fb9c3d-7838-46d6-e876-15d27a58b022"
      },
      "outputs": [
        {
          "name": "stdout",
          "output_type": "stream",
          "text": [
            "coef : [[-0.02121881 -0.08363452 -0.11635047 -0.02681045  0.0104399 ]\n",
            " [ 0.13354705  0.0968751   0.27356717  0.23126967 -0.16707984]\n",
            " [-0.11232825 -0.01324058 -0.1572167  -0.20445922  0.15663994]]\n",
            "intercept :  [ 0.9835766  -0.97965251 -0.00392409]\n"
          ]
        }
      ],
      "source": [
        "print(\"coef :\", model.coef_)\n",
        "print(\"intercept : \", model.intercept_)"
      ]
    },
    {
      "cell_type": "markdown",
      "metadata": {
        "id": "PI3HHqw78A_5"
      },
      "source": [
        "### Evaluation"
      ]
    },
    {
      "cell_type": "code",
      "execution_count": 394,
      "metadata": {
        "colab": {
          "base_uri": "https://localhost:8080/"
        },
        "id": "BWEoo3vj8EGb",
        "outputId": "7cd4ee1a-9df7-4cd1-9628-499bd29d1ae6"
      },
      "outputs": [
        {
          "name": "stdout",
          "output_type": "stream",
          "text": [
            "Accuracy : 0.868421052631579\n",
            "Precision : 0.868421052631579\n",
            "Recall : 0.868421052631579\n",
            "F1 : 0.868421052631579\n",
            "Confustion Matrix :\n",
            " [[16  5  2]\n",
            " [ 1 26  2]\n",
            " [ 0  0 24]]\n",
            "Classification Report :\n",
            "               precision    recall  f1-score   support\n",
            "\n",
            "           A       0.94      0.70      0.80        23\n",
            "           B       0.84      0.90      0.87        29\n",
            "           C       0.86      1.00      0.92        24\n",
            "\n",
            "    accuracy                           0.87        76\n",
            "   macro avg       0.88      0.86      0.86        76\n",
            "weighted avg       0.88      0.87      0.86        76\n",
            "\n",
            "Roc score : 0.9224575326208372\n",
            "Log Loss : 0.7759710321610744\n"
          ]
        },
        {
          "name": "stderr",
          "output_type": "stream",
          "text": [
            "c:\\Users\\ASUS\\AppData\\Local\\Programs\\Python\\Python310\\lib\\site-packages\\sklearn\\base.py:413: UserWarning: X has feature names, but LogisticRegression was fitted without feature names\n",
            "  warnings.warn(\n",
            "c:\\Users\\ASUS\\AppData\\Local\\Programs\\Python\\Python310\\lib\\site-packages\\sklearn\\base.py:413: UserWarning: X has feature names, but LogisticRegression was fitted without feature names\n",
            "  warnings.warn(\n"
          ]
        }
      ],
      "source": [
        "y_pred = model.predict(X_test)\n",
        "y_pred_proba = model.predict_proba(X_test)\n",
        "\n",
        "acc = accuracy_score(y_test, y_pred)\n",
        "prec = precision_score(y_test, y_pred, average='micro')\n",
        "recall = recall_score(y_test, y_pred, average='micro')\n",
        "f1 = f1_score(y_test, y_pred, average='micro')\n",
        "con = confusion_matrix(y_test, y_pred)\n",
        "report = classification_report(y_test, y_pred)\n",
        "roc = roc_auc_score(y_test, y_pred_proba,  multi_class='ovr')\n",
        "loss = log_loss(y_test, y_pred_proba)\n",
        "\n",
        "\n",
        "\n",
        "print(\"Accuracy :\", acc)\n",
        "print(\"Precision :\", prec)\n",
        "print(\"Recall :\", recall)\n",
        "print(\"F1 :\", f1)\n",
        "print(\"Confustion Matrix :\\n\", con)\n",
        "print(\"Classification Report :\\n\", report)\n",
        "print(\"Roc score :\", roc)\n",
        "print(\"Log Loss :\", loss)"
      ]
    },
    {
      "cell_type": "markdown",
      "metadata": {
        "id": "5n7yoE77JU50"
      },
      "source": [
        "### Prediction"
      ]
    },
    {
      "cell_type": "code",
      "execution_count": 395,
      "metadata": {
        "colab": {
          "base_uri": "https://localhost:8080/"
        },
        "id": "BjMinXVBJWlQ",
        "outputId": "f9634565-0a19-4b58-9472-2acafb06bee8"
      },
      "outputs": [
        {
          "name": "stdout",
          "output_type": "stream",
          "text": [
            "['B' 'C' 'A' 'C' 'A' 'A' 'C' 'B' 'C' 'C']\n",
            "[[2.46888344e-01 7.52764975e-01 3.46681253e-04]\n",
            " [1.43700517e-02 1.00325846e-01 8.85304102e-01]\n",
            " [9.85428555e-01 1.24080331e-02 2.16341228e-03]\n",
            " [8.95071779e-02 5.27285730e-02 8.57764249e-01]\n",
            " [9.23954673e-01 5.34976464e-02 2.25476805e-02]\n",
            " [9.91104044e-01 5.20949866e-03 3.68645699e-03]\n",
            " [3.37455459e-02 2.00816941e-02 9.46172760e-01]\n",
            " [2.49541135e-05 9.99969019e-01 6.02723542e-06]\n",
            " [9.81718124e-02 5.02678723e-02 8.51560315e-01]\n",
            " [6.00582894e-02 8.74295152e-04 9.39067415e-01]]\n",
            "['A' 'B' 'C']\n"
          ]
        },
        {
          "name": "stderr",
          "output_type": "stream",
          "text": [
            "c:\\Users\\ASUS\\AppData\\Local\\Programs\\Python\\Python310\\lib\\site-packages\\sklearn\\base.py:413: UserWarning: X has feature names, but LogisticRegression was fitted without feature names\n",
            "  warnings.warn(\n",
            "c:\\Users\\ASUS\\AppData\\Local\\Programs\\Python\\Python310\\lib\\site-packages\\sklearn\\base.py:413: UserWarning: X has feature names, but LogisticRegression was fitted without feature names\n",
            "  warnings.warn(\n"
          ]
        }
      ],
      "source": [
        "# print(\" - predicted class:\", model.predict([(5,3)])) # NOTE : EDIT VALUE HERE\n",
        "# print(\" - classes :\", model.classes_)\n",
        "# print(\" - probabilities :\", model.predict_proba([(5,3)]))\n",
        "print_answer(model)"
      ]
    },
    {
      "cell_type": "markdown",
      "metadata": {
        "id": "qZlYzENIxYLv"
      },
      "source": [
        "\n",
        "\n",
        "---\n",
        "\n"
      ]
    },
    {
      "cell_type": "markdown",
      "metadata": {
        "id": "fyDdDgKXxaOv"
      },
      "source": [
        "## **Naïve Bayes**"
      ]
    },
    {
      "cell_type": "markdown",
      "metadata": {
        "id": "5t4fBUbW8Zgf"
      },
      "source": [
        "### Import Libraries"
      ]
    },
    {
      "cell_type": "code",
      "execution_count": 396,
      "metadata": {
        "id": "mk8i_5dw8b23"
      },
      "outputs": [],
      "source": [
        "import numpy as np\n",
        "import pandas as pd\n",
        "\n",
        "from sklearn.naive_bayes import GaussianNB\n",
        "from sklearn.model_selection import train_test_split\n",
        "from sklearn.metrics import accuracy_score\n",
        "from sklearn.metrics import precision_score\n",
        "from sklearn.metrics import recall_score\n",
        "from sklearn.metrics import f1_score\n",
        "from sklearn.metrics import confusion_matrix\n",
        "from sklearn.metrics import classification_report\n",
        "from sklearn.metrics import roc_auc_score\n",
        "from sklearn.metrics import log_loss"
      ]
    },
    {
      "cell_type": "markdown",
      "metadata": {
        "id": "JOjMiK4MBXXJ"
      },
      "source": [
        "### Dataset and Train-Test Split"
      ]
    },
    {
      "cell_type": "code",
      "execution_count": 397,
      "metadata": {
        "id": "BSJLxo77BYUO"
      },
      "outputs": [],
      "source": [
        "CSV_PATH = \"./Ex1-Class-train.csv\"\n",
        "df = pd.read_csv(CSV_PATH)\n",
        "\n",
        "x_columns = [\"x1\",\"x2\",\"x3\",\"x4\",\"x5\"]\n",
        "y_column = 'y';\n",
        "X = df[x_columns]\n",
        "y = df[y_column]\n",
        "\n",
        "X_train, X_test, y_train, y_test = train_test_split(X, y, test_size=0.4)"
      ]
    },
    {
      "cell_type": "markdown",
      "metadata": {
        "id": "u8DDSkD08on2"
      },
      "source": [
        "### Model"
      ]
    },
    {
      "cell_type": "code",
      "execution_count": 398,
      "metadata": {
        "id": "r6mVnIZD8ruB"
      },
      "outputs": [],
      "source": [
        "model = GaussianNB()"
      ]
    },
    {
      "cell_type": "code",
      "execution_count": 399,
      "metadata": {
        "colab": {
          "base_uri": "https://localhost:8080/"
        },
        "id": "u6PVapGzv9uM",
        "outputId": "addb8a3e-ed8c-44aa-f6ec-4fbd13c55015"
      },
      "outputs": [
        {
          "data": {
            "text/html": [
              "<style>#sk-container-id-39 {color: black;background-color: white;}#sk-container-id-39 pre{padding: 0;}#sk-container-id-39 div.sk-toggleable {background-color: white;}#sk-container-id-39 label.sk-toggleable__label {cursor: pointer;display: block;width: 100%;margin-bottom: 0;padding: 0.3em;box-sizing: border-box;text-align: center;}#sk-container-id-39 label.sk-toggleable__label-arrow:before {content: \"▸\";float: left;margin-right: 0.25em;color: #696969;}#sk-container-id-39 label.sk-toggleable__label-arrow:hover:before {color: black;}#sk-container-id-39 div.sk-estimator:hover label.sk-toggleable__label-arrow:before {color: black;}#sk-container-id-39 div.sk-toggleable__content {max-height: 0;max-width: 0;overflow: hidden;text-align: left;background-color: #f0f8ff;}#sk-container-id-39 div.sk-toggleable__content pre {margin: 0.2em;color: black;border-radius: 0.25em;background-color: #f0f8ff;}#sk-container-id-39 input.sk-toggleable__control:checked~div.sk-toggleable__content {max-height: 200px;max-width: 100%;overflow: auto;}#sk-container-id-39 input.sk-toggleable__control:checked~label.sk-toggleable__label-arrow:before {content: \"▾\";}#sk-container-id-39 div.sk-estimator input.sk-toggleable__control:checked~label.sk-toggleable__label {background-color: #d4ebff;}#sk-container-id-39 div.sk-label input.sk-toggleable__control:checked~label.sk-toggleable__label {background-color: #d4ebff;}#sk-container-id-39 input.sk-hidden--visually {border: 0;clip: rect(1px 1px 1px 1px);clip: rect(1px, 1px, 1px, 1px);height: 1px;margin: -1px;overflow: hidden;padding: 0;position: absolute;width: 1px;}#sk-container-id-39 div.sk-estimator {font-family: monospace;background-color: #f0f8ff;border: 1px dotted black;border-radius: 0.25em;box-sizing: border-box;margin-bottom: 0.5em;}#sk-container-id-39 div.sk-estimator:hover {background-color: #d4ebff;}#sk-container-id-39 div.sk-parallel-item::after {content: \"\";width: 100%;border-bottom: 1px solid gray;flex-grow: 1;}#sk-container-id-39 div.sk-label:hover label.sk-toggleable__label {background-color: #d4ebff;}#sk-container-id-39 div.sk-serial::before {content: \"\";position: absolute;border-left: 1px solid gray;box-sizing: border-box;top: 0;bottom: 0;left: 50%;z-index: 0;}#sk-container-id-39 div.sk-serial {display: flex;flex-direction: column;align-items: center;background-color: white;padding-right: 0.2em;padding-left: 0.2em;position: relative;}#sk-container-id-39 div.sk-item {position: relative;z-index: 1;}#sk-container-id-39 div.sk-parallel {display: flex;align-items: stretch;justify-content: center;background-color: white;position: relative;}#sk-container-id-39 div.sk-item::before, #sk-container-id-39 div.sk-parallel-item::before {content: \"\";position: absolute;border-left: 1px solid gray;box-sizing: border-box;top: 0;bottom: 0;left: 50%;z-index: -1;}#sk-container-id-39 div.sk-parallel-item {display: flex;flex-direction: column;z-index: 1;position: relative;background-color: white;}#sk-container-id-39 div.sk-parallel-item:first-child::after {align-self: flex-end;width: 50%;}#sk-container-id-39 div.sk-parallel-item:last-child::after {align-self: flex-start;width: 50%;}#sk-container-id-39 div.sk-parallel-item:only-child::after {width: 0;}#sk-container-id-39 div.sk-dashed-wrapped {border: 1px dashed gray;margin: 0 0.4em 0.5em 0.4em;box-sizing: border-box;padding-bottom: 0.4em;background-color: white;}#sk-container-id-39 div.sk-label label {font-family: monospace;font-weight: bold;display: inline-block;line-height: 1.2em;}#sk-container-id-39 div.sk-label-container {text-align: center;}#sk-container-id-39 div.sk-container {/* jupyter's `normalize.less` sets `[hidden] { display: none; }` but bootstrap.min.css set `[hidden] { display: none !important; }` so we also need the `!important` here to be able to override the default hidden behavior on the sphinx rendered scikit-learn.org. See: https://github.com/scikit-learn/scikit-learn/issues/21755 */display: inline-block !important;position: relative;}#sk-container-id-39 div.sk-text-repr-fallback {display: none;}</style><div id=\"sk-container-id-39\" class=\"sk-top-container\"><div class=\"sk-text-repr-fallback\"><pre>GaussianNB()</pre><b>In a Jupyter environment, please rerun this cell to show the HTML representation or trust the notebook. <br />On GitHub, the HTML representation is unable to render, please try loading this page with nbviewer.org.</b></div><div class=\"sk-container\" hidden><div class=\"sk-item\"><div class=\"sk-estimator sk-toggleable\"><input class=\"sk-toggleable__control sk-hidden--visually\" id=\"sk-estimator-id-39\" type=\"checkbox\" checked><label for=\"sk-estimator-id-39\" class=\"sk-toggleable__label sk-toggleable__label-arrow\">GaussianNB</label><div class=\"sk-toggleable__content\"><pre>GaussianNB()</pre></div></div></div></div></div>"
            ],
            "text/plain": [
              "GaussianNB()"
            ]
          },
          "execution_count": 399,
          "metadata": {},
          "output_type": "execute_result"
        }
      ],
      "source": [
        "model.fit(X_train, y_train)"
      ]
    },
    {
      "cell_type": "markdown",
      "metadata": {
        "id": "QrqGYbBX-mZ0"
      },
      "source": [
        "### Evaluation"
      ]
    },
    {
      "cell_type": "code",
      "execution_count": 400,
      "metadata": {
        "colab": {
          "base_uri": "https://localhost:8080/"
        },
        "id": "GDDM8BWu83SD",
        "outputId": "a7cd1537-9663-4793-9b24-a7b2c40109db"
      },
      "outputs": [
        {
          "name": "stdout",
          "output_type": "stream",
          "text": [
            "Accuracy : 0.8026315789473685\n",
            "Precision : 0.8026315789473685\n",
            "Recall : 0.8026315789473685\n",
            "F1 : 0.8026315789473685\n",
            "Confustion Matrix :\n",
            " [[25  2  1]\n",
            " [ 4 18  3]\n",
            " [ 1  4 18]]\n",
            "Classification Report :\n",
            "               precision    recall  f1-score   support\n",
            "\n",
            "           A       0.83      0.89      0.86        28\n",
            "           B       0.75      0.72      0.73        25\n",
            "           C       0.82      0.78      0.80        23\n",
            "\n",
            "    accuracy                           0.80        76\n",
            "   macro avg       0.80      0.80      0.80        76\n",
            "weighted avg       0.80      0.80      0.80        76\n",
            "\n",
            "Roc score : 0.9250102361152281\n",
            "Log Loss : 0.6100523513974528\n"
          ]
        }
      ],
      "source": [
        "y_pred = model.predict(X_test)\n",
        "y_pred_proba = model.predict_proba(X_test)\n",
        "\n",
        "acc = accuracy_score(y_test, y_pred)\n",
        "prec = precision_score(y_test, y_pred, average='micro')\n",
        "recall = recall_score(y_test, y_pred, average='micro')\n",
        "f1 = f1_score(y_test, y_pred, average='micro')\n",
        "con = confusion_matrix(y_test, y_pred)\n",
        "report = classification_report(y_test, y_pred)\n",
        "roc = roc_auc_score(y_test, y_pred_proba,  multi_class='ovr')\n",
        "loss = log_loss(y_test, y_pred_proba)\n",
        "\n",
        "\n",
        "\n",
        "print(\"Accuracy :\", acc)\n",
        "print(\"Precision :\", prec)\n",
        "print(\"Recall :\", recall)\n",
        "print(\"F1 :\", f1)\n",
        "print(\"Confustion Matrix :\\n\", con)\n",
        "print(\"Classification Report :\\n\", report)\n",
        "print(\"Roc score :\", roc)\n",
        "print(\"Log Loss :\", loss)"
      ]
    },
    {
      "cell_type": "markdown",
      "metadata": {
        "id": "MIXGQSOOKIaJ"
      },
      "source": [
        "### Prediction"
      ]
    },
    {
      "cell_type": "code",
      "execution_count": 401,
      "metadata": {
        "colab": {
          "base_uri": "https://localhost:8080/"
        },
        "id": "qjOo1f44KKUd",
        "outputId": "6e6e9ae4-3da8-4a54-df87-ec161b45cba9"
      },
      "outputs": [
        {
          "name": "stdout",
          "output_type": "stream",
          "text": [
            "['A' 'C' 'A' 'C' 'A' 'A' 'C' 'B' 'C' 'C']\n",
            "[[8.59089859e-01 1.40909220e-01 9.21358444e-07]\n",
            " [9.97808415e-05 6.85227290e-02 9.31377490e-01]\n",
            " [9.90630598e-01 9.36774286e-03 1.65959936e-06]\n",
            " [9.27092761e-03 5.30273651e-02 9.37701707e-01]\n",
            " [6.14405142e-01 3.39612251e-01 4.59826066e-02]\n",
            " [9.87671593e-01 1.22750811e-02 5.33257320e-05]\n",
            " [4.58396944e-04 2.70357250e-02 9.72505878e-01]\n",
            " [2.26533429e-03 9.37030828e-01 6.07038379e-02]\n",
            " [1.13232497e-01 1.02774799e-01 7.83992704e-01]\n",
            " [4.95612626e-04 1.48110092e-01 8.51394295e-01]]\n",
            "['A' 'B' 'C']\n"
          ]
        }
      ],
      "source": [
        "# print(\" - predicted class:\", model.predict([(5,3)])) # NOTE : EDIT VALUE HERE\n",
        "# print(\" - classes :\", model.classes_)\n",
        "# print(\" - probabilities :\", model.predict_proba([(5,3)]))\n",
        "print_answer(model)"
      ]
    },
    {
      "cell_type": "markdown",
      "metadata": {
        "id": "xH7YNQBQoOvD"
      },
      "source": [
        "## K-Nearest Neighbors"
      ]
    },
    {
      "cell_type": "code",
      "execution_count": 402,
      "metadata": {
        "id": "yCAImUnSoVX7"
      },
      "outputs": [],
      "source": [
        "import numpy as np\n",
        "import pandas as pd\n",
        "\n",
        "from sklearn.neighbors import KNeighborsClassifier\n",
        "from sklearn.model_selection import train_test_split\n",
        "from sklearn.metrics import accuracy_score\n",
        "from sklearn.metrics import precision_score\n",
        "from sklearn.metrics import recall_score\n",
        "from sklearn.metrics import f1_score\n",
        "from sklearn.metrics import confusion_matrix\n",
        "from sklearn.metrics import classification_report\n",
        "from sklearn.metrics import roc_auc_score\n",
        "from sklearn.metrics import log_loss"
      ]
    },
    {
      "cell_type": "code",
      "execution_count": 403,
      "metadata": {
        "id": "LCOcl3g_rfvo"
      },
      "outputs": [],
      "source": [
        "CSV_PATH = \"./Ex1-Class-train.csv\"\n",
        "df = pd.read_csv(CSV_PATH)\n",
        "\n",
        "x_columns = [\"x1\",\"x2\",\"x3\",\"x4\",\"x5\"]\n",
        "y_column = 'y';\n",
        "X = df[x_columns]\n",
        "y = df[y_column]\n",
        "\n",
        "X_train, X_test, y_train, y_test = train_test_split(X, y, test_size=0.4)"
      ]
    },
    {
      "cell_type": "code",
      "execution_count": 404,
      "metadata": {
        "colab": {
          "base_uri": "https://localhost:8080/"
        },
        "id": "eRFnwWabodux",
        "outputId": "6f220c9f-ce80-4a6b-c4c1-b4c3843bda90"
      },
      "outputs": [
        {
          "data": {
            "text/html": [
              "<style>#sk-container-id-40 {color: black;background-color: white;}#sk-container-id-40 pre{padding: 0;}#sk-container-id-40 div.sk-toggleable {background-color: white;}#sk-container-id-40 label.sk-toggleable__label {cursor: pointer;display: block;width: 100%;margin-bottom: 0;padding: 0.3em;box-sizing: border-box;text-align: center;}#sk-container-id-40 label.sk-toggleable__label-arrow:before {content: \"▸\";float: left;margin-right: 0.25em;color: #696969;}#sk-container-id-40 label.sk-toggleable__label-arrow:hover:before {color: black;}#sk-container-id-40 div.sk-estimator:hover label.sk-toggleable__label-arrow:before {color: black;}#sk-container-id-40 div.sk-toggleable__content {max-height: 0;max-width: 0;overflow: hidden;text-align: left;background-color: #f0f8ff;}#sk-container-id-40 div.sk-toggleable__content pre {margin: 0.2em;color: black;border-radius: 0.25em;background-color: #f0f8ff;}#sk-container-id-40 input.sk-toggleable__control:checked~div.sk-toggleable__content {max-height: 200px;max-width: 100%;overflow: auto;}#sk-container-id-40 input.sk-toggleable__control:checked~label.sk-toggleable__label-arrow:before {content: \"▾\";}#sk-container-id-40 div.sk-estimator input.sk-toggleable__control:checked~label.sk-toggleable__label {background-color: #d4ebff;}#sk-container-id-40 div.sk-label input.sk-toggleable__control:checked~label.sk-toggleable__label {background-color: #d4ebff;}#sk-container-id-40 input.sk-hidden--visually {border: 0;clip: rect(1px 1px 1px 1px);clip: rect(1px, 1px, 1px, 1px);height: 1px;margin: -1px;overflow: hidden;padding: 0;position: absolute;width: 1px;}#sk-container-id-40 div.sk-estimator {font-family: monospace;background-color: #f0f8ff;border: 1px dotted black;border-radius: 0.25em;box-sizing: border-box;margin-bottom: 0.5em;}#sk-container-id-40 div.sk-estimator:hover {background-color: #d4ebff;}#sk-container-id-40 div.sk-parallel-item::after {content: \"\";width: 100%;border-bottom: 1px solid gray;flex-grow: 1;}#sk-container-id-40 div.sk-label:hover label.sk-toggleable__label {background-color: #d4ebff;}#sk-container-id-40 div.sk-serial::before {content: \"\";position: absolute;border-left: 1px solid gray;box-sizing: border-box;top: 0;bottom: 0;left: 50%;z-index: 0;}#sk-container-id-40 div.sk-serial {display: flex;flex-direction: column;align-items: center;background-color: white;padding-right: 0.2em;padding-left: 0.2em;position: relative;}#sk-container-id-40 div.sk-item {position: relative;z-index: 1;}#sk-container-id-40 div.sk-parallel {display: flex;align-items: stretch;justify-content: center;background-color: white;position: relative;}#sk-container-id-40 div.sk-item::before, #sk-container-id-40 div.sk-parallel-item::before {content: \"\";position: absolute;border-left: 1px solid gray;box-sizing: border-box;top: 0;bottom: 0;left: 50%;z-index: -1;}#sk-container-id-40 div.sk-parallel-item {display: flex;flex-direction: column;z-index: 1;position: relative;background-color: white;}#sk-container-id-40 div.sk-parallel-item:first-child::after {align-self: flex-end;width: 50%;}#sk-container-id-40 div.sk-parallel-item:last-child::after {align-self: flex-start;width: 50%;}#sk-container-id-40 div.sk-parallel-item:only-child::after {width: 0;}#sk-container-id-40 div.sk-dashed-wrapped {border: 1px dashed gray;margin: 0 0.4em 0.5em 0.4em;box-sizing: border-box;padding-bottom: 0.4em;background-color: white;}#sk-container-id-40 div.sk-label label {font-family: monospace;font-weight: bold;display: inline-block;line-height: 1.2em;}#sk-container-id-40 div.sk-label-container {text-align: center;}#sk-container-id-40 div.sk-container {/* jupyter's `normalize.less` sets `[hidden] { display: none; }` but bootstrap.min.css set `[hidden] { display: none !important; }` so we also need the `!important` here to be able to override the default hidden behavior on the sphinx rendered scikit-learn.org. See: https://github.com/scikit-learn/scikit-learn/issues/21755 */display: inline-block !important;position: relative;}#sk-container-id-40 div.sk-text-repr-fallback {display: none;}</style><div id=\"sk-container-id-40\" class=\"sk-top-container\"><div class=\"sk-text-repr-fallback\"><pre>KNeighborsClassifier(n_neighbors=7)</pre><b>In a Jupyter environment, please rerun this cell to show the HTML representation or trust the notebook. <br />On GitHub, the HTML representation is unable to render, please try loading this page with nbviewer.org.</b></div><div class=\"sk-container\" hidden><div class=\"sk-item\"><div class=\"sk-estimator sk-toggleable\"><input class=\"sk-toggleable__control sk-hidden--visually\" id=\"sk-estimator-id-40\" type=\"checkbox\" checked><label for=\"sk-estimator-id-40\" class=\"sk-toggleable__label sk-toggleable__label-arrow\">KNeighborsClassifier</label><div class=\"sk-toggleable__content\"><pre>KNeighborsClassifier(n_neighbors=7)</pre></div></div></div></div></div>"
            ],
            "text/plain": [
              "KNeighborsClassifier(n_neighbors=7)"
            ]
          },
          "execution_count": 404,
          "metadata": {},
          "output_type": "execute_result"
        }
      ],
      "source": [
        "model = KNeighborsClassifier(n_neighbors=7)\n",
        "model.fit(X_train.values, y_train)"
      ]
    },
    {
      "cell_type": "code",
      "execution_count": 405,
      "metadata": {
        "colab": {
          "base_uri": "https://localhost:8080/"
        },
        "id": "zORbxlggoiZF",
        "outputId": "f6f75a56-b679-4153-8a8b-5518078d903d"
      },
      "outputs": [
        {
          "name": "stdout",
          "output_type": "stream",
          "text": [
            "Accuracy : 0.8157894736842105\n",
            "Precision : 0.8157894736842105\n",
            "Recall : 0.8157894736842105\n",
            "F1 : 0.8157894736842104\n",
            "Confustion Matrix :\n",
            " [[24  1  1]\n",
            " [ 8 19  2]\n",
            " [ 2  0 19]]\n",
            "Classification Report :\n",
            "               precision    recall  f1-score   support\n",
            "\n",
            "           A       0.71      0.92      0.80        26\n",
            "           B       0.95      0.66      0.78        29\n",
            "           C       0.86      0.90      0.88        21\n",
            "\n",
            "    accuracy                           0.82        76\n",
            "   macro avg       0.84      0.83      0.82        76\n",
            "weighted avg       0.84      0.82      0.81        76\n",
            "\n",
            "Roc score : 0.9655002008670387\n",
            "Log Loss : 0.8194753081944663\n"
          ]
        },
        {
          "name": "stderr",
          "output_type": "stream",
          "text": [
            "c:\\Users\\ASUS\\AppData\\Local\\Programs\\Python\\Python310\\lib\\site-packages\\sklearn\\base.py:413: UserWarning: X has feature names, but KNeighborsClassifier was fitted without feature names\n",
            "  warnings.warn(\n",
            "c:\\Users\\ASUS\\AppData\\Local\\Programs\\Python\\Python310\\lib\\site-packages\\sklearn\\base.py:413: UserWarning: X has feature names, but KNeighborsClassifier was fitted without feature names\n",
            "  warnings.warn(\n"
          ]
        }
      ],
      "source": [
        "y_pred = model.predict(X_test)\n",
        "y_pred_proba = model.predict_proba(X_test)\n",
        "\n",
        "acc = accuracy_score(y_test, y_pred)\n",
        "prec = precision_score(y_test, y_pred, average='micro')\n",
        "recall = recall_score(y_test, y_pred, average='micro')\n",
        "f1 = f1_score(y_test, y_pred, average='micro')\n",
        "con = confusion_matrix(y_test, y_pred)\n",
        "report = classification_report(y_test, y_pred)\n",
        "roc = roc_auc_score(y_test, y_pred_proba,  multi_class='ovr')\n",
        "loss = log_loss(y_test, y_pred_proba)\n",
        "\n",
        "\n",
        "\n",
        "print(\"Accuracy :\", acc)\n",
        "print(\"Precision :\", prec)\n",
        "print(\"Recall :\", recall)\n",
        "print(\"F1 :\", f1)\n",
        "print(\"Confustion Matrix :\\n\", con)\n",
        "print(\"Classification Report :\\n\", report)\n",
        "print(\"Roc score :\", roc)\n",
        "print(\"Log Loss :\", loss)"
      ]
    },
    {
      "cell_type": "code",
      "execution_count": 406,
      "metadata": {},
      "outputs": [
        {
          "name": "stdout",
          "output_type": "stream",
          "text": [
            "['A' 'C' 'A' 'C' 'A' 'A' 'C' 'B' 'C' 'C']\n",
            "[[0.71428571 0.28571429 0.        ]\n",
            " [0.         0.14285714 0.85714286]\n",
            " [0.85714286 0.         0.14285714]\n",
            " [0.         0.         1.        ]\n",
            " [0.85714286 0.14285714 0.        ]\n",
            " [0.85714286 0.         0.14285714]\n",
            " [0.         0.         1.        ]\n",
            " [0.         1.         0.        ]\n",
            " [0.14285714 0.         0.85714286]\n",
            " [0.         0.         1.        ]]\n",
            "['A' 'B' 'C']\n"
          ]
        },
        {
          "name": "stderr",
          "output_type": "stream",
          "text": [
            "c:\\Users\\ASUS\\AppData\\Local\\Programs\\Python\\Python310\\lib\\site-packages\\sklearn\\base.py:413: UserWarning: X has feature names, but KNeighborsClassifier was fitted without feature names\n",
            "  warnings.warn(\n",
            "c:\\Users\\ASUS\\AppData\\Local\\Programs\\Python\\Python310\\lib\\site-packages\\sklearn\\base.py:413: UserWarning: X has feature names, but KNeighborsClassifier was fitted without feature names\n",
            "  warnings.warn(\n"
          ]
        }
      ],
      "source": [
        "\n",
        "print_answer(model)"
      ]
    },
    {
      "cell_type": "markdown",
      "metadata": {
        "id": "r0znhtVBpyDY"
      },
      "source": [
        "## Artificial Neural Network"
      ]
    },
    {
      "cell_type": "code",
      "execution_count": 407,
      "metadata": {
        "id": "IHEmIJKIp4CA"
      },
      "outputs": [],
      "source": [
        "import numpy as np\n",
        "import pandas as pd\n",
        "\n",
        "from sklearn.neural_network import MLPClassifier\n",
        "from sklearn.model_selection import train_test_split\n",
        "from sklearn.metrics import accuracy_score\n",
        "from sklearn.metrics import precision_score\n",
        "from sklearn.metrics import recall_score\n",
        "from sklearn.metrics import f1_score\n",
        "from sklearn.metrics import confusion_matrix\n",
        "from sklearn.metrics import classification_report\n",
        "from sklearn.metrics import roc_auc_score\n",
        "from sklearn.metrics import log_loss"
      ]
    },
    {
      "cell_type": "code",
      "execution_count": 408,
      "metadata": {
        "id": "w37Va2unrhII"
      },
      "outputs": [],
      "source": [
        "CSV_PATH = \"./Ex1-Class-train.csv\"\n",
        "df = pd.read_csv(CSV_PATH)\n",
        "\n",
        "x_columns = [\"x1\",\"x2\",\"x3\",\"x4\",\"x5\"]\n",
        "y_column = 'y';\n",
        "X = df[x_columns]\n",
        "y = df[y_column]\n",
        "\n",
        "X_train, X_test, y_train, y_test = train_test_split(X, y, test_size=0.4)"
      ]
    },
    {
      "cell_type": "code",
      "execution_count": 409,
      "metadata": {
        "colab": {
          "base_uri": "https://localhost:8080/"
        },
        "id": "m9GCV4V3p6Bs",
        "outputId": "a93bacbe-8983-43c8-fba9-a33c5be38890"
      },
      "outputs": [
        {
          "data": {
            "text/html": [
              "<style>#sk-container-id-41 {color: black;background-color: white;}#sk-container-id-41 pre{padding: 0;}#sk-container-id-41 div.sk-toggleable {background-color: white;}#sk-container-id-41 label.sk-toggleable__label {cursor: pointer;display: block;width: 100%;margin-bottom: 0;padding: 0.3em;box-sizing: border-box;text-align: center;}#sk-container-id-41 label.sk-toggleable__label-arrow:before {content: \"▸\";float: left;margin-right: 0.25em;color: #696969;}#sk-container-id-41 label.sk-toggleable__label-arrow:hover:before {color: black;}#sk-container-id-41 div.sk-estimator:hover label.sk-toggleable__label-arrow:before {color: black;}#sk-container-id-41 div.sk-toggleable__content {max-height: 0;max-width: 0;overflow: hidden;text-align: left;background-color: #f0f8ff;}#sk-container-id-41 div.sk-toggleable__content pre {margin: 0.2em;color: black;border-radius: 0.25em;background-color: #f0f8ff;}#sk-container-id-41 input.sk-toggleable__control:checked~div.sk-toggleable__content {max-height: 200px;max-width: 100%;overflow: auto;}#sk-container-id-41 input.sk-toggleable__control:checked~label.sk-toggleable__label-arrow:before {content: \"▾\";}#sk-container-id-41 div.sk-estimator input.sk-toggleable__control:checked~label.sk-toggleable__label {background-color: #d4ebff;}#sk-container-id-41 div.sk-label input.sk-toggleable__control:checked~label.sk-toggleable__label {background-color: #d4ebff;}#sk-container-id-41 input.sk-hidden--visually {border: 0;clip: rect(1px 1px 1px 1px);clip: rect(1px, 1px, 1px, 1px);height: 1px;margin: -1px;overflow: hidden;padding: 0;position: absolute;width: 1px;}#sk-container-id-41 div.sk-estimator {font-family: monospace;background-color: #f0f8ff;border: 1px dotted black;border-radius: 0.25em;box-sizing: border-box;margin-bottom: 0.5em;}#sk-container-id-41 div.sk-estimator:hover {background-color: #d4ebff;}#sk-container-id-41 div.sk-parallel-item::after {content: \"\";width: 100%;border-bottom: 1px solid gray;flex-grow: 1;}#sk-container-id-41 div.sk-label:hover label.sk-toggleable__label {background-color: #d4ebff;}#sk-container-id-41 div.sk-serial::before {content: \"\";position: absolute;border-left: 1px solid gray;box-sizing: border-box;top: 0;bottom: 0;left: 50%;z-index: 0;}#sk-container-id-41 div.sk-serial {display: flex;flex-direction: column;align-items: center;background-color: white;padding-right: 0.2em;padding-left: 0.2em;position: relative;}#sk-container-id-41 div.sk-item {position: relative;z-index: 1;}#sk-container-id-41 div.sk-parallel {display: flex;align-items: stretch;justify-content: center;background-color: white;position: relative;}#sk-container-id-41 div.sk-item::before, #sk-container-id-41 div.sk-parallel-item::before {content: \"\";position: absolute;border-left: 1px solid gray;box-sizing: border-box;top: 0;bottom: 0;left: 50%;z-index: -1;}#sk-container-id-41 div.sk-parallel-item {display: flex;flex-direction: column;z-index: 1;position: relative;background-color: white;}#sk-container-id-41 div.sk-parallel-item:first-child::after {align-self: flex-end;width: 50%;}#sk-container-id-41 div.sk-parallel-item:last-child::after {align-self: flex-start;width: 50%;}#sk-container-id-41 div.sk-parallel-item:only-child::after {width: 0;}#sk-container-id-41 div.sk-dashed-wrapped {border: 1px dashed gray;margin: 0 0.4em 0.5em 0.4em;box-sizing: border-box;padding-bottom: 0.4em;background-color: white;}#sk-container-id-41 div.sk-label label {font-family: monospace;font-weight: bold;display: inline-block;line-height: 1.2em;}#sk-container-id-41 div.sk-label-container {text-align: center;}#sk-container-id-41 div.sk-container {/* jupyter's `normalize.less` sets `[hidden] { display: none; }` but bootstrap.min.css set `[hidden] { display: none !important; }` so we also need the `!important` here to be able to override the default hidden behavior on the sphinx rendered scikit-learn.org. See: https://github.com/scikit-learn/scikit-learn/issues/21755 */display: inline-block !important;position: relative;}#sk-container-id-41 div.sk-text-repr-fallback {display: none;}</style><div id=\"sk-container-id-41\" class=\"sk-top-container\"><div class=\"sk-text-repr-fallback\"><pre>MLPClassifier(activation=&#x27;tanh&#x27;, hidden_layer_sizes=(10, 10), max_iter=1000)</pre><b>In a Jupyter environment, please rerun this cell to show the HTML representation or trust the notebook. <br />On GitHub, the HTML representation is unable to render, please try loading this page with nbviewer.org.</b></div><div class=\"sk-container\" hidden><div class=\"sk-item\"><div class=\"sk-estimator sk-toggleable\"><input class=\"sk-toggleable__control sk-hidden--visually\" id=\"sk-estimator-id-41\" type=\"checkbox\" checked><label for=\"sk-estimator-id-41\" class=\"sk-toggleable__label sk-toggleable__label-arrow\">MLPClassifier</label><div class=\"sk-toggleable__content\"><pre>MLPClassifier(activation=&#x27;tanh&#x27;, hidden_layer_sizes=(10, 10), max_iter=1000)</pre></div></div></div></div></div>"
            ],
            "text/plain": [
              "MLPClassifier(activation='tanh', hidden_layer_sizes=(10, 10), max_iter=1000)"
            ]
          },
          "execution_count": 409,
          "metadata": {},
          "output_type": "execute_result"
        }
      ],
      "source": [
        "model = MLPClassifier(hidden_layer_sizes=(10,10), max_iter=1000, activation=\"tanh\")\n",
        "model.fit(X_train.values, y_train)"
      ]
    },
    {
      "cell_type": "code",
      "execution_count": 410,
      "metadata": {
        "colab": {
          "base_uri": "https://localhost:8080/"
        },
        "id": "hTs_XjFAp8hu",
        "outputId": "1eb47839-e6e0-4d6b-a45a-aa7401ce5301"
      },
      "outputs": [
        {
          "name": "stdout",
          "output_type": "stream",
          "text": [
            "Accuracy : 0.881578947368421\n",
            "Precision : 0.881578947368421\n",
            "Recall : 0.881578947368421\n",
            "F1 : 0.881578947368421\n",
            "Confustion Matrix :\n",
            " [[18  4  1]\n",
            " [ 1 22  0]\n",
            " [ 2  1 27]]\n",
            "Classification Report :\n",
            "               precision    recall  f1-score   support\n",
            "\n",
            "           A       0.86      0.78      0.82        23\n",
            "           B       0.81      0.96      0.88        23\n",
            "           C       0.96      0.90      0.93        30\n",
            "\n",
            "    accuracy                           0.88        76\n",
            "   macro avg       0.88      0.88      0.88        76\n",
            "weighted avg       0.89      0.88      0.88        76\n",
            "\n",
            "Roc score : 0.9511439248928996\n",
            "Log Loss : 0.43356906309654575\n"
          ]
        },
        {
          "name": "stderr",
          "output_type": "stream",
          "text": [
            "c:\\Users\\ASUS\\AppData\\Local\\Programs\\Python\\Python310\\lib\\site-packages\\sklearn\\base.py:413: UserWarning: X has feature names, but MLPClassifier was fitted without feature names\n",
            "  warnings.warn(\n",
            "c:\\Users\\ASUS\\AppData\\Local\\Programs\\Python\\Python310\\lib\\site-packages\\sklearn\\base.py:413: UserWarning: X has feature names, but MLPClassifier was fitted without feature names\n",
            "  warnings.warn(\n"
          ]
        }
      ],
      "source": [
        "y_pred = model.predict(X_test)\n",
        "y_pred_proba = model.predict_proba(X_test)\n",
        "\n",
        "acc = accuracy_score(y_test, y_pred)\n",
        "prec = precision_score(y_test, y_pred, average='micro')\n",
        "recall = recall_score(y_test, y_pred, average='micro')\n",
        "f1 = f1_score(y_test, y_pred, average='micro')\n",
        "con = confusion_matrix(y_test, y_pred)\n",
        "report = classification_report(y_test, y_pred)\n",
        "roc = roc_auc_score(y_test, y_pred_proba,  multi_class='ovr')\n",
        "loss = log_loss(y_test, y_pred_proba)\n",
        "\n",
        "\n",
        "\n",
        "print(\"Accuracy :\", acc)\n",
        "print(\"Precision :\", prec)\n",
        "print(\"Recall :\", recall)\n",
        "print(\"F1 :\", f1)\n",
        "print(\"Confustion Matrix :\\n\", con)\n",
        "print(\"Classification Report :\\n\", report)\n",
        "print(\"Roc score :\", roc)\n",
        "print(\"Log Loss :\", loss)\n"
      ]
    },
    {
      "cell_type": "code",
      "execution_count": 411,
      "metadata": {},
      "outputs": [
        {
          "name": "stdout",
          "output_type": "stream",
          "text": [
            "['A' 'C' 'A' 'C' 'A' 'A' 'C' 'B' 'C' 'C']\n",
            "[[5.01125587e-01 4.94648191e-01 4.22622168e-03]\n",
            " [1.35043240e-02 3.77331660e-01 6.09164016e-01]\n",
            " [9.75162105e-01 2.08613487e-02 3.97654597e-03]\n",
            " [1.11166141e-02 3.94446452e-03 9.84938921e-01]\n",
            " [7.12153808e-01 2.83432576e-01 4.41361598e-03]\n",
            " [9.89177058e-01 5.66458352e-03 5.15835895e-03]\n",
            " [4.70672648e-03 1.00468739e-02 9.85246400e-01]\n",
            " [6.55755793e-03 9.82343217e-01 1.10992249e-02]\n",
            " [2.98297010e-02 7.43231426e-04 9.69427068e-01]\n",
            " [1.94248187e-02 1.98547303e-01 7.82027878e-01]]\n",
            "['A' 'B' 'C']\n"
          ]
        },
        {
          "name": "stderr",
          "output_type": "stream",
          "text": [
            "c:\\Users\\ASUS\\AppData\\Local\\Programs\\Python\\Python310\\lib\\site-packages\\sklearn\\base.py:413: UserWarning: X has feature names, but MLPClassifier was fitted without feature names\n",
            "  warnings.warn(\n",
            "c:\\Users\\ASUS\\AppData\\Local\\Programs\\Python\\Python310\\lib\\site-packages\\sklearn\\base.py:413: UserWarning: X has feature names, but MLPClassifier was fitted without feature names\n",
            "  warnings.warn(\n"
          ]
        }
      ],
      "source": [
        "\n",
        "print_answer(model)"
      ]
    },
    {
      "cell_type": "markdown",
      "metadata": {
        "id": "aEj_fxbjqmb-"
      },
      "source": [
        "## K-Fold Cross-Validation"
      ]
    },
    {
      "cell_type": "code",
      "execution_count": 412,
      "metadata": {
        "id": "FBNg8Shmqqhh"
      },
      "outputs": [],
      "source": [
        "import numpy as np\n",
        "import pandas as pd\n",
        "\n",
        "from sklearn.model_selection import KFold\n",
        "\n",
        "from sklearn.neural_network import MLPClassifier\n",
        "\n",
        "from sklearn.metrics import accuracy_score\n",
        "from sklearn.metrics import precision_score\n",
        "from sklearn.metrics import recall_score\n",
        "from sklearn.metrics import f1_score\n",
        "from sklearn.metrics import confusion_matrix\n",
        "from sklearn.metrics import classification_report\n",
        "from sklearn.metrics import roc_auc_score\n",
        "from sklearn.metrics import log_loss"
      ]
    },
    {
      "cell_type": "code",
      "execution_count": 413,
      "metadata": {
        "id": "JZR2Q_nxrIPI"
      },
      "outputs": [],
      "source": [
        "CSV_PATH = \"./Ex1-Class-train.csv\"\n",
        "df = pd.read_csv(CSV_PATH)\n",
        "\n",
        "x_columns = [\"x1\",\"x2\",\"x3\",\"x4\",\"x5\"]\n",
        "y_column = 'y';\n",
        "X = df[x_columns]\n",
        "y = df[y_column]"
      ]
    },
    {
      "cell_type": "code",
      "execution_count": 414,
      "metadata": {
        "id": "i00uFjQPrk6s"
      },
      "outputs": [],
      "source": [
        "kf = KFold(n_splits=4)"
      ]
    },
    {
      "cell_type": "code",
      "execution_count": 415,
      "metadata": {
        "colab": {
          "base_uri": "https://localhost:8080/"
        },
        "id": "Bd6WzT4Nrq_l",
        "outputId": "5ba2c8b6-3a59-4f97-9440-49b8ddd0891f"
      },
      "outputs": [
        {
          "name": "stdout",
          "output_type": "stream",
          "text": [
            "Accuracy (k) : 0.875\n",
            "Precision (k) : 0.875\n",
            "Recall (k) : 0.875\n",
            "F1 (k) : 0.875\n",
            "Confustion Matrix (k) :\n",
            " [[11  2  0]\n",
            " [ 2 17  1]\n",
            " [ 1  0 14]]\n",
            "Classification Report (k) :\n",
            "               precision    recall  f1-score   support\n",
            "\n",
            "           A       0.79      0.85      0.81        13\n",
            "           B       0.89      0.85      0.87        20\n",
            "           C       0.93      0.93      0.93        15\n",
            "\n",
            "    accuracy                           0.88        48\n",
            "   macro avg       0.87      0.88      0.87        48\n",
            "weighted avg       0.88      0.88      0.88        48\n",
            "\n",
            "Accuracy (k) : 0.875\n",
            "Precision (k) : 0.875\n",
            "Recall (k) : 0.875\n",
            "F1 (k) : 0.875\n",
            "Confustion Matrix (k) :\n",
            " [[12  3  1]\n",
            " [ 1 15  1]\n",
            " [ 0  0 15]]\n",
            "Classification Report (k) :\n",
            "               precision    recall  f1-score   support\n",
            "\n",
            "           A       0.92      0.75      0.83        16\n",
            "           B       0.83      0.88      0.86        17\n",
            "           C       0.88      1.00      0.94        15\n",
            "\n",
            "    accuracy                           0.88        48\n",
            "   macro avg       0.88      0.88      0.87        48\n",
            "weighted avg       0.88      0.88      0.87        48\n",
            "\n",
            "Accuracy (k) : 0.9148936170212766\n",
            "Precision (k) : 0.9148936170212766\n",
            "Recall (k) : 0.9148936170212766\n",
            "F1 (k) : 0.9148936170212766\n",
            "Confustion Matrix (k) :\n",
            " [[11  2  0]\n",
            " [ 1 14  0]\n",
            " [ 0  1 18]]\n",
            "Classification Report (k) :\n",
            "               precision    recall  f1-score   support\n",
            "\n",
            "           A       0.92      0.85      0.88        13\n",
            "           B       0.82      0.93      0.87        15\n",
            "           C       1.00      0.95      0.97        19\n",
            "\n",
            "    accuracy                           0.91        47\n",
            "   macro avg       0.91      0.91      0.91        47\n",
            "weighted avg       0.92      0.91      0.92        47\n",
            "\n",
            "Accuracy (k) : 0.9361702127659575\n",
            "Precision (k) : 0.9361702127659575\n",
            "Recall (k) : 0.9361702127659575\n",
            "F1 (k) : 0.9361702127659575\n",
            "Confustion Matrix (k) :\n",
            " [[19  1  1]\n",
            " [ 0 13  0]\n",
            " [ 1  0 12]]\n",
            "Classification Report (k) :\n",
            "               precision    recall  f1-score   support\n",
            "\n",
            "           A       0.95      0.90      0.93        21\n",
            "           B       0.93      1.00      0.96        13\n",
            "           C       0.92      0.92      0.92        13\n",
            "\n",
            "    accuracy                           0.94        47\n",
            "   macro avg       0.93      0.94      0.94        47\n",
            "weighted avg       0.94      0.94      0.94        47\n",
            "\n",
            "------------------------------------\n",
            "Mean Accuracy : 0.9002659574468085\n",
            "Mean Precision : 0.9002659574468085\n",
            "Mean Recall : 0.9002659574468085\n",
            "Mean F1 : 0.9002659574468085\n"
          ]
        }
      ],
      "source": [
        "acc_list = []\n",
        "prec_list = []\n",
        "recall_list = []\n",
        "f1_list = []\n",
        "\n",
        "\n",
        "for train_index, test_index in kf.split(X):\n",
        "  X_train, X_test = X.loc[train_index], X.loc[test_index]\n",
        "  y_train, y_test = y.loc[train_index], y.loc[test_index]\n",
        "\n",
        "  model = MLPClassifier(hidden_layer_sizes=(10,10), max_iter=5000)\n",
        "  model.fit(X_train, y_train)\n",
        "\n",
        "  y_pred = model.predict(X_test)\n",
        "  y_pred = model.predict(X_test)\n",
        "  y_pred_proba = model.predict_proba(X_test)\n",
        "\n",
        "  acc = accuracy_score(y_test, y_pred)\n",
        "  prec = precision_score(y_test, y_pred, average='micro')\n",
        "  recall = recall_score(y_test, y_pred, average='micro')\n",
        "  f1 = f1_score(y_test, y_pred, average='micro')\n",
        "  con = confusion_matrix(y_test, y_pred)\n",
        "  report = classification_report(y_test, y_pred)\n",
        "\n",
        "  print(\"Accuracy (k) :\", acc)\n",
        "  print(\"Precision (k) :\", prec)\n",
        "  print(\"Recall (k) :\", recall)\n",
        "  print(\"F1 (k) :\", f1)\n",
        "  print(\"Confustion Matrix (k) :\\n\", con)\n",
        "  print(\"Classification Report (k) :\\n\", report)\n",
        "  acc_list.append(acc)\n",
        "  prec_list.append(prec)\n",
        "  recall_list.append(recall)\n",
        "  f1_list.append(f1)\n",
        "\n",
        "print(\"------------------------------------\")\n",
        "print(\"Mean Accuracy :\", np.mean(acc_list))\n",
        "print(\"Mean Precision :\", np.mean(prec_list))\n",
        "print(\"Mean Recall :\", np.mean(recall_list))\n",
        "print(\"Mean F1 :\", np.mean(f1_list))"
      ]
    },
    {
      "cell_type": "code",
      "execution_count": 416,
      "metadata": {},
      "outputs": [
        {
          "name": "stdout",
          "output_type": "stream",
          "text": [
            "['B' 'B' 'A' 'C' 'A' 'A' 'C' 'B' 'C' 'C']\n",
            "[[3.56392162e-01 6.43602033e-01 5.80517498e-06]\n",
            " [3.80410478e-03 5.23873103e-01 4.72322792e-01]\n",
            " [8.95338899e-01 1.04628404e-01 3.26977117e-05]\n",
            " [2.31246470e-02 1.41071956e-03 9.75464633e-01]\n",
            " [9.01133042e-01 9.70034864e-02 1.86347187e-03]\n",
            " [9.07908466e-01 9.15599731e-02 5.31560387e-04]\n",
            " [8.55348477e-03 7.14312629e-03 9.84303389e-01]\n",
            " [1.23726712e-03 9.98762473e-01 2.60244666e-07]\n",
            " [5.67271688e-02 6.46292392e-03 9.36809907e-01]\n",
            " [1.36442582e-03 1.00766333e-03 9.97627911e-01]]\n",
            "['A' 'B' 'C']\n"
          ]
        }
      ],
      "source": [
        "\n",
        "print_answer(model)"
      ]
    },
    {
      "cell_type": "code",
      "execution_count": 417,
      "metadata": {},
      "outputs": [
        {
          "name": "stdout",
          "output_type": "stream",
          "text": [
            "Accuracy (k) : 0.8333333333333334\n",
            "Precision (k) : 0.8333333333333334\n",
            "Recall (k) : 0.8333333333333334\n",
            "F1 (k) : 0.8333333333333334\n",
            "Confustion Matrix (k) :\n",
            " [[11  2  0]\n",
            " [ 3 15  2]\n",
            " [ 1  0 14]]\n",
            "Classification Report (k) :\n",
            "               precision    recall  f1-score   support\n",
            "\n",
            "           A       0.73      0.85      0.79        13\n",
            "           B       0.88      0.75      0.81        20\n",
            "           C       0.88      0.93      0.90        15\n",
            "\n",
            "    accuracy                           0.83        48\n",
            "   macro avg       0.83      0.84      0.83        48\n",
            "weighted avg       0.84      0.83      0.83        48\n",
            "\n",
            "Accuracy (k) : 0.8541666666666666\n",
            "Precision (k) : 0.8541666666666666\n",
            "Recall (k) : 0.8541666666666666\n",
            "F1 (k) : 0.8541666666666666\n",
            "Confustion Matrix (k) :\n",
            " [[12  3  1]\n",
            " [ 2 14  1]\n",
            " [ 0  0 15]]\n",
            "Classification Report (k) :\n",
            "               precision    recall  f1-score   support\n",
            "\n",
            "           A       0.86      0.75      0.80        16\n",
            "           B       0.82      0.82      0.82        17\n",
            "           C       0.88      1.00      0.94        15\n",
            "\n",
            "    accuracy                           0.85        48\n",
            "   macro avg       0.85      0.86      0.85        48\n",
            "weighted avg       0.85      0.85      0.85        48\n",
            "\n",
            "Accuracy (k) : 0.9148936170212766\n",
            "Precision (k) : 0.9148936170212766\n",
            "Recall (k) : 0.9148936170212766\n",
            "F1 (k) : 0.9148936170212766\n",
            "Confustion Matrix (k) :\n",
            " [[11  2  0]\n",
            " [ 2 13  0]\n",
            " [ 0  0 19]]\n",
            "Classification Report (k) :\n",
            "               precision    recall  f1-score   support\n",
            "\n",
            "           A       0.85      0.85      0.85        13\n",
            "           B       0.87      0.87      0.87        15\n",
            "           C       1.00      1.00      1.00        19\n",
            "\n",
            "    accuracy                           0.91        47\n",
            "   macro avg       0.90      0.90      0.90        47\n",
            "weighted avg       0.91      0.91      0.91        47\n",
            "\n",
            "Accuracy (k) : 0.9361702127659575\n",
            "Precision (k) : 0.9361702127659575\n",
            "Recall (k) : 0.9361702127659575\n",
            "F1 (k) : 0.9361702127659575\n",
            "Confustion Matrix (k) :\n",
            " [[19  1  1]\n",
            " [ 0 13  0]\n",
            " [ 1  0 12]]\n",
            "Classification Report (k) :\n",
            "               precision    recall  f1-score   support\n",
            "\n",
            "           A       0.95      0.90      0.93        21\n",
            "           B       0.93      1.00      0.96        13\n",
            "           C       0.92      0.92      0.92        13\n",
            "\n",
            "    accuracy                           0.94        47\n",
            "   macro avg       0.93      0.94      0.94        47\n",
            "weighted avg       0.94      0.94      0.94        47\n",
            "\n",
            "------------------------------------\n",
            "Mean Accuracy : 0.8846409574468085\n",
            "Mean Precision : 0.8846409574468085\n",
            "Mean Recall : 0.8846409574468085\n",
            "Mean F1 : 0.8846409574468085\n"
          ]
        }
      ],
      "source": [
        "acc_list = []\n",
        "prec_list = []\n",
        "recall_list = []\n",
        "f1_list = []\n",
        "\n",
        "\n",
        "for train_index, test_index in kf.split(X):\n",
        "  X_train, X_test = X.loc[train_index], X.loc[test_index]\n",
        "  y_train, y_test = y.loc[train_index], y.loc[test_index]\n",
        "\n",
        "  model = MLPClassifier(hidden_layer_sizes=(10,10), max_iter=5000)\n",
        "  model.fit(X_train, y_train)\n",
        "\n",
        "  y_pred = model.predict(X_test)\n",
        "  y_pred = model.predict(X_test)\n",
        "  y_pred_proba = model.predict_proba(X_test)\n",
        "\n",
        "  acc = accuracy_score(y_test, y_pred)\n",
        "  prec = precision_score(y_test, y_pred, average='micro')\n",
        "  recall = recall_score(y_test, y_pred, average='micro')\n",
        "  f1 = f1_score(y_test, y_pred, average='micro')\n",
        "  con = confusion_matrix(y_test, y_pred)\n",
        "  report = classification_report(y_test, y_pred)\n",
        "\n",
        "  print(\"Accuracy (k) :\", acc)\n",
        "  print(\"Precision (k) :\", prec)\n",
        "  print(\"Recall (k) :\", recall)\n",
        "  print(\"F1 (k) :\", f1)\n",
        "  print(\"Confustion Matrix (k) :\\n\", con)\n",
        "  print(\"Classification Report (k) :\\n\", report)\n",
        "  acc_list.append(acc)\n",
        "  prec_list.append(prec)\n",
        "  recall_list.append(recall)\n",
        "  f1_list.append(f1)\n",
        "\n",
        "print(\"------------------------------------\")\n",
        "print(\"Mean Accuracy :\", np.mean(acc_list))\n",
        "print(\"Mean Precision :\", np.mean(prec_list))\n",
        "print(\"Mean Recall :\", np.mean(recall_list))\n",
        "print(\"Mean F1 :\", np.mean(f1_list))"
      ]
    },
    {
      "cell_type": "code",
      "execution_count": 418,
      "metadata": {},
      "outputs": [
        {
          "name": "stdout",
          "output_type": "stream",
          "text": [
            "['B' 'B' 'A' 'C' 'A' 'A' 'C' 'B' 'C' 'C']\n",
            "[[4.02916388e-01 5.97083500e-01 1.12055746e-07]\n",
            " [5.71990960e-04 9.41334021e-01 5.80939879e-02]\n",
            " [8.88839238e-01 1.11160142e-01 6.20606331e-07]\n",
            " [1.95115919e-03 3.08287148e-03 9.94965969e-01]\n",
            " [9.65899302e-01 3.24936501e-02 1.60704761e-03]\n",
            " [9.28098321e-01 7.18894872e-02 1.21916848e-05]\n",
            " [6.76771965e-04 2.61736770e-02 9.73149551e-01]\n",
            " [5.84165696e-04 9.99382315e-01 3.35193115e-05]\n",
            " [1.44449813e-01 7.73463827e-04 8.54776723e-01]\n",
            " [3.30570104e-05 2.33503203e-05 9.99943593e-01]]\n",
            "['A' 'B' 'C']\n"
          ]
        }
      ],
      "source": [
        "\n",
        "print_answer(model)"
      ]
    },
    {
      "cell_type": "markdown",
      "metadata": {
        "id": "z_sL3fpbfTNV"
      },
      "source": [
        "## Comparisions"
      ]
    },
    {
      "cell_type": "code",
      "execution_count": 419,
      "metadata": {
        "id": "BOpdC7oKfbDJ"
      },
      "outputs": [],
      "source": [
        "import numpy as np\n",
        "import pandas as pd\n",
        "\n",
        "from sklearn.model_selection import KFold\n",
        "\n",
        "\n",
        "from sklearn.tree import DecisionTreeClassifier\n",
        "from sklearn.linear_model import LogisticRegression\n",
        "from sklearn.neural_network import MLPClassifier\n",
        "\n",
        "from sklearn.metrics import accuracy_score"
      ]
    },
    {
      "cell_type": "code",
      "execution_count": 420,
      "metadata": {
        "colab": {
          "base_uri": "https://localhost:8080/"
        },
        "id": "0vW1wjcFfgAE",
        "outputId": "a5d0eefb-e550-4ca7-ee33-10e15bf9f327"
      },
      "outputs": [
        {
          "name": "stdout",
          "output_type": "stream",
          "text": [
            "------------------------------------\n",
            "Decision Tree\n",
            " Mean Accuracy : 0.8211436170212766\n"
          ]
        }
      ],
      "source": [
        "# Decision Tree\n",
        "\n",
        "acc_list = []\n",
        "\n",
        "for train_index, test_index in kf.split(X):\n",
        "  X_train, X_test = X.loc[train_index], X.loc[test_index]\n",
        "  y_train, y_test = y.loc[train_index], y.loc[test_index]\n",
        "\n",
        "  model = DecisionTreeClassifier()\n",
        "  model.fit(X_train, y_train)\n",
        "\n",
        "  y_pred = model.predict(X_test)\n",
        "  acc = accuracy_score(y_test, y_pred)\n",
        "  acc_list.append(acc)\n",
        "\n",
        "print(\"------------------------------------\")\n",
        "print(\"Decision Tree\")\n",
        "print(\" Mean Accuracy :\", np.mean(acc_list))"
      ]
    },
    {
      "cell_type": "code",
      "execution_count": 421,
      "metadata": {
        "colab": {
          "base_uri": "https://localhost:8080/"
        },
        "id": "PagEiUIyfst9",
        "outputId": "d59492a0-a2d2-40dc-f70e-31dec5cca1bb"
      },
      "outputs": [
        {
          "name": "stdout",
          "output_type": "stream",
          "text": [
            "------------------------------------\n",
            "Logistic Regression\n",
            " Mean Accuracy : 0.8950576241134751\n"
          ]
        }
      ],
      "source": [
        "# Logistic Regression\n",
        "\n",
        "acc_list = []\n",
        "\n",
        "for train_index, test_index in kf.split(X):\n",
        "  X_train, X_test = X.loc[train_index], X.loc[test_index]\n",
        "  y_train, y_test = y.loc[train_index], y.loc[test_index]\n",
        "\n",
        "  model = LogisticRegression()\n",
        "  model.fit(X_train, y_train)\n",
        "\n",
        "  y_pred = model.predict(X_test)\n",
        "  acc = accuracy_score(y_test, y_pred)\n",
        "  acc_list.append(acc)\n",
        "\n",
        "print(\"------------------------------------\")\n",
        "print(\"Logistic Regression\")\n",
        "print(\" Mean Accuracy :\", np.mean(acc_list))"
      ]
    },
    {
      "cell_type": "code",
      "execution_count": 422,
      "metadata": {
        "colab": {
          "base_uri": "https://localhost:8080/"
        },
        "id": "8_j3rGrlfMlb",
        "outputId": "bbca41db-6179-41cc-c944-71b9f3c7c74d"
      },
      "outputs": [
        {
          "name": "stdout",
          "output_type": "stream",
          "text": [
            "------------------------------------\n",
            "Neural Network\n",
            "  Mean Accuracy : 0.9003767730496454\n"
          ]
        }
      ],
      "source": [
        "# Neural Network\n",
        "\n",
        "acc_list = []\n",
        "\n",
        "for train_index, test_index in kf.split(X):\n",
        "  X_train, X_test = X.loc[train_index], X.loc[test_index]\n",
        "  y_train, y_test = y.loc[train_index], y.loc[test_index]\n",
        "\n",
        "  model = MLPClassifier(hidden_layer_sizes=(10,10), max_iter=5000)\n",
        "  model.fit(X_train, y_train)\n",
        "\n",
        "  y_pred = model.predict(X_test)\n",
        "  acc = accuracy_score(y_test, y_pred)\n",
        "  acc_list.append(acc)\n",
        "\n",
        "print(\"------------------------------------\")\n",
        "print(\"Neural Network\")\n",
        "print(\"  Mean Accuracy :\", np.mean(acc_list))"
      ]
    },
    {
      "cell_type": "markdown",
      "metadata": {
        "id": "GOyWZUNusnXy"
      },
      "source": [
        "## K-Fold Cross Validation \n",
        "### Computing cross-validated metrics"
      ]
    },
    {
      "cell_type": "code",
      "execution_count": 423,
      "metadata": {
        "id": "8u2yNPaJszeI"
      },
      "outputs": [],
      "source": [
        "import numpy as np\n",
        "import pandas as pd\n",
        "\n",
        "from sklearn.neural_network import MLPClassifier\n",
        "from sklearn.model_selection import cross_val_score\n",
        "from sklearn.metrics import accuracy_score"
      ]
    },
    {
      "cell_type": "code",
      "execution_count": 424,
      "metadata": {
        "colab": {
          "base_uri": "https://localhost:8080/"
        },
        "id": "JTxJfroZs7kF",
        "outputId": "9b2f4404-686c-4a96-b08d-662f37d41a59"
      },
      "outputs": [
        {
          "name": "stdout",
          "output_type": "stream",
          "text": [
            "Mean Accuracy : 0.9001551418439717\n"
          ]
        }
      ],
      "source": [
        "model = MLPClassifier(hidden_layer_sizes=(10,10), max_iter=5000)\n",
        "scores = cross_val_score(model, X, y, cv=4, scoring=\"accuracy\")\n",
        "\n",
        "print(\"Mean Accuracy :\", np.mean(scores))"
      ]
    },
    {
      "attachments": {},
      "cell_type": "markdown",
      "metadata": {},
      "source": [
        "### ANSWER \n",
        "Tree: 0.76<br />\n",
        "['A' 'B' 'A' 'C' 'B' 'A' 'C' 'B' 'C' 'C']  (Not Accurate)\n",
        "\n",
        "LogisticRegression: 0.87<br />\n",
        "['B' 'C' 'A' 'C' 'A' 'A' 'C' 'B' 'C' 'C'] (Accurate)\n",
        "\n",
        "Naive Bayes: 0.81<br />\n",
        "['A' 'C' 'A' 'C' 'A' 'A' 'C' 'B' 'C' 'C']\n",
        "\n",
        "K-NN: 0.82<br />\n",
        "['B' 'C' 'A' 'C' 'A' 'A' 'C' 'B' 'C' 'C']\n",
        "\n",
        "Aritificial Neural Network: 0.88<br />\n",
        "['B' 'C' 'A' 'C' 'A' 'A' 'C' 'B' 'C' 'C'] (Accurate)\n",
        "\n",
        "K-Fold (1): 0.88<br />\n",
        "['B' 'C' 'A' 'C' 'A' 'A' 'C' 'B' 'C' 'C'] (Accurate)\n",
        "\n",
        "K-Fold (2): 0.95<br />\n",
        "['B' 'C' 'A' 'C' 'A' 'A' 'C' 'B' 'C' 'C']  (Very Accurate)\n",
        "\n",
        "Summarise (by Pop)<br />\n",
        "['B' 'C' 'A' 'C' 'A' 'A' 'C' 'B' 'C' 'C'] (Aritificial Neural Network, K-fold, LogisticRegression)\n",
        "\n",
        "Real answer (score 7/10) <br />  \n",
        "['A' 'B' 'A' 'C' 'B' 'A' 'C' 'B' 'C' 'C']"
      ]
    },
    {
      "cell_type": "markdown",
      "metadata": {
        "id": "qg732ZYqtTcU"
      },
      "source": [
        "\n",
        "\n",
        "---\n",
        "https://rathachai.creatier.pro/\n",
        "\n",
        "## つづく"
      ]
    }
  ],
  "metadata": {
    "colab": {
      "provenance": []
    },
    "kernelspec": {
      "display_name": "Python 3",
      "language": "python",
      "name": "python3"
    },
    "language_info": {
      "codemirror_mode": {
        "name": "ipython",
        "version": 3
      },
      "file_extension": ".py",
      "mimetype": "text/x-python",
      "name": "python",
      "nbconvert_exporter": "python",
      "pygments_lexer": "ipython3",
      "version": "3.10.6"
    },
    "vscode": {
      "interpreter": {
        "hash": "27f6fea6f47ae512550f0b8facdbd035a93e1dd89633f7bf2dd00a2502c71d0d"
      }
    }
  },
  "nbformat": 4,
  "nbformat_minor": 0
}
