{
  "cells": [
    {
      "cell_type": "markdown",
      "metadata": {
        "id": "V6OzE02uK7Aj"
      },
      "source": [
        "# **A Quick Data Wrangling Tutorial**\n",
        "> ## *Author* : [Rathachai CHAWUTHAI](https://rathachai.creatier.pro/) , Ph.D\n",
        "> ### *Affiliation* : Computer Engineering, King Mongkut's Institute of Technology Ladkrabang (KMITL)\n",
        "> #### *Updated Date* : 2021-08-18\n",
        "---"
      ]
    },
    {
      "cell_type": "markdown",
      "metadata": {
        "id": "ZtOOTexVLM4w"
      },
      "source": [
        "> <a rel=\"license\" href=\"http://creativecommons.org/licenses/by-nc-sa/4.0/\"><img alt=\"Creative Commons License\" style=\"border-width:0\" src=\"https://i.creativecommons.org/l/by-nc-sa/4.0/88x31.png\" /></a><br />This work is licensed under a <a rel=\"license\" href=\"http://creativecommons.org/licenses/by-nc-sa/4.0/\">Creative Commons Attribution-NonCommercial-ShareAlike 4.0 International License</a>.\n",
        "\n",
        "\n",
        "\n",
        "---"
      ]
    },
    {
      "cell_type": "markdown",
      "metadata": {
        "id": "nrr9PvVpLRGN"
      },
      "source": [
        "## About Datasets"
      ]
    },
    {
      "cell_type": "markdown",
      "metadata": {
        "id": "svzdpmOsKviT"
      },
      "source": [
        "**Customer Churn Datasets**\n",
        "\n",
        "https://docs.google.com/spreadsheets/d/e/2PACX-1vQxcCDTAalMyu4Tc_eelskRhZXldH9TSliZLFcW39_LlzOkIReCRdK0V7JR6APjJH-EluveA5c-m237/pubhtml"
      ]
    },
    {
      "cell_type": "markdown",
      "metadata": {
        "id": "HhhlJ_PMLZN7"
      },
      "source": [
        "## Import Libraries"
      ]
    },
    {
      "cell_type": "code",
      "execution_count": 1,
      "metadata": {
        "id": "Tu6PfMK4JvcZ"
      },
      "outputs": [],
      "source": [
        "%matplotlib inline\n",
        "import numpy as np\n",
        "import pandas as pd"
      ]
    },
    {
      "cell_type": "markdown",
      "metadata": {
        "id": "EsVVWJkBLjUI"
      },
      "source": [
        "## Load Datasets"
      ]
    },
    {
      "cell_type": "code",
      "execution_count": 2,
      "metadata": {
        "id": "y29wggOPKDUt"
      },
      "outputs": [],
      "source": [
        "cust_csv_path = \"https://docs.google.com/spreadsheets/d/e/2PACX-1vQxcCDTAalMyu4Tc_eelskRhZXldH9TSliZLFcW39_LlzOkIReCRdK0V7JR6APjJH-EluveA5c-m237/pub?gid=0&single=true&output=csv\"\n",
        "churn_csv_path = \"https://docs.google.com/spreadsheets/d/e/2PACX-1vQxcCDTAalMyu4Tc_eelskRhZXldH9TSliZLFcW39_LlzOkIReCRdK0V7JR6APjJH-EluveA5c-m237/pub?gid=755674277&single=true&output=csv\""
      ]
    },
    {
      "cell_type": "code",
      "execution_count": 3,
      "metadata": {
        "id": "K548V1lTJys1"
      },
      "outputs": [],
      "source": [
        "cust_df = pd.read_csv(cust_csv_path)"
      ]
    },
    {
      "cell_type": "code",
      "execution_count": 4,
      "metadata": {
        "id": "kXR7b-MDJ3PK"
      },
      "outputs": [],
      "source": [
        "churn_df = pd.read_csv(churn_csv_path)"
      ]
    },
    {
      "cell_type": "code",
      "execution_count": 5,
      "metadata": {
        "colab": {
          "base_uri": "https://localhost:8080/",
          "height": 649
        },
        "id": "HpUKy5IbKRAj",
        "outputId": "0e639cf0-9988-4df1-9bdd-5a209b9dcc9f"
      },
      "outputs": [
        {
          "data": {
            "text/html": [
              "<div>\n",
              "<style scoped>\n",
              "    .dataframe tbody tr th:only-of-type {\n",
              "        vertical-align: middle;\n",
              "    }\n",
              "\n",
              "    .dataframe tbody tr th {\n",
              "        vertical-align: top;\n",
              "    }\n",
              "\n",
              "    .dataframe thead th {\n",
              "        text-align: right;\n",
              "    }\n",
              "</style>\n",
              "<table border=\"1\" class=\"dataframe\">\n",
              "  <thead>\n",
              "    <tr style=\"text-align: right;\">\n",
              "      <th></th>\n",
              "      <th>cust_id</th>\n",
              "      <th>gender</th>\n",
              "      <th>birth</th>\n",
              "      <th>height</th>\n",
              "      <th>address</th>\n",
              "      <th>salary</th>\n",
              "      <th>job</th>\n",
              "      <th>payment</th>\n",
              "      <th>last_tx</th>\n",
              "    </tr>\n",
              "  </thead>\n",
              "  <tbody>\n",
              "    <tr>\n",
              "      <th>0</th>\n",
              "      <td>C-0001</td>\n",
              "      <td>male</td>\n",
              "      <td>06/02/1958</td>\n",
              "      <td>175.0</td>\n",
              "      <td>140/27, ทุ่งครุ, กรุงเทพ</td>\n",
              "      <td>24942.0</td>\n",
              "      <td>retired</td>\n",
              "      <td>credit</td>\n",
              "      <td>98</td>\n",
              "    </tr>\n",
              "    <tr>\n",
              "      <th>1</th>\n",
              "      <td>C-0002</td>\n",
              "      <td>male</td>\n",
              "      <td>09/06/1987</td>\n",
              "      <td>171.0</td>\n",
              "      <td>198/57, เมืองสมุทรสาคร, สมุทรสาคร</td>\n",
              "      <td>55134.0</td>\n",
              "      <td>worker</td>\n",
              "      <td>cheque</td>\n",
              "      <td>118</td>\n",
              "    </tr>\n",
              "    <tr>\n",
              "      <th>2</th>\n",
              "      <td>C-0003</td>\n",
              "      <td>female</td>\n",
              "      <td>07/02/1997</td>\n",
              "      <td>166.0</td>\n",
              "      <td>379/22, คลองเตย, กรุงเทพ</td>\n",
              "      <td>27083.0</td>\n",
              "      <td>worker</td>\n",
              "      <td>credit</td>\n",
              "      <td>107</td>\n",
              "    </tr>\n",
              "    <tr>\n",
              "      <th>3</th>\n",
              "      <td>C-0004</td>\n",
              "      <td>female</td>\n",
              "      <td>06/10/1983</td>\n",
              "      <td>166.0</td>\n",
              "      <td>361/6, บางกรวย, นนทบุรี</td>\n",
              "      <td>71331.0</td>\n",
              "      <td>worker</td>\n",
              "      <td>credit</td>\n",
              "      <td>177</td>\n",
              "    </tr>\n",
              "    <tr>\n",
              "      <th>4</th>\n",
              "      <td>C-0005</td>\n",
              "      <td>male</td>\n",
              "      <td>02/17/1983</td>\n",
              "      <td>171.0</td>\n",
              "      <td>132/13, คลองหลวง, ปทุมธานี</td>\n",
              "      <td>71874.0</td>\n",
              "      <td>worker</td>\n",
              "      <td>credit</td>\n",
              "      <td>90</td>\n",
              "    </tr>\n",
              "    <tr>\n",
              "      <th>...</th>\n",
              "      <td>...</td>\n",
              "      <td>...</td>\n",
              "      <td>...</td>\n",
              "      <td>...</td>\n",
              "      <td>...</td>\n",
              "      <td>...</td>\n",
              "      <td>...</td>\n",
              "      <td>...</td>\n",
              "      <td>...</td>\n",
              "    </tr>\n",
              "    <tr>\n",
              "      <th>991</th>\n",
              "      <td>C-0992</td>\n",
              "      <td>female</td>\n",
              "      <td>03/02/1993</td>\n",
              "      <td>170.0</td>\n",
              "      <td>161/10, ลาดพร้าว, กรุงเทพ</td>\n",
              "      <td>36333.0</td>\n",
              "      <td>worker</td>\n",
              "      <td>credit</td>\n",
              "      <td>33</td>\n",
              "    </tr>\n",
              "    <tr>\n",
              "      <th>992</th>\n",
              "      <td>C-0993</td>\n",
              "      <td>male</td>\n",
              "      <td>04/07/1938</td>\n",
              "      <td>177.0</td>\n",
              "      <td>158/61, กระทุ่มแบน, สมุทรสาคร</td>\n",
              "      <td>43782.0</td>\n",
              "      <td>retired</td>\n",
              "      <td>credit</td>\n",
              "      <td>124</td>\n",
              "    </tr>\n",
              "    <tr>\n",
              "      <th>993</th>\n",
              "      <td>C-0994</td>\n",
              "      <td>male</td>\n",
              "      <td>04/27/2002</td>\n",
              "      <td>160.0</td>\n",
              "      <td>418/5, บ้านแพ้ว, สมุทรสาคร</td>\n",
              "      <td>19737.0</td>\n",
              "      <td>worker</td>\n",
              "      <td>credit</td>\n",
              "      <td>60</td>\n",
              "    </tr>\n",
              "    <tr>\n",
              "      <th>994</th>\n",
              "      <td>C-0995</td>\n",
              "      <td>male</td>\n",
              "      <td>02/27/2003</td>\n",
              "      <td>168.0</td>\n",
              "      <td>276/51, บึ่งกุ่ม, กรุงเทพ</td>\n",
              "      <td>6693.0</td>\n",
              "      <td>student</td>\n",
              "      <td>credit</td>\n",
              "      <td>49</td>\n",
              "    </tr>\n",
              "    <tr>\n",
              "      <th>995</th>\n",
              "      <td>C-0996</td>\n",
              "      <td>female</td>\n",
              "      <td>04/28/1998</td>\n",
              "      <td>152.0</td>\n",
              "      <td>23/61, ทวีวัฒนา, กรุงเทพ</td>\n",
              "      <td>26580.0</td>\n",
              "      <td>worker</td>\n",
              "      <td>credit</td>\n",
              "      <td>25</td>\n",
              "    </tr>\n",
              "  </tbody>\n",
              "</table>\n",
              "<p>996 rows × 9 columns</p>\n",
              "</div>"
            ],
            "text/plain": [
              "    cust_id  gender       birth  height                            address  \\\n",
              "0    C-0001    male  06/02/1958   175.0           140/27, ทุ่งครุ, กรุงเทพ   \n",
              "1    C-0002    male  09/06/1987   171.0  198/57, เมืองสมุทรสาคร, สมุทรสาคร   \n",
              "2    C-0003  female  07/02/1997   166.0           379/22, คลองเตย, กรุงเทพ   \n",
              "3    C-0004  female  06/10/1983   166.0            361/6, บางกรวย, นนทบุรี   \n",
              "4    C-0005    male  02/17/1983   171.0         132/13, คลองหลวง, ปทุมธานี   \n",
              "..      ...     ...         ...     ...                                ...   \n",
              "991  C-0992  female  03/02/1993   170.0          161/10, ลาดพร้าว, กรุงเทพ   \n",
              "992  C-0993    male  04/07/1938   177.0      158/61, กระทุ่มแบน, สมุทรสาคร   \n",
              "993  C-0994    male  04/27/2002   160.0         418/5, บ้านแพ้ว, สมุทรสาคร   \n",
              "994  C-0995    male  02/27/2003   168.0          276/51, บึ่งกุ่ม, กรุงเทพ   \n",
              "995  C-0996  female  04/28/1998   152.0           23/61, ทวีวัฒนา, กรุงเทพ   \n",
              "\n",
              "      salary      job payment  last_tx  \n",
              "0    24942.0  retired  credit       98  \n",
              "1    55134.0   worker  cheque      118  \n",
              "2    27083.0   worker  credit      107  \n",
              "3    71331.0   worker  credit      177  \n",
              "4    71874.0   worker  credit       90  \n",
              "..       ...      ...     ...      ...  \n",
              "991  36333.0   worker  credit       33  \n",
              "992  43782.0  retired  credit      124  \n",
              "993  19737.0   worker  credit       60  \n",
              "994   6693.0  student  credit       49  \n",
              "995  26580.0   worker  credit       25  \n",
              "\n",
              "[996 rows x 9 columns]"
            ]
          },
          "execution_count": 5,
          "metadata": {},
          "output_type": "execute_result"
        }
      ],
      "source": [
        "cust_df"
      ]
    },
    {
      "cell_type": "code",
      "execution_count": 6,
      "metadata": {
        "colab": {
          "base_uri": "https://localhost:8080/",
          "height": 649
        },
        "id": "XOv1RO_4KXNt",
        "outputId": "108cbc16-cd03-43ea-fcb6-128c12441120"
      },
      "outputs": [
        {
          "data": {
            "text/html": [
              "<div>\n",
              "<style scoped>\n",
              "    .dataframe tbody tr th:only-of-type {\n",
              "        vertical-align: middle;\n",
              "    }\n",
              "\n",
              "    .dataframe tbody tr th {\n",
              "        vertical-align: top;\n",
              "    }\n",
              "\n",
              "    .dataframe thead th {\n",
              "        text-align: right;\n",
              "    }\n",
              "</style>\n",
              "<table border=\"1\" class=\"dataframe\">\n",
              "  <thead>\n",
              "    <tr style=\"text-align: right;\">\n",
              "      <th></th>\n",
              "      <th>cust_id</th>\n",
              "      <th>churn</th>\n",
              "    </tr>\n",
              "  </thead>\n",
              "  <tbody>\n",
              "    <tr>\n",
              "      <th>0</th>\n",
              "      <td>C-0002</td>\n",
              "      <td>churn</td>\n",
              "    </tr>\n",
              "    <tr>\n",
              "      <th>1</th>\n",
              "      <td>C-0006</td>\n",
              "      <td>churn</td>\n",
              "    </tr>\n",
              "    <tr>\n",
              "      <th>2</th>\n",
              "      <td>C-0009</td>\n",
              "      <td>churn</td>\n",
              "    </tr>\n",
              "    <tr>\n",
              "      <th>3</th>\n",
              "      <td>C-0015</td>\n",
              "      <td>churn</td>\n",
              "    </tr>\n",
              "    <tr>\n",
              "      <th>4</th>\n",
              "      <td>C-0016</td>\n",
              "      <td>churn</td>\n",
              "    </tr>\n",
              "    <tr>\n",
              "      <th>...</th>\n",
              "      <td>...</td>\n",
              "      <td>...</td>\n",
              "    </tr>\n",
              "    <tr>\n",
              "      <th>895</th>\n",
              "      <td>C-0991</td>\n",
              "      <td>loyal</td>\n",
              "    </tr>\n",
              "    <tr>\n",
              "      <th>896</th>\n",
              "      <td>C-0992</td>\n",
              "      <td>loyal</td>\n",
              "    </tr>\n",
              "    <tr>\n",
              "      <th>897</th>\n",
              "      <td>C-0993</td>\n",
              "      <td>loyal</td>\n",
              "    </tr>\n",
              "    <tr>\n",
              "      <th>898</th>\n",
              "      <td>C-0995</td>\n",
              "      <td>loyal</td>\n",
              "    </tr>\n",
              "    <tr>\n",
              "      <th>899</th>\n",
              "      <td>C-0996</td>\n",
              "      <td>loyal</td>\n",
              "    </tr>\n",
              "  </tbody>\n",
              "</table>\n",
              "<p>900 rows × 2 columns</p>\n",
              "</div>"
            ],
            "text/plain": [
              "    cust_id  churn\n",
              "0    C-0002  churn\n",
              "1    C-0006  churn\n",
              "2    C-0009  churn\n",
              "3    C-0015  churn\n",
              "4    C-0016  churn\n",
              "..      ...    ...\n",
              "895  C-0991  loyal\n",
              "896  C-0992  loyal\n",
              "897  C-0993  loyal\n",
              "898  C-0995  loyal\n",
              "899  C-0996  loyal\n",
              "\n",
              "[900 rows x 2 columns]"
            ]
          },
          "execution_count": 6,
          "metadata": {},
          "output_type": "execute_result"
        }
      ],
      "source": [
        "churn_df"
      ]
    },
    {
      "cell_type": "markdown",
      "metadata": {
        "id": "ZamIHS2pLrwN"
      },
      "source": [
        "## Merge Datasets"
      ]
    },
    {
      "cell_type": "code",
      "execution_count": 7,
      "metadata": {
        "id": "ckpZEoCwMJZm"
      },
      "outputs": [],
      "source": [
        "df = pd.merge(cust_df, churn_df, how=\"left\", on=\"cust_id\") # left is main <= right is insert / on join with cust_id"
      ]
    },
    {
      "cell_type": "code",
      "execution_count": 8,
      "metadata": {
        "id": "G3VupiJ2Msj7"
      },
      "outputs": [
        {
          "data": {
            "text/html": [
              "<div>\n",
              "<style scoped>\n",
              "    .dataframe tbody tr th:only-of-type {\n",
              "        vertical-align: middle;\n",
              "    }\n",
              "\n",
              "    .dataframe tbody tr th {\n",
              "        vertical-align: top;\n",
              "    }\n",
              "\n",
              "    .dataframe thead th {\n",
              "        text-align: right;\n",
              "    }\n",
              "</style>\n",
              "<table border=\"1\" class=\"dataframe\">\n",
              "  <thead>\n",
              "    <tr style=\"text-align: right;\">\n",
              "      <th></th>\n",
              "      <th>cust_id</th>\n",
              "      <th>gender</th>\n",
              "      <th>birth</th>\n",
              "      <th>height</th>\n",
              "      <th>address</th>\n",
              "      <th>salary</th>\n",
              "      <th>job</th>\n",
              "      <th>payment</th>\n",
              "      <th>last_tx</th>\n",
              "      <th>churn</th>\n",
              "    </tr>\n",
              "  </thead>\n",
              "  <tbody>\n",
              "    <tr>\n",
              "      <th>0</th>\n",
              "      <td>C-0001</td>\n",
              "      <td>male</td>\n",
              "      <td>06/02/1958</td>\n",
              "      <td>175.0</td>\n",
              "      <td>140/27, ทุ่งครุ, กรุงเทพ</td>\n",
              "      <td>24942.0</td>\n",
              "      <td>retired</td>\n",
              "      <td>credit</td>\n",
              "      <td>98</td>\n",
              "      <td>loyal</td>\n",
              "    </tr>\n",
              "    <tr>\n",
              "      <th>1</th>\n",
              "      <td>C-0002</td>\n",
              "      <td>male</td>\n",
              "      <td>09/06/1987</td>\n",
              "      <td>171.0</td>\n",
              "      <td>198/57, เมืองสมุทรสาคร, สมุทรสาคร</td>\n",
              "      <td>55134.0</td>\n",
              "      <td>worker</td>\n",
              "      <td>cheque</td>\n",
              "      <td>118</td>\n",
              "      <td>churn</td>\n",
              "    </tr>\n",
              "    <tr>\n",
              "      <th>2</th>\n",
              "      <td>C-0003</td>\n",
              "      <td>female</td>\n",
              "      <td>07/02/1997</td>\n",
              "      <td>166.0</td>\n",
              "      <td>379/22, คลองเตย, กรุงเทพ</td>\n",
              "      <td>27083.0</td>\n",
              "      <td>worker</td>\n",
              "      <td>credit</td>\n",
              "      <td>107</td>\n",
              "      <td>loyal</td>\n",
              "    </tr>\n",
              "    <tr>\n",
              "      <th>3</th>\n",
              "      <td>C-0004</td>\n",
              "      <td>female</td>\n",
              "      <td>06/10/1983</td>\n",
              "      <td>166.0</td>\n",
              "      <td>361/6, บางกรวย, นนทบุรี</td>\n",
              "      <td>71331.0</td>\n",
              "      <td>worker</td>\n",
              "      <td>credit</td>\n",
              "      <td>177</td>\n",
              "      <td>NaN</td>\n",
              "    </tr>\n",
              "    <tr>\n",
              "      <th>4</th>\n",
              "      <td>C-0005</td>\n",
              "      <td>male</td>\n",
              "      <td>02/17/1983</td>\n",
              "      <td>171.0</td>\n",
              "      <td>132/13, คลองหลวง, ปทุมธานี</td>\n",
              "      <td>71874.0</td>\n",
              "      <td>worker</td>\n",
              "      <td>credit</td>\n",
              "      <td>90</td>\n",
              "      <td>loyal</td>\n",
              "    </tr>\n",
              "    <tr>\n",
              "      <th>...</th>\n",
              "      <td>...</td>\n",
              "      <td>...</td>\n",
              "      <td>...</td>\n",
              "      <td>...</td>\n",
              "      <td>...</td>\n",
              "      <td>...</td>\n",
              "      <td>...</td>\n",
              "      <td>...</td>\n",
              "      <td>...</td>\n",
              "      <td>...</td>\n",
              "    </tr>\n",
              "    <tr>\n",
              "      <th>991</th>\n",
              "      <td>C-0992</td>\n",
              "      <td>female</td>\n",
              "      <td>03/02/1993</td>\n",
              "      <td>170.0</td>\n",
              "      <td>161/10, ลาดพร้าว, กรุงเทพ</td>\n",
              "      <td>36333.0</td>\n",
              "      <td>worker</td>\n",
              "      <td>credit</td>\n",
              "      <td>33</td>\n",
              "      <td>loyal</td>\n",
              "    </tr>\n",
              "    <tr>\n",
              "      <th>992</th>\n",
              "      <td>C-0993</td>\n",
              "      <td>male</td>\n",
              "      <td>04/07/1938</td>\n",
              "      <td>177.0</td>\n",
              "      <td>158/61, กระทุ่มแบน, สมุทรสาคร</td>\n",
              "      <td>43782.0</td>\n",
              "      <td>retired</td>\n",
              "      <td>credit</td>\n",
              "      <td>124</td>\n",
              "      <td>loyal</td>\n",
              "    </tr>\n",
              "    <tr>\n",
              "      <th>993</th>\n",
              "      <td>C-0994</td>\n",
              "      <td>male</td>\n",
              "      <td>04/27/2002</td>\n",
              "      <td>160.0</td>\n",
              "      <td>418/5, บ้านแพ้ว, สมุทรสาคร</td>\n",
              "      <td>19737.0</td>\n",
              "      <td>worker</td>\n",
              "      <td>credit</td>\n",
              "      <td>60</td>\n",
              "      <td>NaN</td>\n",
              "    </tr>\n",
              "    <tr>\n",
              "      <th>994</th>\n",
              "      <td>C-0995</td>\n",
              "      <td>male</td>\n",
              "      <td>02/27/2003</td>\n",
              "      <td>168.0</td>\n",
              "      <td>276/51, บึ่งกุ่ม, กรุงเทพ</td>\n",
              "      <td>6693.0</td>\n",
              "      <td>student</td>\n",
              "      <td>credit</td>\n",
              "      <td>49</td>\n",
              "      <td>loyal</td>\n",
              "    </tr>\n",
              "    <tr>\n",
              "      <th>995</th>\n",
              "      <td>C-0996</td>\n",
              "      <td>female</td>\n",
              "      <td>04/28/1998</td>\n",
              "      <td>152.0</td>\n",
              "      <td>23/61, ทวีวัฒนา, กรุงเทพ</td>\n",
              "      <td>26580.0</td>\n",
              "      <td>worker</td>\n",
              "      <td>credit</td>\n",
              "      <td>25</td>\n",
              "      <td>loyal</td>\n",
              "    </tr>\n",
              "  </tbody>\n",
              "</table>\n",
              "<p>996 rows × 10 columns</p>\n",
              "</div>"
            ],
            "text/plain": [
              "    cust_id  gender       birth  height                            address  \\\n",
              "0    C-0001    male  06/02/1958   175.0           140/27, ทุ่งครุ, กรุงเทพ   \n",
              "1    C-0002    male  09/06/1987   171.0  198/57, เมืองสมุทรสาคร, สมุทรสาคร   \n",
              "2    C-0003  female  07/02/1997   166.0           379/22, คลองเตย, กรุงเทพ   \n",
              "3    C-0004  female  06/10/1983   166.0            361/6, บางกรวย, นนทบุรี   \n",
              "4    C-0005    male  02/17/1983   171.0         132/13, คลองหลวง, ปทุมธานี   \n",
              "..      ...     ...         ...     ...                                ...   \n",
              "991  C-0992  female  03/02/1993   170.0          161/10, ลาดพร้าว, กรุงเทพ   \n",
              "992  C-0993    male  04/07/1938   177.0      158/61, กระทุ่มแบน, สมุทรสาคร   \n",
              "993  C-0994    male  04/27/2002   160.0         418/5, บ้านแพ้ว, สมุทรสาคร   \n",
              "994  C-0995    male  02/27/2003   168.0          276/51, บึ่งกุ่ม, กรุงเทพ   \n",
              "995  C-0996  female  04/28/1998   152.0           23/61, ทวีวัฒนา, กรุงเทพ   \n",
              "\n",
              "      salary      job payment  last_tx  churn  \n",
              "0    24942.0  retired  credit       98  loyal  \n",
              "1    55134.0   worker  cheque      118  churn  \n",
              "2    27083.0   worker  credit      107  loyal  \n",
              "3    71331.0   worker  credit      177    NaN  \n",
              "4    71874.0   worker  credit       90  loyal  \n",
              "..       ...      ...     ...      ...    ...  \n",
              "991  36333.0   worker  credit       33  loyal  \n",
              "992  43782.0  retired  credit      124  loyal  \n",
              "993  19737.0   worker  credit       60    NaN  \n",
              "994   6693.0  student  credit       49  loyal  \n",
              "995  26580.0   worker  credit       25  loyal  \n",
              "\n",
              "[996 rows x 10 columns]"
            ]
          },
          "execution_count": 8,
          "metadata": {},
          "output_type": "execute_result"
        }
      ],
      "source": [
        "df"
      ]
    },
    {
      "cell_type": "markdown",
      "metadata": {
        "id": "cV7C-yI-MyqW"
      },
      "source": [
        "## Drop Missing Values"
      ]
    },
    {
      "cell_type": "code",
      "execution_count": 9,
      "metadata": {
        "id": "TVqUQ4Z6M5ET"
      },
      "outputs": [
        {
          "name": "stdout",
          "output_type": "stream",
          "text": [
            "<class 'pandas.core.frame.DataFrame'>\n",
            "Int64Index: 996 entries, 0 to 995\n",
            "Data columns (total 10 columns):\n",
            " #   Column   Non-Null Count  Dtype  \n",
            "---  ------   --------------  -----  \n",
            " 0   cust_id  996 non-null    object \n",
            " 1   gender   996 non-null    object \n",
            " 2   birth    996 non-null    object \n",
            " 3   height   989 non-null    float64\n",
            " 4   address  996 non-null    object \n",
            " 5   salary   978 non-null    float64\n",
            " 6   job      958 non-null    object \n",
            " 7   payment  996 non-null    object \n",
            " 8   last_tx  996 non-null    int64  \n",
            " 9   churn    900 non-null    object \n",
            "dtypes: float64(2), int64(1), object(7)\n",
            "memory usage: 85.6+ KB\n"
          ]
        }
      ],
      "source": [
        "df.info() # 996 non-null"
      ]
    },
    {
      "cell_type": "code",
      "execution_count": 10,
      "metadata": {
        "id": "saL7OUi2NhbW"
      },
      "outputs": [],
      "source": [
        "df.dropna(subset=[\"churn\"], inplace=True) # drop if n/a and only column \"churn\""
      ]
    },
    {
      "cell_type": "code",
      "execution_count": 11,
      "metadata": {
        "id": "zRrjYgGA4mPi"
      },
      "outputs": [
        {
          "data": {
            "text/html": [
              "<div>\n",
              "<style scoped>\n",
              "    .dataframe tbody tr th:only-of-type {\n",
              "        vertical-align: middle;\n",
              "    }\n",
              "\n",
              "    .dataframe tbody tr th {\n",
              "        vertical-align: top;\n",
              "    }\n",
              "\n",
              "    .dataframe thead th {\n",
              "        text-align: right;\n",
              "    }\n",
              "</style>\n",
              "<table border=\"1\" class=\"dataframe\">\n",
              "  <thead>\n",
              "    <tr style=\"text-align: right;\">\n",
              "      <th></th>\n",
              "      <th>cust_id</th>\n",
              "      <th>gender</th>\n",
              "      <th>birth</th>\n",
              "      <th>height</th>\n",
              "      <th>address</th>\n",
              "      <th>salary</th>\n",
              "      <th>job</th>\n",
              "      <th>payment</th>\n",
              "      <th>last_tx</th>\n",
              "      <th>churn</th>\n",
              "    </tr>\n",
              "  </thead>\n",
              "  <tbody>\n",
              "    <tr>\n",
              "      <th>0</th>\n",
              "      <td>C-0001</td>\n",
              "      <td>male</td>\n",
              "      <td>06/02/1958</td>\n",
              "      <td>175.0</td>\n",
              "      <td>140/27, ทุ่งครุ, กรุงเทพ</td>\n",
              "      <td>24942.0</td>\n",
              "      <td>retired</td>\n",
              "      <td>credit</td>\n",
              "      <td>98</td>\n",
              "      <td>loyal</td>\n",
              "    </tr>\n",
              "    <tr>\n",
              "      <th>1</th>\n",
              "      <td>C-0002</td>\n",
              "      <td>male</td>\n",
              "      <td>09/06/1987</td>\n",
              "      <td>171.0</td>\n",
              "      <td>198/57, เมืองสมุทรสาคร, สมุทรสาคร</td>\n",
              "      <td>55134.0</td>\n",
              "      <td>worker</td>\n",
              "      <td>cheque</td>\n",
              "      <td>118</td>\n",
              "      <td>churn</td>\n",
              "    </tr>\n",
              "    <tr>\n",
              "      <th>2</th>\n",
              "      <td>C-0003</td>\n",
              "      <td>female</td>\n",
              "      <td>07/02/1997</td>\n",
              "      <td>166.0</td>\n",
              "      <td>379/22, คลองเตย, กรุงเทพ</td>\n",
              "      <td>27083.0</td>\n",
              "      <td>worker</td>\n",
              "      <td>credit</td>\n",
              "      <td>107</td>\n",
              "      <td>loyal</td>\n",
              "    </tr>\n",
              "    <tr>\n",
              "      <th>4</th>\n",
              "      <td>C-0005</td>\n",
              "      <td>male</td>\n",
              "      <td>02/17/1983</td>\n",
              "      <td>171.0</td>\n",
              "      <td>132/13, คลองหลวง, ปทุมธานี</td>\n",
              "      <td>71874.0</td>\n",
              "      <td>worker</td>\n",
              "      <td>credit</td>\n",
              "      <td>90</td>\n",
              "      <td>loyal</td>\n",
              "    </tr>\n",
              "    <tr>\n",
              "      <th>5</th>\n",
              "      <td>C-0006</td>\n",
              "      <td>female</td>\n",
              "      <td>09/12/1994</td>\n",
              "      <td>153.0</td>\n",
              "      <td>409/34, คันนายาว, กรุงเทพ</td>\n",
              "      <td>32916.0</td>\n",
              "      <td>worker</td>\n",
              "      <td>cheque</td>\n",
              "      <td>189</td>\n",
              "      <td>churn</td>\n",
              "    </tr>\n",
              "    <tr>\n",
              "      <th>...</th>\n",
              "      <td>...</td>\n",
              "      <td>...</td>\n",
              "      <td>...</td>\n",
              "      <td>...</td>\n",
              "      <td>...</td>\n",
              "      <td>...</td>\n",
              "      <td>...</td>\n",
              "      <td>...</td>\n",
              "      <td>...</td>\n",
              "      <td>...</td>\n",
              "    </tr>\n",
              "    <tr>\n",
              "      <th>990</th>\n",
              "      <td>C-0991</td>\n",
              "      <td>male</td>\n",
              "      <td>02/23/2003</td>\n",
              "      <td>166.0</td>\n",
              "      <td>109/6, บึงกุ่ม, กรุงเทพ</td>\n",
              "      <td>8113.0</td>\n",
              "      <td>student</td>\n",
              "      <td>credit</td>\n",
              "      <td>92</td>\n",
              "      <td>loyal</td>\n",
              "    </tr>\n",
              "    <tr>\n",
              "      <th>991</th>\n",
              "      <td>C-0992</td>\n",
              "      <td>female</td>\n",
              "      <td>03/02/1993</td>\n",
              "      <td>170.0</td>\n",
              "      <td>161/10, ลาดพร้าว, กรุงเทพ</td>\n",
              "      <td>36333.0</td>\n",
              "      <td>worker</td>\n",
              "      <td>credit</td>\n",
              "      <td>33</td>\n",
              "      <td>loyal</td>\n",
              "    </tr>\n",
              "    <tr>\n",
              "      <th>992</th>\n",
              "      <td>C-0993</td>\n",
              "      <td>male</td>\n",
              "      <td>04/07/1938</td>\n",
              "      <td>177.0</td>\n",
              "      <td>158/61, กระทุ่มแบน, สมุทรสาคร</td>\n",
              "      <td>43782.0</td>\n",
              "      <td>retired</td>\n",
              "      <td>credit</td>\n",
              "      <td>124</td>\n",
              "      <td>loyal</td>\n",
              "    </tr>\n",
              "    <tr>\n",
              "      <th>994</th>\n",
              "      <td>C-0995</td>\n",
              "      <td>male</td>\n",
              "      <td>02/27/2003</td>\n",
              "      <td>168.0</td>\n",
              "      <td>276/51, บึ่งกุ่ม, กรุงเทพ</td>\n",
              "      <td>6693.0</td>\n",
              "      <td>student</td>\n",
              "      <td>credit</td>\n",
              "      <td>49</td>\n",
              "      <td>loyal</td>\n",
              "    </tr>\n",
              "    <tr>\n",
              "      <th>995</th>\n",
              "      <td>C-0996</td>\n",
              "      <td>female</td>\n",
              "      <td>04/28/1998</td>\n",
              "      <td>152.0</td>\n",
              "      <td>23/61, ทวีวัฒนา, กรุงเทพ</td>\n",
              "      <td>26580.0</td>\n",
              "      <td>worker</td>\n",
              "      <td>credit</td>\n",
              "      <td>25</td>\n",
              "      <td>loyal</td>\n",
              "    </tr>\n",
              "  </tbody>\n",
              "</table>\n",
              "<p>900 rows × 10 columns</p>\n",
              "</div>"
            ],
            "text/plain": [
              "    cust_id  gender       birth  height                            address  \\\n",
              "0    C-0001    male  06/02/1958   175.0           140/27, ทุ่งครุ, กรุงเทพ   \n",
              "1    C-0002    male  09/06/1987   171.0  198/57, เมืองสมุทรสาคร, สมุทรสาคร   \n",
              "2    C-0003  female  07/02/1997   166.0           379/22, คลองเตย, กรุงเทพ   \n",
              "4    C-0005    male  02/17/1983   171.0         132/13, คลองหลวง, ปทุมธานี   \n",
              "5    C-0006  female  09/12/1994   153.0          409/34, คันนายาว, กรุงเทพ   \n",
              "..      ...     ...         ...     ...                                ...   \n",
              "990  C-0991    male  02/23/2003   166.0            109/6, บึงกุ่ม, กรุงเทพ   \n",
              "991  C-0992  female  03/02/1993   170.0          161/10, ลาดพร้าว, กรุงเทพ   \n",
              "992  C-0993    male  04/07/1938   177.0      158/61, กระทุ่มแบน, สมุทรสาคร   \n",
              "994  C-0995    male  02/27/2003   168.0          276/51, บึ่งกุ่ม, กรุงเทพ   \n",
              "995  C-0996  female  04/28/1998   152.0           23/61, ทวีวัฒนา, กรุงเทพ   \n",
              "\n",
              "      salary      job payment  last_tx  churn  \n",
              "0    24942.0  retired  credit       98  loyal  \n",
              "1    55134.0   worker  cheque      118  churn  \n",
              "2    27083.0   worker  credit      107  loyal  \n",
              "4    71874.0   worker  credit       90  loyal  \n",
              "5    32916.0   worker  cheque      189  churn  \n",
              "..       ...      ...     ...      ...    ...  \n",
              "990   8113.0  student  credit       92  loyal  \n",
              "991  36333.0   worker  credit       33  loyal  \n",
              "992  43782.0  retired  credit      124  loyal  \n",
              "994   6693.0  student  credit       49  loyal  \n",
              "995  26580.0   worker  credit       25  loyal  \n",
              "\n",
              "[900 rows x 10 columns]"
            ]
          },
          "execution_count": 11,
          "metadata": {},
          "output_type": "execute_result"
        }
      ],
      "source": [
        "df"
      ]
    },
    {
      "cell_type": "code",
      "execution_count": 12,
      "metadata": {
        "id": "nbJqMJs84oXM"
      },
      "outputs": [
        {
          "name": "stdout",
          "output_type": "stream",
          "text": [
            "<class 'pandas.core.frame.DataFrame'>\n",
            "Int64Index: 900 entries, 0 to 995\n",
            "Data columns (total 10 columns):\n",
            " #   Column   Non-Null Count  Dtype  \n",
            "---  ------   --------------  -----  \n",
            " 0   cust_id  900 non-null    object \n",
            " 1   gender   900 non-null    object \n",
            " 2   birth    900 non-null    object \n",
            " 3   height   894 non-null    float64\n",
            " 4   address  900 non-null    object \n",
            " 5   salary   884 non-null    float64\n",
            " 6   job      863 non-null    object \n",
            " 7   payment  900 non-null    object \n",
            " 8   last_tx  900 non-null    int64  \n",
            " 9   churn    900 non-null    object \n",
            "dtypes: float64(2), int64(1), object(7)\n",
            "memory usage: 77.3+ KB\n"
          ]
        }
      ],
      "source": [
        "df.info() # 900"
      ]
    },
    {
      "cell_type": "markdown",
      "metadata": {
        "id": "R5gg9v73Uiwr"
      },
      "source": [
        "## Cap the Outliners"
      ]
    },
    {
      "cell_type": "code",
      "execution_count": 13,
      "metadata": {
        "id": "Lqd5R6l6Uh9a"
      },
      "outputs": [
        {
          "data": {
            "text/plain": [
              "<AxesSubplot: >"
            ]
          },
          "execution_count": 13,
          "metadata": {},
          "output_type": "execute_result"
        },
        {
          "data": {
            "image/png": "[encoded data removed]",
            "text/plain": [
              "<Figure size 640x480 with 1 Axes>"
            ]
          },
          "metadata": {},
          "output_type": "display_data"
        }
      ],
      "source": [
        "df.boxplot(column=\"height\")"
      ]
    },
    {
      "cell_type": "code",
      "execution_count": 14,
      "metadata": {
        "id": "pwmtnkN6MfLZ"
      },
      "outputs": [
        {
          "data": {
            "text/plain": [
              "<AxesSubplot: >"
            ]
          },
          "execution_count": 14,
          "metadata": {},
          "output_type": "execute_result"
        },
        {
          "data": {
            "image/png": "[encoded data removed]",
            "text/plain": [
              "<Figure size 2000x300 with 1 Axes>"
            ]
          },
          "metadata": {},
          "output_type": "display_data"
        }
      ],
      "source": [
        "df.dropna().sort_values('height')[['height']].plot.bar(use_index=False, figsize=(20,3), xticks=[], xlim=(0,1200), ylim=(100,500))"
      ]
    },
    {
      "cell_type": "code",
      "execution_count": 15,
      "metadata": {
        "id": "5gxr271qUoLg"
      },
      "outputs": [
        {
          "name": "stdout",
          "output_type": "stream",
          "text": [
            "151.0 179.0\n"
          ]
        }
      ],
      "source": [
        "low, high = df[\"height\"].quantile([0.05, 0.95])\n",
        "print(low, high)"
      ]
    },
    {
      "cell_type": "code",
      "execution_count": 16,
      "metadata": {
        "id": "X1bZy16aUwg1"
      },
      "outputs": [],
      "source": [
        "df.loc[df[df[\"height\"]<low].index,\"height\"]=low"
      ]
    },
    {
      "cell_type": "code",
      "execution_count": 17,
      "metadata": {
        "id": "KEKLzL9DVC2e"
      },
      "outputs": [],
      "source": [
        "df.loc[df[df[\"height\"]>high].index,\"height\"]=high"
      ]
    },
    {
      "cell_type": "code",
      "execution_count": 18,
      "metadata": {
        "id": "Bq0sBdGtVKiG"
      },
      "outputs": [
        {
          "data": {
            "text/plain": [
              "<AxesSubplot: >"
            ]
          },
          "execution_count": 18,
          "metadata": {},
          "output_type": "execute_result"
        },
        {
          "data": {
            "image/png": "[encoded data removed]",
            "text/plain": [
              "<Figure size 640x480 with 1 Axes>"
            ]
          },
          "metadata": {},
          "output_type": "display_data"
        }
      ],
      "source": [
        "df.boxplot(column=\"height\")"
      ]
    },
    {
      "cell_type": "markdown",
      "metadata": {
        "id": "rTocN0xTOKyp"
      },
      "source": [
        "## Infer Missing Values (I)\n",
        "\n"
      ]
    },
    {
      "cell_type": "code",
      "execution_count": 19,
      "metadata": {
        "id": "SLyRdLTEON91"
      },
      "outputs": [
        {
          "name": "stdout",
          "output_type": "stream",
          "text": [
            "<class 'pandas.core.frame.DataFrame'>\n",
            "Int64Index: 900 entries, 0 to 995\n",
            "Data columns (total 10 columns):\n",
            " #   Column   Non-Null Count  Dtype  \n",
            "---  ------   --------------  -----  \n",
            " 0   cust_id  900 non-null    object \n",
            " 1   gender   900 non-null    object \n",
            " 2   birth    900 non-null    object \n",
            " 3   height   894 non-null    float64\n",
            " 4   address  900 non-null    object \n",
            " 5   salary   884 non-null    float64\n",
            " 6   job      863 non-null    object \n",
            " 7   payment  900 non-null    object \n",
            " 8   last_tx  900 non-null    int64  \n",
            " 9   churn    900 non-null    object \n",
            "dtypes: float64(2), int64(1), object(7)\n",
            "memory usage: 109.6+ KB\n"
          ]
        }
      ],
      "source": [
        "df.info()"
      ]
    },
    {
      "cell_type": "code",
      "execution_count": 20,
      "metadata": {
        "id": "XWL2CuemPJj5"
      },
      "outputs": [
        {
          "data": {
            "text/html": [
              "<div>\n",
              "<style scoped>\n",
              "    .dataframe tbody tr th:only-of-type {\n",
              "        vertical-align: middle;\n",
              "    }\n",
              "\n",
              "    .dataframe tbody tr th {\n",
              "        vertical-align: top;\n",
              "    }\n",
              "\n",
              "    .dataframe thead th {\n",
              "        text-align: right;\n",
              "    }\n",
              "</style>\n",
              "<table border=\"1\" class=\"dataframe\">\n",
              "  <thead>\n",
              "    <tr style=\"text-align: right;\">\n",
              "      <th></th>\n",
              "      <th>cust_id</th>\n",
              "      <th>gender</th>\n",
              "      <th>birth</th>\n",
              "      <th>height</th>\n",
              "      <th>address</th>\n",
              "      <th>salary</th>\n",
              "      <th>job</th>\n",
              "      <th>payment</th>\n",
              "      <th>last_tx</th>\n",
              "      <th>churn</th>\n",
              "    </tr>\n",
              "  </thead>\n",
              "  <tbody>\n",
              "    <tr>\n",
              "      <th>477</th>\n",
              "      <td>C-0478</td>\n",
              "      <td>female</td>\n",
              "      <td>01/09/1993</td>\n",
              "      <td>151.0</td>\n",
              "      <td>349/13, ปากเกร็ด, นนทบุรี</td>\n",
              "      <td>36084.0</td>\n",
              "      <td>worker</td>\n",
              "      <td>credit</td>\n",
              "      <td>83</td>\n",
              "      <td>loyal</td>\n",
              "    </tr>\n",
              "    <tr>\n",
              "      <th>570</th>\n",
              "      <td>C-0571</td>\n",
              "      <td>female</td>\n",
              "      <td>03/14/1993</td>\n",
              "      <td>151.0</td>\n",
              "      <td>390/47, บางเสาธง, สมุทรปราการ</td>\n",
              "      <td>37327.0</td>\n",
              "      <td>worker</td>\n",
              "      <td>credit</td>\n",
              "      <td>87</td>\n",
              "      <td>churn</td>\n",
              "    </tr>\n",
              "    <tr>\n",
              "      <th>385</th>\n",
              "      <td>C-0386</td>\n",
              "      <td>female</td>\n",
              "      <td>03/13/1986</td>\n",
              "      <td>151.0</td>\n",
              "      <td>331/37, นครชัยศรี, นครปฐม</td>\n",
              "      <td>57956.0</td>\n",
              "      <td>worker</td>\n",
              "      <td>cash</td>\n",
              "      <td>107</td>\n",
              "      <td>churn</td>\n",
              "    </tr>\n",
              "    <tr>\n",
              "      <th>387</th>\n",
              "      <td>C-0388</td>\n",
              "      <td>female</td>\n",
              "      <td>05/23/1971</td>\n",
              "      <td>151.0</td>\n",
              "      <td>145/21, เมืองปทุมธานี, ปทุมธานี</td>\n",
              "      <td>144559.0</td>\n",
              "      <td>worker</td>\n",
              "      <td>credit</td>\n",
              "      <td>153</td>\n",
              "      <td>churn</td>\n",
              "    </tr>\n",
              "    <tr>\n",
              "      <th>395</th>\n",
              "      <td>C-0396</td>\n",
              "      <td>female</td>\n",
              "      <td>04/27/2001</td>\n",
              "      <td>151.0</td>\n",
              "      <td>373/25, พระโขนง, กรุงเทพ</td>\n",
              "      <td>8787.0</td>\n",
              "      <td>student</td>\n",
              "      <td>credit</td>\n",
              "      <td>83</td>\n",
              "      <td>loyal</td>\n",
              "    </tr>\n",
              "    <tr>\n",
              "      <th>...</th>\n",
              "      <td>...</td>\n",
              "      <td>...</td>\n",
              "      <td>...</td>\n",
              "      <td>...</td>\n",
              "      <td>...</td>\n",
              "      <td>...</td>\n",
              "      <td>...</td>\n",
              "      <td>...</td>\n",
              "      <td>...</td>\n",
              "      <td>...</td>\n",
              "    </tr>\n",
              "    <tr>\n",
              "      <th>277</th>\n",
              "      <td>C-0278</td>\n",
              "      <td>female</td>\n",
              "      <td>01/22/2005</td>\n",
              "      <td>NaN</td>\n",
              "      <td>183/17, วัฒนา, กรุงเทพ</td>\n",
              "      <td>16808.0</td>\n",
              "      <td>student</td>\n",
              "      <td>cheque</td>\n",
              "      <td>189</td>\n",
              "      <td>churn</td>\n",
              "    </tr>\n",
              "    <tr>\n",
              "      <th>331</th>\n",
              "      <td>C-0332</td>\n",
              "      <td>male</td>\n",
              "      <td>09/24/1976</td>\n",
              "      <td>NaN</td>\n",
              "      <td>394/50, เมืองนนทบุรี, นนทบุรี</td>\n",
              "      <td>108990.0</td>\n",
              "      <td>worker</td>\n",
              "      <td>cash</td>\n",
              "      <td>192</td>\n",
              "      <td>churn</td>\n",
              "    </tr>\n",
              "    <tr>\n",
              "      <th>602</th>\n",
              "      <td>C-0603</td>\n",
              "      <td>male</td>\n",
              "      <td>06/05/1981</td>\n",
              "      <td>NaN</td>\n",
              "      <td>463/33, สายไหม, กรุงเทพ</td>\n",
              "      <td>81106.0</td>\n",
              "      <td>worker</td>\n",
              "      <td>credit</td>\n",
              "      <td>85</td>\n",
              "      <td>loyal</td>\n",
              "    </tr>\n",
              "    <tr>\n",
              "      <th>697</th>\n",
              "      <td>C-0698</td>\n",
              "      <td>female</td>\n",
              "      <td>02/04/1970</td>\n",
              "      <td>NaN</td>\n",
              "      <td>279/64, บึงกุ่ม, กรุงเทพ</td>\n",
              "      <td>153150.0</td>\n",
              "      <td>worker</td>\n",
              "      <td>credit</td>\n",
              "      <td>139</td>\n",
              "      <td>churn</td>\n",
              "    </tr>\n",
              "    <tr>\n",
              "      <th>818</th>\n",
              "      <td>C-0819</td>\n",
              "      <td>male</td>\n",
              "      <td>03/12/1932</td>\n",
              "      <td>NaN</td>\n",
              "      <td>213/28, พระสมุทรเจดีย์, สมุทรปราการ</td>\n",
              "      <td>26914.0</td>\n",
              "      <td>retired</td>\n",
              "      <td>credit</td>\n",
              "      <td>123</td>\n",
              "      <td>loyal</td>\n",
              "    </tr>\n",
              "  </tbody>\n",
              "</table>\n",
              "<p>900 rows × 10 columns</p>\n",
              "</div>"
            ],
            "text/plain": [
              "    cust_id  gender       birth  height                              address  \\\n",
              "477  C-0478  female  01/09/1993   151.0            349/13, ปากเกร็ด, นนทบุรี   \n",
              "570  C-0571  female  03/14/1993   151.0        390/47, บางเสาธง, สมุทรปราการ   \n",
              "385  C-0386  female  03/13/1986   151.0            331/37, นครชัยศรี, นครปฐม   \n",
              "387  C-0388  female  05/23/1971   151.0      145/21, เมืองปทุมธานี, ปทุมธานี   \n",
              "395  C-0396  female  04/27/2001   151.0             373/25, พระโขนง, กรุงเทพ   \n",
              "..      ...     ...         ...     ...                                  ...   \n",
              "277  C-0278  female  01/22/2005     NaN               183/17, วัฒนา, กรุงเทพ   \n",
              "331  C-0332    male  09/24/1976     NaN        394/50, เมืองนนทบุรี, นนทบุรี   \n",
              "602  C-0603    male  06/05/1981     NaN              463/33, สายไหม, กรุงเทพ   \n",
              "697  C-0698  female  02/04/1970     NaN             279/64, บึงกุ่ม, กรุงเทพ   \n",
              "818  C-0819    male  03/12/1932     NaN  213/28, พระสมุทรเจดีย์, สมุทรปราการ   \n",
              "\n",
              "       salary      job payment  last_tx  churn  \n",
              "477   36084.0   worker  credit       83  loyal  \n",
              "570   37327.0   worker  credit       87  churn  \n",
              "385   57956.0   worker    cash      107  churn  \n",
              "387  144559.0   worker  credit      153  churn  \n",
              "395    8787.0  student  credit       83  loyal  \n",
              "..        ...      ...     ...      ...    ...  \n",
              "277   16808.0  student  cheque      189  churn  \n",
              "331  108990.0   worker    cash      192  churn  \n",
              "602   81106.0   worker  credit       85  loyal  \n",
              "697  153150.0   worker  credit      139  churn  \n",
              "818   26914.0  retired  credit      123  loyal  \n",
              "\n",
              "[900 rows x 10 columns]"
            ]
          },
          "execution_count": 20,
          "metadata": {},
          "output_type": "execute_result"
        }
      ],
      "source": [
        "df.sort_values(\"height\")"
      ]
    },
    {
      "cell_type": "code",
      "execution_count": 21,
      "metadata": {
        "id": "qmEVE92OPP2L"
      },
      "outputs": [
        {
          "data": {
            "text/plain": [
              "0      175.0\n",
              "1      171.0\n",
              "2      166.0\n",
              "4      171.0\n",
              "5      153.0\n",
              "       ...  \n",
              "990    166.0\n",
              "991    170.0\n",
              "992    177.0\n",
              "994    168.0\n",
              "995    152.0\n",
              "Name: height, Length: 900, dtype: float64"
            ]
          },
          "execution_count": 21,
          "metadata": {},
          "output_type": "execute_result"
        }
      ],
      "source": [
        "df[\"height\"].fillna(0)"
      ]
    },
    {
      "cell_type": "code",
      "execution_count": 22,
      "metadata": {
        "id": "MrvWBE27QE-Q"
      },
      "outputs": [
        {
          "data": {
            "text/plain": [
              "0      175.0\n",
              "1      171.0\n",
              "2      166.0\n",
              "4      171.0\n",
              "5      153.0\n",
              "       ...  \n",
              "990    166.0\n",
              "991    170.0\n",
              "992    177.0\n",
              "994    168.0\n",
              "995    152.0\n",
              "Name: height, Length: 900, dtype: float64"
            ]
          },
          "execution_count": 22,
          "metadata": {},
          "output_type": "execute_result"
        }
      ],
      "source": [
        "df[\"height\"].fillna(df[\"height\"].mean())"
      ]
    },
    {
      "cell_type": "code",
      "execution_count": 23,
      "metadata": {
        "id": "Y7MxI8AwRCqn"
      },
      "outputs": [
        {
          "data": {
            "text/plain": [
              "<AxesSubplot: >"
            ]
          },
          "execution_count": 23,
          "metadata": {},
          "output_type": "execute_result"
        },
        {
          "data": {
            "image/png": "[encoded data removed]",
            "text/plain": [
              "<Figure size 640x480 with 1 Axes>"
            ]
          },
          "metadata": {},
          "output_type": "display_data"
        }
      ],
      "source": [
        "df.boxplot(column=\"height\")"
      ]
    },
    {
      "cell_type": "code",
      "execution_count": 24,
      "metadata": {
        "id": "GPD3WL2CSXoH"
      },
      "outputs": [
        {
          "data": {
            "text/plain": [
              "<AxesSubplot: title={'center': 'height'}, xlabel='gender'>"
            ]
          },
          "execution_count": 24,
          "metadata": {},
          "output_type": "execute_result"
        },
        {
          "data": {
            "image/png": "[encoded data removed]",
            "text/plain": [
              "<Figure size 640x480 with 1 Axes>"
            ]
          },
          "metadata": {},
          "output_type": "display_data"
        }
      ],
      "source": [
        "df.boxplot(column=\"height\", by=\"gender\")"
      ]
    },
    {
      "cell_type": "code",
      "execution_count": 25,
      "metadata": {
        "id": "YwjqIhgWQg34"
      },
      "outputs": [
        {
          "data": {
            "text/plain": [
              "0      175.0\n",
              "1      171.0\n",
              "2      166.0\n",
              "4      171.0\n",
              "5      153.0\n",
              "       ...  \n",
              "990    166.0\n",
              "991    170.0\n",
              "992    177.0\n",
              "994    168.0\n",
              "995    152.0\n",
              "Name: height, Length: 900, dtype: float64"
            ]
          },
          "execution_count": 25,
          "metadata": {},
          "output_type": "execute_result"
        }
      ],
      "source": [
        "# Recommended !!!!\n",
        "df['height'].fillna(df.groupby('gender')['height'].transform('mean'))"
      ]
    },
    {
      "cell_type": "code",
      "execution_count": 26,
      "metadata": {
        "id": "EAh9QnrnQ6sQ"
      },
      "outputs": [],
      "source": [
        "df['height'] = df['height'].fillna(df.groupby('gender')['height'].transform('mean'))"
      ]
    },
    {
      "cell_type": "code",
      "execution_count": 27,
      "metadata": {
        "id": "DN5E2H2oRAMV"
      },
      "outputs": [
        {
          "name": "stdout",
          "output_type": "stream",
          "text": [
            "<class 'pandas.core.frame.DataFrame'>\n",
            "Int64Index: 900 entries, 0 to 995\n",
            "Data columns (total 10 columns):\n",
            " #   Column   Non-Null Count  Dtype  \n",
            "---  ------   --------------  -----  \n",
            " 0   cust_id  900 non-null    object \n",
            " 1   gender   900 non-null    object \n",
            " 2   birth    900 non-null    object \n",
            " 3   height   900 non-null    float64\n",
            " 4   address  900 non-null    object \n",
            " 5   salary   884 non-null    float64\n",
            " 6   job      863 non-null    object \n",
            " 7   payment  900 non-null    object \n",
            " 8   last_tx  900 non-null    int64  \n",
            " 9   churn    900 non-null    object \n",
            "dtypes: float64(2), int64(1), object(7)\n",
            "memory usage: 109.6+ KB\n"
          ]
        }
      ],
      "source": [
        "df.info()"
      ]
    },
    {
      "cell_type": "markdown",
      "metadata": {
        "id": "jPYblBdEQ59L"
      },
      "source": [
        "## Extract Date Time"
      ]
    },
    {
      "cell_type": "code",
      "execution_count": 28,
      "metadata": {
        "id": "DTaiRXI7TRtz"
      },
      "outputs": [
        {
          "data": {
            "text/plain": [
              "0      06/02/1958\n",
              "1      09/06/1987\n",
              "2      07/02/1997\n",
              "4      02/17/1983\n",
              "5      09/12/1994\n",
              "          ...    \n",
              "990    02/23/2003\n",
              "991    03/02/1993\n",
              "992    04/07/1938\n",
              "994    02/27/2003\n",
              "995    04/28/1998\n",
              "Name: birth, Length: 900, dtype: object"
            ]
          },
          "execution_count": 28,
          "metadata": {},
          "output_type": "execute_result"
        }
      ],
      "source": [
        "df[\"birth\"]"
      ]
    },
    {
      "cell_type": "code",
      "execution_count": 29,
      "metadata": {
        "id": "PZKImnv9TC8y"
      },
      "outputs": [],
      "source": [
        "df[\"birth\"] = pd.to_datetime(df[\"birth\"], format='%m/%d/%Y')"
      ]
    },
    {
      "cell_type": "code",
      "execution_count": 30,
      "metadata": {
        "id": "CkqE2GSETb9b"
      },
      "outputs": [
        {
          "data": {
            "text/plain": [
              "0     1958-06-02\n",
              "1     1987-09-06\n",
              "2     1997-07-02\n",
              "4     1983-02-17\n",
              "5     1994-09-12\n",
              "         ...    \n",
              "990   2003-02-23\n",
              "991   1993-03-02\n",
              "992   1938-04-07\n",
              "994   2003-02-27\n",
              "995   1998-04-28\n",
              "Name: birth, Length: 900, dtype: datetime64[ns]"
            ]
          },
          "execution_count": 30,
          "metadata": {},
          "output_type": "execute_result"
        }
      ],
      "source": [
        "df[\"birth\"]"
      ]
    },
    {
      "cell_type": "code",
      "execution_count": 31,
      "metadata": {
        "id": "IfAKl1PvTgHc"
      },
      "outputs": [
        {
          "data": {
            "text/plain": [
              "0      1958\n",
              "1      1987\n",
              "2      1997\n",
              "4      1983\n",
              "5      1994\n",
              "       ... \n",
              "990    2003\n",
              "991    1993\n",
              "992    1938\n",
              "994    2003\n",
              "995    1998\n",
              "Name: birth, Length: 900, dtype: int64"
            ]
          },
          "execution_count": 31,
          "metadata": {},
          "output_type": "execute_result"
        }
      ],
      "source": [
        "df[\"birth\"].dt.year"
      ]
    },
    {
      "cell_type": "code",
      "execution_count": 32,
      "metadata": {
        "id": "NQ1RFoJsTmVd"
      },
      "outputs": [
        {
          "data": {
            "text/plain": [
              "0      64\n",
              "1      35\n",
              "2      25\n",
              "4      39\n",
              "5      28\n",
              "       ..\n",
              "990    19\n",
              "991    29\n",
              "992    84\n",
              "994    19\n",
              "995    24\n",
              "Name: birth, Length: 900, dtype: int64"
            ]
          },
          "execution_count": 32,
          "metadata": {},
          "output_type": "execute_result"
        }
      ],
      "source": [
        "2022 - df[\"birth\"].dt.year"
      ]
    },
    {
      "cell_type": "code",
      "execution_count": 33,
      "metadata": {
        "id": "ngWV5NZwTpmi"
      },
      "outputs": [],
      "source": [
        "df[\"age\"] = 2022 - df[\"birth\"].dt.year"
      ]
    },
    {
      "cell_type": "code",
      "execution_count": 34,
      "metadata": {
        "id": "QU7gIUUvTtym"
      },
      "outputs": [
        {
          "data": {
            "text/html": [
              "<div>\n",
              "<style scoped>\n",
              "    .dataframe tbody tr th:only-of-type {\n",
              "        vertical-align: middle;\n",
              "    }\n",
              "\n",
              "    .dataframe tbody tr th {\n",
              "        vertical-align: top;\n",
              "    }\n",
              "\n",
              "    .dataframe thead th {\n",
              "        text-align: right;\n",
              "    }\n",
              "</style>\n",
              "<table border=\"1\" class=\"dataframe\">\n",
              "  <thead>\n",
              "    <tr style=\"text-align: right;\">\n",
              "      <th></th>\n",
              "      <th>cust_id</th>\n",
              "      <th>gender</th>\n",
              "      <th>birth</th>\n",
              "      <th>height</th>\n",
              "      <th>address</th>\n",
              "      <th>salary</th>\n",
              "      <th>job</th>\n",
              "      <th>payment</th>\n",
              "      <th>last_tx</th>\n",
              "      <th>churn</th>\n",
              "      <th>age</th>\n",
              "    </tr>\n",
              "  </thead>\n",
              "  <tbody>\n",
              "    <tr>\n",
              "      <th>0</th>\n",
              "      <td>C-0001</td>\n",
              "      <td>male</td>\n",
              "      <td>1958-06-02</td>\n",
              "      <td>175.0</td>\n",
              "      <td>140/27, ทุ่งครุ, กรุงเทพ</td>\n",
              "      <td>24942.0</td>\n",
              "      <td>retired</td>\n",
              "      <td>credit</td>\n",
              "      <td>98</td>\n",
              "      <td>loyal</td>\n",
              "      <td>64</td>\n",
              "    </tr>\n",
              "    <tr>\n",
              "      <th>1</th>\n",
              "      <td>C-0002</td>\n",
              "      <td>male</td>\n",
              "      <td>1987-09-06</td>\n",
              "      <td>171.0</td>\n",
              "      <td>198/57, เมืองสมุทรสาคร, สมุทรสาคร</td>\n",
              "      <td>55134.0</td>\n",
              "      <td>worker</td>\n",
              "      <td>cheque</td>\n",
              "      <td>118</td>\n",
              "      <td>churn</td>\n",
              "      <td>35</td>\n",
              "    </tr>\n",
              "    <tr>\n",
              "      <th>2</th>\n",
              "      <td>C-0003</td>\n",
              "      <td>female</td>\n",
              "      <td>1997-07-02</td>\n",
              "      <td>166.0</td>\n",
              "      <td>379/22, คลองเตย, กรุงเทพ</td>\n",
              "      <td>27083.0</td>\n",
              "      <td>worker</td>\n",
              "      <td>credit</td>\n",
              "      <td>107</td>\n",
              "      <td>loyal</td>\n",
              "      <td>25</td>\n",
              "    </tr>\n",
              "    <tr>\n",
              "      <th>4</th>\n",
              "      <td>C-0005</td>\n",
              "      <td>male</td>\n",
              "      <td>1983-02-17</td>\n",
              "      <td>171.0</td>\n",
              "      <td>132/13, คลองหลวง, ปทุมธานี</td>\n",
              "      <td>71874.0</td>\n",
              "      <td>worker</td>\n",
              "      <td>credit</td>\n",
              "      <td>90</td>\n",
              "      <td>loyal</td>\n",
              "      <td>39</td>\n",
              "    </tr>\n",
              "    <tr>\n",
              "      <th>5</th>\n",
              "      <td>C-0006</td>\n",
              "      <td>female</td>\n",
              "      <td>1994-09-12</td>\n",
              "      <td>153.0</td>\n",
              "      <td>409/34, คันนายาว, กรุงเทพ</td>\n",
              "      <td>32916.0</td>\n",
              "      <td>worker</td>\n",
              "      <td>cheque</td>\n",
              "      <td>189</td>\n",
              "      <td>churn</td>\n",
              "      <td>28</td>\n",
              "    </tr>\n",
              "    <tr>\n",
              "      <th>...</th>\n",
              "      <td>...</td>\n",
              "      <td>...</td>\n",
              "      <td>...</td>\n",
              "      <td>...</td>\n",
              "      <td>...</td>\n",
              "      <td>...</td>\n",
              "      <td>...</td>\n",
              "      <td>...</td>\n",
              "      <td>...</td>\n",
              "      <td>...</td>\n",
              "      <td>...</td>\n",
              "    </tr>\n",
              "    <tr>\n",
              "      <th>990</th>\n",
              "      <td>C-0991</td>\n",
              "      <td>male</td>\n",
              "      <td>2003-02-23</td>\n",
              "      <td>166.0</td>\n",
              "      <td>109/6, บึงกุ่ม, กรุงเทพ</td>\n",
              "      <td>8113.0</td>\n",
              "      <td>student</td>\n",
              "      <td>credit</td>\n",
              "      <td>92</td>\n",
              "      <td>loyal</td>\n",
              "      <td>19</td>\n",
              "    </tr>\n",
              "    <tr>\n",
              "      <th>991</th>\n",
              "      <td>C-0992</td>\n",
              "      <td>female</td>\n",
              "      <td>1993-03-02</td>\n",
              "      <td>170.0</td>\n",
              "      <td>161/10, ลาดพร้าว, กรุงเทพ</td>\n",
              "      <td>36333.0</td>\n",
              "      <td>worker</td>\n",
              "      <td>credit</td>\n",
              "      <td>33</td>\n",
              "      <td>loyal</td>\n",
              "      <td>29</td>\n",
              "    </tr>\n",
              "    <tr>\n",
              "      <th>992</th>\n",
              "      <td>C-0993</td>\n",
              "      <td>male</td>\n",
              "      <td>1938-04-07</td>\n",
              "      <td>177.0</td>\n",
              "      <td>158/61, กระทุ่มแบน, สมุทรสาคร</td>\n",
              "      <td>43782.0</td>\n",
              "      <td>retired</td>\n",
              "      <td>credit</td>\n",
              "      <td>124</td>\n",
              "      <td>loyal</td>\n",
              "      <td>84</td>\n",
              "    </tr>\n",
              "    <tr>\n",
              "      <th>994</th>\n",
              "      <td>C-0995</td>\n",
              "      <td>male</td>\n",
              "      <td>2003-02-27</td>\n",
              "      <td>168.0</td>\n",
              "      <td>276/51, บึ่งกุ่ม, กรุงเทพ</td>\n",
              "      <td>6693.0</td>\n",
              "      <td>student</td>\n",
              "      <td>credit</td>\n",
              "      <td>49</td>\n",
              "      <td>loyal</td>\n",
              "      <td>19</td>\n",
              "    </tr>\n",
              "    <tr>\n",
              "      <th>995</th>\n",
              "      <td>C-0996</td>\n",
              "      <td>female</td>\n",
              "      <td>1998-04-28</td>\n",
              "      <td>152.0</td>\n",
              "      <td>23/61, ทวีวัฒนา, กรุงเทพ</td>\n",
              "      <td>26580.0</td>\n",
              "      <td>worker</td>\n",
              "      <td>credit</td>\n",
              "      <td>25</td>\n",
              "      <td>loyal</td>\n",
              "      <td>24</td>\n",
              "    </tr>\n",
              "  </tbody>\n",
              "</table>\n",
              "<p>900 rows × 11 columns</p>\n",
              "</div>"
            ],
            "text/plain": [
              "    cust_id  gender      birth  height                            address  \\\n",
              "0    C-0001    male 1958-06-02   175.0           140/27, ทุ่งครุ, กรุงเทพ   \n",
              "1    C-0002    male 1987-09-06   171.0  198/57, เมืองสมุทรสาคร, สมุทรสาคร   \n",
              "2    C-0003  female 1997-07-02   166.0           379/22, คลองเตย, กรุงเทพ   \n",
              "4    C-0005    male 1983-02-17   171.0         132/13, คลองหลวง, ปทุมธานี   \n",
              "5    C-0006  female 1994-09-12   153.0          409/34, คันนายาว, กรุงเทพ   \n",
              "..      ...     ...        ...     ...                                ...   \n",
              "990  C-0991    male 2003-02-23   166.0            109/6, บึงกุ่ม, กรุงเทพ   \n",
              "991  C-0992  female 1993-03-02   170.0          161/10, ลาดพร้าว, กรุงเทพ   \n",
              "992  C-0993    male 1938-04-07   177.0      158/61, กระทุ่มแบน, สมุทรสาคร   \n",
              "994  C-0995    male 2003-02-27   168.0          276/51, บึ่งกุ่ม, กรุงเทพ   \n",
              "995  C-0996  female 1998-04-28   152.0           23/61, ทวีวัฒนา, กรุงเทพ   \n",
              "\n",
              "      salary      job payment  last_tx  churn  age  \n",
              "0    24942.0  retired  credit       98  loyal   64  \n",
              "1    55134.0   worker  cheque      118  churn   35  \n",
              "2    27083.0   worker  credit      107  loyal   25  \n",
              "4    71874.0   worker  credit       90  loyal   39  \n",
              "5    32916.0   worker  cheque      189  churn   28  \n",
              "..       ...      ...     ...      ...    ...  ...  \n",
              "990   8113.0  student  credit       92  loyal   19  \n",
              "991  36333.0   worker  credit       33  loyal   29  \n",
              "992  43782.0  retired  credit      124  loyal   84  \n",
              "994   6693.0  student  credit       49  loyal   19  \n",
              "995  26580.0   worker  credit       25  loyal   24  \n",
              "\n",
              "[900 rows x 11 columns]"
            ]
          },
          "execution_count": 34,
          "metadata": {},
          "output_type": "execute_result"
        }
      ],
      "source": [
        "df"
      ]
    },
    {
      "cell_type": "markdown",
      "metadata": {
        "id": "fyezDRA_WxG6"
      },
      "source": [
        "## Bining"
      ]
    },
    {
      "cell_type": "code",
      "execution_count": 35,
      "metadata": {
        "id": "wqcPlvxcWzMI"
      },
      "outputs": [
        {
          "data": {
            "text/plain": [
              "<AxesSubplot: >"
            ]
          },
          "execution_count": 35,
          "metadata": {},
          "output_type": "execute_result"
        },
        {
          "data": {
            "image/png": "[encoded data removed]",
            "text/plain": [
              "<Figure size 640x480 with 1 Axes>"
            ]
          },
          "metadata": {},
          "output_type": "display_data"
        }
      ],
      "source": [
        "df[\"age\"].hist()"
      ]
    },
    {
      "cell_type": "code",
      "execution_count": 36,
      "metadata": {
        "id": "pR8VRdCWYS6W"
      },
      "outputs": [],
      "source": [
        "cut_labels = ['young', 'teen', 'adult', 'senior']\n",
        "cut_bins = [0, 13, 25, 61, 100]\n",
        "df['age_group'] = pd.cut(df['age'], bins=cut_bins, labels=cut_labels)"
      ]
    },
    {
      "cell_type": "code",
      "execution_count": 37,
      "metadata": {
        "id": "KRvT397KY9wJ"
      },
      "outputs": [
        {
          "data": {
            "text/html": [
              "<div>\n",
              "<style scoped>\n",
              "    .dataframe tbody tr th:only-of-type {\n",
              "        vertical-align: middle;\n",
              "    }\n",
              "\n",
              "    .dataframe tbody tr th {\n",
              "        vertical-align: top;\n",
              "    }\n",
              "\n",
              "    .dataframe thead th {\n",
              "        text-align: right;\n",
              "    }\n",
              "</style>\n",
              "<table border=\"1\" class=\"dataframe\">\n",
              "  <thead>\n",
              "    <tr style=\"text-align: right;\">\n",
              "      <th></th>\n",
              "      <th>cust_id</th>\n",
              "      <th>gender</th>\n",
              "      <th>birth</th>\n",
              "      <th>height</th>\n",
              "      <th>address</th>\n",
              "      <th>salary</th>\n",
              "      <th>job</th>\n",
              "      <th>payment</th>\n",
              "      <th>last_tx</th>\n",
              "      <th>churn</th>\n",
              "      <th>age</th>\n",
              "      <th>age_group</th>\n",
              "    </tr>\n",
              "  </thead>\n",
              "  <tbody>\n",
              "    <tr>\n",
              "      <th>0</th>\n",
              "      <td>C-0001</td>\n",
              "      <td>male</td>\n",
              "      <td>1958-06-02</td>\n",
              "      <td>175.0</td>\n",
              "      <td>140/27, ทุ่งครุ, กรุงเทพ</td>\n",
              "      <td>24942.0</td>\n",
              "      <td>retired</td>\n",
              "      <td>credit</td>\n",
              "      <td>98</td>\n",
              "      <td>loyal</td>\n",
              "      <td>64</td>\n",
              "      <td>senior</td>\n",
              "    </tr>\n",
              "    <tr>\n",
              "      <th>1</th>\n",
              "      <td>C-0002</td>\n",
              "      <td>male</td>\n",
              "      <td>1987-09-06</td>\n",
              "      <td>171.0</td>\n",
              "      <td>198/57, เมืองสมุทรสาคร, สมุทรสาคร</td>\n",
              "      <td>55134.0</td>\n",
              "      <td>worker</td>\n",
              "      <td>cheque</td>\n",
              "      <td>118</td>\n",
              "      <td>churn</td>\n",
              "      <td>35</td>\n",
              "      <td>adult</td>\n",
              "    </tr>\n",
              "    <tr>\n",
              "      <th>2</th>\n",
              "      <td>C-0003</td>\n",
              "      <td>female</td>\n",
              "      <td>1997-07-02</td>\n",
              "      <td>166.0</td>\n",
              "      <td>379/22, คลองเตย, กรุงเทพ</td>\n",
              "      <td>27083.0</td>\n",
              "      <td>worker</td>\n",
              "      <td>credit</td>\n",
              "      <td>107</td>\n",
              "      <td>loyal</td>\n",
              "      <td>25</td>\n",
              "      <td>teen</td>\n",
              "    </tr>\n",
              "    <tr>\n",
              "      <th>4</th>\n",
              "      <td>C-0005</td>\n",
              "      <td>male</td>\n",
              "      <td>1983-02-17</td>\n",
              "      <td>171.0</td>\n",
              "      <td>132/13, คลองหลวง, ปทุมธานี</td>\n",
              "      <td>71874.0</td>\n",
              "      <td>worker</td>\n",
              "      <td>credit</td>\n",
              "      <td>90</td>\n",
              "      <td>loyal</td>\n",
              "      <td>39</td>\n",
              "      <td>adult</td>\n",
              "    </tr>\n",
              "    <tr>\n",
              "      <th>5</th>\n",
              "      <td>C-0006</td>\n",
              "      <td>female</td>\n",
              "      <td>1994-09-12</td>\n",
              "      <td>153.0</td>\n",
              "      <td>409/34, คันนายาว, กรุงเทพ</td>\n",
              "      <td>32916.0</td>\n",
              "      <td>worker</td>\n",
              "      <td>cheque</td>\n",
              "      <td>189</td>\n",
              "      <td>churn</td>\n",
              "      <td>28</td>\n",
              "      <td>adult</td>\n",
              "    </tr>\n",
              "    <tr>\n",
              "      <th>...</th>\n",
              "      <td>...</td>\n",
              "      <td>...</td>\n",
              "      <td>...</td>\n",
              "      <td>...</td>\n",
              "      <td>...</td>\n",
              "      <td>...</td>\n",
              "      <td>...</td>\n",
              "      <td>...</td>\n",
              "      <td>...</td>\n",
              "      <td>...</td>\n",
              "      <td>...</td>\n",
              "      <td>...</td>\n",
              "    </tr>\n",
              "    <tr>\n",
              "      <th>990</th>\n",
              "      <td>C-0991</td>\n",
              "      <td>male</td>\n",
              "      <td>2003-02-23</td>\n",
              "      <td>166.0</td>\n",
              "      <td>109/6, บึงกุ่ม, กรุงเทพ</td>\n",
              "      <td>8113.0</td>\n",
              "      <td>student</td>\n",
              "      <td>credit</td>\n",
              "      <td>92</td>\n",
              "      <td>loyal</td>\n",
              "      <td>19</td>\n",
              "      <td>teen</td>\n",
              "    </tr>\n",
              "    <tr>\n",
              "      <th>991</th>\n",
              "      <td>C-0992</td>\n",
              "      <td>female</td>\n",
              "      <td>1993-03-02</td>\n",
              "      <td>170.0</td>\n",
              "      <td>161/10, ลาดพร้าว, กรุงเทพ</td>\n",
              "      <td>36333.0</td>\n",
              "      <td>worker</td>\n",
              "      <td>credit</td>\n",
              "      <td>33</td>\n",
              "      <td>loyal</td>\n",
              "      <td>29</td>\n",
              "      <td>adult</td>\n",
              "    </tr>\n",
              "    <tr>\n",
              "      <th>992</th>\n",
              "      <td>C-0993</td>\n",
              "      <td>male</td>\n",
              "      <td>1938-04-07</td>\n",
              "      <td>177.0</td>\n",
              "      <td>158/61, กระทุ่มแบน, สมุทรสาคร</td>\n",
              "      <td>43782.0</td>\n",
              "      <td>retired</td>\n",
              "      <td>credit</td>\n",
              "      <td>124</td>\n",
              "      <td>loyal</td>\n",
              "      <td>84</td>\n",
              "      <td>senior</td>\n",
              "    </tr>\n",
              "    <tr>\n",
              "      <th>994</th>\n",
              "      <td>C-0995</td>\n",
              "      <td>male</td>\n",
              "      <td>2003-02-27</td>\n",
              "      <td>168.0</td>\n",
              "      <td>276/51, บึ่งกุ่ม, กรุงเทพ</td>\n",
              "      <td>6693.0</td>\n",
              "      <td>student</td>\n",
              "      <td>credit</td>\n",
              "      <td>49</td>\n",
              "      <td>loyal</td>\n",
              "      <td>19</td>\n",
              "      <td>teen</td>\n",
              "    </tr>\n",
              "    <tr>\n",
              "      <th>995</th>\n",
              "      <td>C-0996</td>\n",
              "      <td>female</td>\n",
              "      <td>1998-04-28</td>\n",
              "      <td>152.0</td>\n",
              "      <td>23/61, ทวีวัฒนา, กรุงเทพ</td>\n",
              "      <td>26580.0</td>\n",
              "      <td>worker</td>\n",
              "      <td>credit</td>\n",
              "      <td>25</td>\n",
              "      <td>loyal</td>\n",
              "      <td>24</td>\n",
              "      <td>teen</td>\n",
              "    </tr>\n",
              "  </tbody>\n",
              "</table>\n",
              "<p>900 rows × 12 columns</p>\n",
              "</div>"
            ],
            "text/plain": [
              "    cust_id  gender      birth  height                            address  \\\n",
              "0    C-0001    male 1958-06-02   175.0           140/27, ทุ่งครุ, กรุงเทพ   \n",
              "1    C-0002    male 1987-09-06   171.0  198/57, เมืองสมุทรสาคร, สมุทรสาคร   \n",
              "2    C-0003  female 1997-07-02   166.0           379/22, คลองเตย, กรุงเทพ   \n",
              "4    C-0005    male 1983-02-17   171.0         132/13, คลองหลวง, ปทุมธานี   \n",
              "5    C-0006  female 1994-09-12   153.0          409/34, คันนายาว, กรุงเทพ   \n",
              "..      ...     ...        ...     ...                                ...   \n",
              "990  C-0991    male 2003-02-23   166.0            109/6, บึงกุ่ม, กรุงเทพ   \n",
              "991  C-0992  female 1993-03-02   170.0          161/10, ลาดพร้าว, กรุงเทพ   \n",
              "992  C-0993    male 1938-04-07   177.0      158/61, กระทุ่มแบน, สมุทรสาคร   \n",
              "994  C-0995    male 2003-02-27   168.0          276/51, บึ่งกุ่ม, กรุงเทพ   \n",
              "995  C-0996  female 1998-04-28   152.0           23/61, ทวีวัฒนา, กรุงเทพ   \n",
              "\n",
              "      salary      job payment  last_tx  churn  age age_group  \n",
              "0    24942.0  retired  credit       98  loyal   64    senior  \n",
              "1    55134.0   worker  cheque      118  churn   35     adult  \n",
              "2    27083.0   worker  credit      107  loyal   25      teen  \n",
              "4    71874.0   worker  credit       90  loyal   39     adult  \n",
              "5    32916.0   worker  cheque      189  churn   28     adult  \n",
              "..       ...      ...     ...      ...    ...  ...       ...  \n",
              "990   8113.0  student  credit       92  loyal   19      teen  \n",
              "991  36333.0   worker  credit       33  loyal   29     adult  \n",
              "992  43782.0  retired  credit      124  loyal   84    senior  \n",
              "994   6693.0  student  credit       49  loyal   19      teen  \n",
              "995  26580.0   worker  credit       25  loyal   24      teen  \n",
              "\n",
              "[900 rows x 12 columns]"
            ]
          },
          "execution_count": 37,
          "metadata": {},
          "output_type": "execute_result"
        }
      ],
      "source": [
        "df"
      ]
    },
    {
      "cell_type": "code",
      "execution_count": 38,
      "metadata": {
        "id": "UEKfbt3WYyIO"
      },
      "outputs": [
        {
          "data": {
            "text/plain": [
              "<AxesSubplot: title={'center': 'age'}, xlabel='age_group'>"
            ]
          },
          "execution_count": 38,
          "metadata": {},
          "output_type": "execute_result"
        },
        {
          "data": {
            "image/png": "[encoded data removed]",
            "text/plain": [
              "<Figure size 640x480 with 1 Axes>"
            ]
          },
          "metadata": {},
          "output_type": "display_data"
        }
      ],
      "source": [
        "df.boxplot(column=\"age\", by=\"age_group\")"
      ]
    },
    {
      "cell_type": "markdown",
      "metadata": {
        "id": "m2MPwcX3WGhs"
      },
      "source": [
        "## Infer Missing Values (II)"
      ]
    },
    {
      "cell_type": "code",
      "execution_count": 39,
      "metadata": {
        "id": "VNyGuloyWIO7"
      },
      "outputs": [
        {
          "name": "stdout",
          "output_type": "stream",
          "text": [
            "<class 'pandas.core.frame.DataFrame'>\n",
            "Int64Index: 900 entries, 0 to 995\n",
            "Data columns (total 12 columns):\n",
            " #   Column     Non-Null Count  Dtype         \n",
            "---  ------     --------------  -----         \n",
            " 0   cust_id    900 non-null    object        \n",
            " 1   gender     900 non-null    object        \n",
            " 2   birth      900 non-null    datetime64[ns]\n",
            " 3   height     900 non-null    float64       \n",
            " 4   address    900 non-null    object        \n",
            " 5   salary     884 non-null    float64       \n",
            " 6   job        863 non-null    object        \n",
            " 7   payment    900 non-null    object        \n",
            " 8   last_tx    900 non-null    int64         \n",
            " 9   churn      900 non-null    object        \n",
            " 10  age        900 non-null    int64         \n",
            " 11  age_group  900 non-null    category      \n",
            "dtypes: category(1), datetime64[ns](1), float64(2), int64(2), object(6)\n",
            "memory usage: 117.7+ KB\n"
          ]
        }
      ],
      "source": [
        "df.info()"
      ]
    },
    {
      "cell_type": "code",
      "execution_count": 40,
      "metadata": {
        "id": "mB0Cq-y5WPIl"
      },
      "outputs": [
        {
          "data": {
            "text/plain": [
              "<AxesSubplot: title={'center': 'age'}, xlabel='job'>"
            ]
          },
          "execution_count": 40,
          "metadata": {},
          "output_type": "execute_result"
        },
        {
          "data": {
            "image/png": "[encoded data removed]",
            "text/plain": [
              "<Figure size 640x480 with 1 Axes>"
            ]
          },
          "metadata": {},
          "output_type": "display_data"
        }
      ],
      "source": [
        "df.boxplot(column=\"age\", by=\"job\")"
      ]
    },
    {
      "cell_type": "code",
      "execution_count": 41,
      "metadata": {
        "id": "p78pN0hEZBiu"
      },
      "outputs": [
        {
          "data": {
            "text/plain": [
              "0    a\n",
              "1    b\n",
              "dtype: object"
            ]
          },
          "execution_count": 41,
          "metadata": {},
          "output_type": "execute_result"
        }
      ],
      "source": [
        "ser = pd.Series(['a', 'a', 'a', 'b', 'b', 'b', 'c', 'c', 'd'])\n",
        "ser.mode()"
      ]
    },
    {
      "cell_type": "code",
      "execution_count": 42,
      "metadata": {
        "id": "_FxqFsmDYp75"
      },
      "outputs": [],
      "source": [
        "def f_mode(dat):\n",
        "  if len(dat)>0:\n",
        "    return dat.mode().iloc[0]\n",
        "  else:\n",
        "    return \"\""
      ]
    },
    {
      "cell_type": "code",
      "execution_count": 43,
      "metadata": {
        "id": "Ek1xCjdjY_rw"
      },
      "outputs": [
        {
          "data": {
            "text/plain": [
              "'a'"
            ]
          },
          "execution_count": 43,
          "metadata": {},
          "output_type": "execute_result"
        }
      ],
      "source": [
        "f_mode(ser)"
      ]
    },
    {
      "cell_type": "code",
      "execution_count": 44,
      "metadata": {
        "id": "fzxxFF4IZCWy"
      },
      "outputs": [
        {
          "data": {
            "text/plain": [
              "0      retired\n",
              "1       worker\n",
              "2       worker\n",
              "4       worker\n",
              "5       worker\n",
              "        ...   \n",
              "990    student\n",
              "991     worker\n",
              "992    retired\n",
              "994    student\n",
              "995     worker\n",
              "Name: job, Length: 900, dtype: object"
            ]
          },
          "execution_count": 44,
          "metadata": {},
          "output_type": "execute_result"
        }
      ],
      "source": [
        "df['job'].fillna(df.groupby('age_group')['job'].transform(f_mode))"
      ]
    },
    {
      "cell_type": "code",
      "execution_count": 45,
      "metadata": {
        "id": "BKWzSN5UdXLY"
      },
      "outputs": [],
      "source": [
        "df['job'] = df['job'].fillna(df.groupby('age_group')['job'].transform(f_mode))"
      ]
    },
    {
      "cell_type": "code",
      "execution_count": 46,
      "metadata": {
        "id": "OCYh0e6QZQdn"
      },
      "outputs": [
        {
          "name": "stdout",
          "output_type": "stream",
          "text": [
            "<class 'pandas.core.frame.DataFrame'>\n",
            "Int64Index: 900 entries, 0 to 995\n",
            "Data columns (total 12 columns):\n",
            " #   Column     Non-Null Count  Dtype         \n",
            "---  ------     --------------  -----         \n",
            " 0   cust_id    900 non-null    object        \n",
            " 1   gender     900 non-null    object        \n",
            " 2   birth      900 non-null    datetime64[ns]\n",
            " 3   height     900 non-null    float64       \n",
            " 4   address    900 non-null    object        \n",
            " 5   salary     884 non-null    float64       \n",
            " 6   job        900 non-null    object        \n",
            " 7   payment    900 non-null    object        \n",
            " 8   last_tx    900 non-null    int64         \n",
            " 9   churn      900 non-null    object        \n",
            " 10  age        900 non-null    int64         \n",
            " 11  age_group  900 non-null    category      \n",
            "dtypes: category(1), datetime64[ns](1), float64(2), int64(2), object(6)\n",
            "memory usage: 117.7+ KB\n"
          ]
        }
      ],
      "source": [
        "df.info()"
      ]
    },
    {
      "cell_type": "code",
      "execution_count": 47,
      "metadata": {
        "id": "35v_GbqrZWQt"
      },
      "outputs": [
        {
          "data": {
            "text/plain": [
              "<AxesSubplot: title={'center': 'age'}, xlabel='job'>"
            ]
          },
          "execution_count": 47,
          "metadata": {},
          "output_type": "execute_result"
        },
        {
          "data": {
            "image/png": "[encoded data removed]",
            "text/plain": [
              "<Figure size 640x480 with 1 Axes>"
            ]
          },
          "metadata": {},
          "output_type": "display_data"
        }
      ],
      "source": [
        "df.boxplot(column=\"age\", by=\"job\")"
      ]
    },
    {
      "cell_type": "markdown",
      "metadata": {
        "id": "0VLU363qeKj0"
      },
      "source": [
        "## Infer Missing Values (III)"
      ]
    },
    {
      "cell_type": "code",
      "execution_count": 48,
      "metadata": {
        "id": "BZbqZZ_EeS6-"
      },
      "outputs": [
        {
          "name": "stdout",
          "output_type": "stream",
          "text": [
            "<class 'pandas.core.frame.DataFrame'>\n",
            "Int64Index: 900 entries, 0 to 995\n",
            "Data columns (total 12 columns):\n",
            " #   Column     Non-Null Count  Dtype         \n",
            "---  ------     --------------  -----         \n",
            " 0   cust_id    900 non-null    object        \n",
            " 1   gender     900 non-null    object        \n",
            " 2   birth      900 non-null    datetime64[ns]\n",
            " 3   height     900 non-null    float64       \n",
            " 4   address    900 non-null    object        \n",
            " 5   salary     884 non-null    float64       \n",
            " 6   job        900 non-null    object        \n",
            " 7   payment    900 non-null    object        \n",
            " 8   last_tx    900 non-null    int64         \n",
            " 9   churn      900 non-null    object        \n",
            " 10  age        900 non-null    int64         \n",
            " 11  age_group  900 non-null    category      \n",
            "dtypes: category(1), datetime64[ns](1), float64(2), int64(2), object(6)\n",
            "memory usage: 117.7+ KB\n"
          ]
        }
      ],
      "source": [
        "df.info()"
      ]
    },
    {
      "cell_type": "code",
      "execution_count": 49,
      "metadata": {
        "id": "ZOdCLXhweWve"
      },
      "outputs": [
        {
          "data": {
            "text/plain": [
              "<AxesSubplot: xlabel='age', ylabel='salary'>"
            ]
          },
          "execution_count": 49,
          "metadata": {},
          "output_type": "execute_result"
        },
        {
          "data": {
            "image/png": "[encoded data removed]",
            "text/plain": [
              "<Figure size 640x480 with 1 Axes>"
            ]
          },
          "metadata": {},
          "output_type": "display_data"
        }
      ],
      "source": [
        "df.plot.scatter(x=\"age\", y=\"salary\")"
      ]
    },
    {
      "cell_type": "code",
      "execution_count": 50,
      "metadata": {
        "id": "b5ijBFj0rPWA"
      },
      "outputs": [],
      "source": [
        "df.sort_values(\"age\", inplace=True)"
      ]
    },
    {
      "cell_type": "code",
      "execution_count": 51,
      "metadata": {
        "id": "LGxKXc6ZrekX"
      },
      "outputs": [],
      "source": [
        "df[\"salary\"] = df[\"salary\"].interpolate()"
      ]
    },
    {
      "cell_type": "code",
      "execution_count": 52,
      "metadata": {
        "id": "MtidFN4gsA-Q"
      },
      "outputs": [
        {
          "name": "stdout",
          "output_type": "stream",
          "text": [
            "<class 'pandas.core.frame.DataFrame'>\n",
            "Int64Index: 900 entries, 841 to 803\n",
            "Data columns (total 12 columns):\n",
            " #   Column     Non-Null Count  Dtype         \n",
            "---  ------     --------------  -----         \n",
            " 0   cust_id    900 non-null    object        \n",
            " 1   gender     900 non-null    object        \n",
            " 2   birth      900 non-null    datetime64[ns]\n",
            " 3   height     900 non-null    float64       \n",
            " 4   address    900 non-null    object        \n",
            " 5   salary     900 non-null    float64       \n",
            " 6   job        900 non-null    object        \n",
            " 7   payment    900 non-null    object        \n",
            " 8   last_tx    900 non-null    int64         \n",
            " 9   churn      900 non-null    object        \n",
            " 10  age        900 non-null    int64         \n",
            " 11  age_group  900 non-null    category      \n",
            "dtypes: category(1), datetime64[ns](1), float64(2), int64(2), object(6)\n",
            "memory usage: 85.5+ KB\n"
          ]
        }
      ],
      "source": [
        "df.info()"
      ]
    },
    {
      "cell_type": "code",
      "execution_count": 53,
      "metadata": {
        "id": "JmU8Xv3arz8d"
      },
      "outputs": [
        {
          "data": {
            "text/plain": [
              "<AxesSubplot: xlabel='age', ylabel='salary'>"
            ]
          },
          "execution_count": 53,
          "metadata": {},
          "output_type": "execute_result"
        },
        {
          "data": {
            "image/png": "[encoded data removed]",
            "text/plain": [
              "<Figure size 640x480 with 1 Axes>"
            ]
          },
          "metadata": {},
          "output_type": "display_data"
        }
      ],
      "source": [
        "df.plot.scatter(x=\"age\", y=\"salary\")"
      ]
    },
    {
      "cell_type": "markdown",
      "metadata": {
        "id": "vfTL2ht1sFyJ"
      },
      "source": [
        "## Log Scale"
      ]
    },
    {
      "cell_type": "code",
      "execution_count": 54,
      "metadata": {
        "id": "hkS0ZKqbsHSE"
      },
      "outputs": [
        {
          "data": {
            "text/plain": [
              "<AxesSubplot: xlabel='age', ylabel='salary'>"
            ]
          },
          "execution_count": 54,
          "metadata": {},
          "output_type": "execute_result"
        },
        {
          "data": {
            "image/png": "[encoded data removed]",
            "text/plain": [
              "<Figure size 640x480 with 1 Axes>"
            ]
          },
          "metadata": {},
          "output_type": "display_data"
        }
      ],
      "source": [
        "df[df['job']=='worker'].plot.scatter(x='age',y='salary')"
      ]
    },
    {
      "cell_type": "code",
      "execution_count": 55,
      "metadata": {
        "id": "QYUpQwmStBEV"
      },
      "outputs": [],
      "source": [
        "df[\"salary_log\"] = df[\"salary\"].apply(np.log)"
      ]
    },
    {
      "cell_type": "code",
      "execution_count": 56,
      "metadata": {
        "id": "Q1ZxZodhtIZX"
      },
      "outputs": [
        {
          "data": {
            "text/plain": [
              "<AxesSubplot: xlabel='age', ylabel='salary_log'>"
            ]
          },
          "execution_count": 56,
          "metadata": {},
          "output_type": "execute_result"
        },
        {
          "data": {
            "image/png": "[encoded data removed]",
            "text/plain": [
              "<Figure size 640x480 with 1 Axes>"
            ]
          },
          "metadata": {},
          "output_type": "display_data"
        }
      ],
      "source": [
        "df[df['job']=='worker'].plot.scatter(x='age',y='salary_log')"
      ]
    },
    {
      "cell_type": "markdown",
      "metadata": {
        "id": "HMJoi-yOtVdw"
      },
      "source": [
        "## Binary Encoding"
      ]
    },
    {
      "cell_type": "code",
      "execution_count": 57,
      "metadata": {
        "id": "imYVbaJGtXhp"
      },
      "outputs": [
        {
          "data": {
            "text/html": [
              "<div>\n",
              "<style scoped>\n",
              "    .dataframe tbody tr th:only-of-type {\n",
              "        vertical-align: middle;\n",
              "    }\n",
              "\n",
              "    .dataframe tbody tr th {\n",
              "        vertical-align: top;\n",
              "    }\n",
              "\n",
              "    .dataframe thead th {\n",
              "        text-align: right;\n",
              "    }\n",
              "</style>\n",
              "<table border=\"1\" class=\"dataframe\">\n",
              "  <thead>\n",
              "    <tr style=\"text-align: right;\">\n",
              "      <th></th>\n",
              "      <th>gender</th>\n",
              "    </tr>\n",
              "  </thead>\n",
              "  <tbody>\n",
              "    <tr>\n",
              "      <th>841</th>\n",
              "      <td>male</td>\n",
              "    </tr>\n",
              "    <tr>\n",
              "      <th>751</th>\n",
              "      <td>male</td>\n",
              "    </tr>\n",
              "    <tr>\n",
              "      <th>323</th>\n",
              "      <td>female</td>\n",
              "    </tr>\n",
              "    <tr>\n",
              "      <th>138</th>\n",
              "      <td>male</td>\n",
              "    </tr>\n",
              "    <tr>\n",
              "      <th>624</th>\n",
              "      <td>female</td>\n",
              "    </tr>\n",
              "    <tr>\n",
              "      <th>...</th>\n",
              "      <td>...</td>\n",
              "    </tr>\n",
              "    <tr>\n",
              "      <th>326</th>\n",
              "      <td>male</td>\n",
              "    </tr>\n",
              "    <tr>\n",
              "      <th>401</th>\n",
              "      <td>male</td>\n",
              "    </tr>\n",
              "    <tr>\n",
              "      <th>141</th>\n",
              "      <td>female</td>\n",
              "    </tr>\n",
              "    <tr>\n",
              "      <th>584</th>\n",
              "      <td>male</td>\n",
              "    </tr>\n",
              "    <tr>\n",
              "      <th>803</th>\n",
              "      <td>male</td>\n",
              "    </tr>\n",
              "  </tbody>\n",
              "</table>\n",
              "<p>900 rows × 1 columns</p>\n",
              "</div>"
            ],
            "text/plain": [
              "     gender\n",
              "841    male\n",
              "751    male\n",
              "323  female\n",
              "138    male\n",
              "624  female\n",
              "..      ...\n",
              "326    male\n",
              "401    male\n",
              "141  female\n",
              "584    male\n",
              "803    male\n",
              "\n",
              "[900 rows x 1 columns]"
            ]
          },
          "execution_count": 57,
          "metadata": {},
          "output_type": "execute_result"
        }
      ],
      "source": [
        "df[[\"gender\"]]"
      ]
    },
    {
      "cell_type": "code",
      "execution_count": 58,
      "metadata": {
        "id": "b7ELaif3tZ41"
      },
      "outputs": [
        {
          "data": {
            "text/plain": [
              "array(['male', 'female'], dtype=object)"
            ]
          },
          "execution_count": 58,
          "metadata": {},
          "output_type": "execute_result"
        }
      ],
      "source": [
        "df[\"gender\"].unique()"
      ]
    },
    {
      "cell_type": "code",
      "execution_count": 59,
      "metadata": {
        "id": "wvaaZMjmt0bq"
      },
      "outputs": [],
      "source": [
        "from sklearn.preprocessing import LabelEncoder"
      ]
    },
    {
      "cell_type": "code",
      "execution_count": 60,
      "metadata": {
        "id": "KKKzCLh2tws5"
      },
      "outputs": [],
      "source": [
        "lb_make = LabelEncoder()"
      ]
    },
    {
      "cell_type": "code",
      "execution_count": 61,
      "metadata": {
        "id": "RL6ZQf9_t2Wq"
      },
      "outputs": [],
      "source": [
        "df[\"gender_code\"] = lb_make.fit_transform(df[\"gender\"])"
      ]
    },
    {
      "cell_type": "code",
      "execution_count": 62,
      "metadata": {
        "id": "ppYpaLfzt-_Q"
      },
      "outputs": [
        {
          "data": {
            "text/html": [
              "<div>\n",
              "<style scoped>\n",
              "    .dataframe tbody tr th:only-of-type {\n",
              "        vertical-align: middle;\n",
              "    }\n",
              "\n",
              "    .dataframe tbody tr th {\n",
              "        vertical-align: top;\n",
              "    }\n",
              "\n",
              "    .dataframe thead th {\n",
              "        text-align: right;\n",
              "    }\n",
              "</style>\n",
              "<table border=\"1\" class=\"dataframe\">\n",
              "  <thead>\n",
              "    <tr style=\"text-align: right;\">\n",
              "      <th></th>\n",
              "      <th>cust_id</th>\n",
              "      <th>gender</th>\n",
              "      <th>birth</th>\n",
              "      <th>height</th>\n",
              "      <th>address</th>\n",
              "      <th>salary</th>\n",
              "      <th>job</th>\n",
              "      <th>payment</th>\n",
              "      <th>last_tx</th>\n",
              "      <th>churn</th>\n",
              "      <th>age</th>\n",
              "      <th>age_group</th>\n",
              "      <th>salary_log</th>\n",
              "      <th>gender_code</th>\n",
              "    </tr>\n",
              "  </thead>\n",
              "  <tbody>\n",
              "    <tr>\n",
              "      <th>841</th>\n",
              "      <td>C-0842</td>\n",
              "      <td>male</td>\n",
              "      <td>2005-07-02</td>\n",
              "      <td>165.0</td>\n",
              "      <td>108/60, ราชเทวี, กรุงเทพ</td>\n",
              "      <td>24448.0</td>\n",
              "      <td>student</td>\n",
              "      <td>credit</td>\n",
              "      <td>70</td>\n",
              "      <td>loyal</td>\n",
              "      <td>17</td>\n",
              "      <td>teen</td>\n",
              "      <td>10.104304</td>\n",
              "      <td>1</td>\n",
              "    </tr>\n",
              "    <tr>\n",
              "      <th>751</th>\n",
              "      <td>C-0752</td>\n",
              "      <td>male</td>\n",
              "      <td>2005-08-12</td>\n",
              "      <td>168.0</td>\n",
              "      <td>307/36, จตุจักร, กรุงเทพ</td>\n",
              "      <td>16946.0</td>\n",
              "      <td>student</td>\n",
              "      <td>credit</td>\n",
              "      <td>101</td>\n",
              "      <td>loyal</td>\n",
              "      <td>17</td>\n",
              "      <td>teen</td>\n",
              "      <td>9.737787</td>\n",
              "      <td>1</td>\n",
              "    </tr>\n",
              "    <tr>\n",
              "      <th>323</th>\n",
              "      <td>C-0324</td>\n",
              "      <td>female</td>\n",
              "      <td>2005-06-24</td>\n",
              "      <td>154.0</td>\n",
              "      <td>14/24, ปทุมวัน, กรุงเทพ</td>\n",
              "      <td>24637.0</td>\n",
              "      <td>student</td>\n",
              "      <td>credit</td>\n",
              "      <td>85</td>\n",
              "      <td>loyal</td>\n",
              "      <td>17</td>\n",
              "      <td>teen</td>\n",
              "      <td>10.112005</td>\n",
              "      <td>0</td>\n",
              "    </tr>\n",
              "    <tr>\n",
              "      <th>138</th>\n",
              "      <td>C-0139</td>\n",
              "      <td>male</td>\n",
              "      <td>2005-02-23</td>\n",
              "      <td>162.0</td>\n",
              "      <td>466/20, ดอนตูม, นครปฐม</td>\n",
              "      <td>29106.0</td>\n",
              "      <td>student</td>\n",
              "      <td>credit</td>\n",
              "      <td>130</td>\n",
              "      <td>loyal</td>\n",
              "      <td>17</td>\n",
              "      <td>teen</td>\n",
              "      <td>10.278700</td>\n",
              "      <td>1</td>\n",
              "    </tr>\n",
              "    <tr>\n",
              "      <th>624</th>\n",
              "      <td>C-0625</td>\n",
              "      <td>female</td>\n",
              "      <td>2005-07-23</td>\n",
              "      <td>168.0</td>\n",
              "      <td>263/65, ลำลูกกา, ปทุมธานี</td>\n",
              "      <td>30883.0</td>\n",
              "      <td>student</td>\n",
              "      <td>cash</td>\n",
              "      <td>149</td>\n",
              "      <td>loyal</td>\n",
              "      <td>17</td>\n",
              "      <td>teen</td>\n",
              "      <td>10.337961</td>\n",
              "      <td>0</td>\n",
              "    </tr>\n",
              "    <tr>\n",
              "      <th>...</th>\n",
              "      <td>...</td>\n",
              "      <td>...</td>\n",
              "      <td>...</td>\n",
              "      <td>...</td>\n",
              "      <td>...</td>\n",
              "      <td>...</td>\n",
              "      <td>...</td>\n",
              "      <td>...</td>\n",
              "      <td>...</td>\n",
              "      <td>...</td>\n",
              "      <td>...</td>\n",
              "      <td>...</td>\n",
              "      <td>...</td>\n",
              "      <td>...</td>\n",
              "    </tr>\n",
              "    <tr>\n",
              "      <th>326</th>\n",
              "      <td>C-0327</td>\n",
              "      <td>male</td>\n",
              "      <td>1932-01-15</td>\n",
              "      <td>166.0</td>\n",
              "      <td>170/56, ไทรน้อย, นนทบุรี</td>\n",
              "      <td>50199.0</td>\n",
              "      <td>retired</td>\n",
              "      <td>credit</td>\n",
              "      <td>31</td>\n",
              "      <td>loyal</td>\n",
              "      <td>90</td>\n",
              "      <td>senior</td>\n",
              "      <td>10.823750</td>\n",
              "      <td>1</td>\n",
              "    </tr>\n",
              "    <tr>\n",
              "      <th>401</th>\n",
              "      <td>C-0402</td>\n",
              "      <td>male</td>\n",
              "      <td>1931-03-12</td>\n",
              "      <td>163.0</td>\n",
              "      <td>398/10, หนองแขม, กรุงเทพ</td>\n",
              "      <td>20816.0</td>\n",
              "      <td>retired</td>\n",
              "      <td>credit</td>\n",
              "      <td>158</td>\n",
              "      <td>loyal</td>\n",
              "      <td>91</td>\n",
              "      <td>senior</td>\n",
              "      <td>9.943477</td>\n",
              "      <td>1</td>\n",
              "    </tr>\n",
              "    <tr>\n",
              "      <th>141</th>\n",
              "      <td>C-0142</td>\n",
              "      <td>female</td>\n",
              "      <td>1931-07-10</td>\n",
              "      <td>160.0</td>\n",
              "      <td>350/37, ภาษีเจริญ, กรุงเทพ</td>\n",
              "      <td>35244.0</td>\n",
              "      <td>retired</td>\n",
              "      <td>cheque</td>\n",
              "      <td>194</td>\n",
              "      <td>loyal</td>\n",
              "      <td>91</td>\n",
              "      <td>senior</td>\n",
              "      <td>10.470051</td>\n",
              "      <td>0</td>\n",
              "    </tr>\n",
              "    <tr>\n",
              "      <th>584</th>\n",
              "      <td>C-0585</td>\n",
              "      <td>male</td>\n",
              "      <td>1931-02-15</td>\n",
              "      <td>166.0</td>\n",
              "      <td>107/23, บางบัวทอง, นนทบุรี</td>\n",
              "      <td>37288.0</td>\n",
              "      <td>retired</td>\n",
              "      <td>credit</td>\n",
              "      <td>109</td>\n",
              "      <td>loyal</td>\n",
              "      <td>91</td>\n",
              "      <td>senior</td>\n",
              "      <td>10.526427</td>\n",
              "      <td>1</td>\n",
              "    </tr>\n",
              "    <tr>\n",
              "      <th>803</th>\n",
              "      <td>C-0804</td>\n",
              "      <td>male</td>\n",
              "      <td>1931-07-26</td>\n",
              "      <td>164.0</td>\n",
              "      <td>98/65, ดุสิต, กรุงเทพ</td>\n",
              "      <td>20446.0</td>\n",
              "      <td>retired</td>\n",
              "      <td>credit</td>\n",
              "      <td>133</td>\n",
              "      <td>loyal</td>\n",
              "      <td>91</td>\n",
              "      <td>senior</td>\n",
              "      <td>9.925543</td>\n",
              "      <td>1</td>\n",
              "    </tr>\n",
              "  </tbody>\n",
              "</table>\n",
              "<p>900 rows × 14 columns</p>\n",
              "</div>"
            ],
            "text/plain": [
              "    cust_id  gender      birth  height                     address   salary  \\\n",
              "841  C-0842    male 2005-07-02   165.0    108/60, ราชเทวี, กรุงเทพ  24448.0   \n",
              "751  C-0752    male 2005-08-12   168.0    307/36, จตุจักร, กรุงเทพ  16946.0   \n",
              "323  C-0324  female 2005-06-24   154.0     14/24, ปทุมวัน, กรุงเทพ  24637.0   \n",
              "138  C-0139    male 2005-02-23   162.0      466/20, ดอนตูม, นครปฐม  29106.0   \n",
              "624  C-0625  female 2005-07-23   168.0   263/65, ลำลูกกา, ปทุมธานี  30883.0   \n",
              "..      ...     ...        ...     ...                         ...      ...   \n",
              "326  C-0327    male 1932-01-15   166.0    170/56, ไทรน้อย, นนทบุรี  50199.0   \n",
              "401  C-0402    male 1931-03-12   163.0    398/10, หนองแขม, กรุงเทพ  20816.0   \n",
              "141  C-0142  female 1931-07-10   160.0  350/37, ภาษีเจริญ, กรุงเทพ  35244.0   \n",
              "584  C-0585    male 1931-02-15   166.0  107/23, บางบัวทอง, นนทบุรี  37288.0   \n",
              "803  C-0804    male 1931-07-26   164.0       98/65, ดุสิต, กรุงเทพ  20446.0   \n",
              "\n",
              "         job payment  last_tx  churn  age age_group  salary_log  gender_code  \n",
              "841  student  credit       70  loyal   17      teen   10.104304            1  \n",
              "751  student  credit      101  loyal   17      teen    9.737787            1  \n",
              "323  student  credit       85  loyal   17      teen   10.112005            0  \n",
              "138  student  credit      130  loyal   17      teen   10.278700            1  \n",
              "624  student    cash      149  loyal   17      teen   10.337961            0  \n",
              "..       ...     ...      ...    ...  ...       ...         ...          ...  \n",
              "326  retired  credit       31  loyal   90    senior   10.823750            1  \n",
              "401  retired  credit      158  loyal   91    senior    9.943477            1  \n",
              "141  retired  cheque      194  loyal   91    senior   10.470051            0  \n",
              "584  retired  credit      109  loyal   91    senior   10.526427            1  \n",
              "803  retired  credit      133  loyal   91    senior    9.925543            1  \n",
              "\n",
              "[900 rows x 14 columns]"
            ]
          },
          "execution_count": 62,
          "metadata": {},
          "output_type": "execute_result"
        }
      ],
      "source": [
        "df"
      ]
    },
    {
      "cell_type": "markdown",
      "metadata": {
        "id": "8JpV2eixuNmc"
      },
      "source": [
        "## One-Hot Encoding"
      ]
    },
    {
      "cell_type": "code",
      "execution_count": 63,
      "metadata": {
        "id": "2WABJ9LUuebq"
      },
      "outputs": [
        {
          "data": {
            "text/html": [
              "<div>\n",
              "<style scoped>\n",
              "    .dataframe tbody tr th:only-of-type {\n",
              "        vertical-align: middle;\n",
              "    }\n",
              "\n",
              "    .dataframe tbody tr th {\n",
              "        vertical-align: top;\n",
              "    }\n",
              "\n",
              "    .dataframe thead th {\n",
              "        text-align: right;\n",
              "    }\n",
              "</style>\n",
              "<table border=\"1\" class=\"dataframe\">\n",
              "  <thead>\n",
              "    <tr style=\"text-align: right;\">\n",
              "      <th></th>\n",
              "      <th>payment</th>\n",
              "    </tr>\n",
              "  </thead>\n",
              "  <tbody>\n",
              "    <tr>\n",
              "      <th>841</th>\n",
              "      <td>credit</td>\n",
              "    </tr>\n",
              "    <tr>\n",
              "      <th>751</th>\n",
              "      <td>credit</td>\n",
              "    </tr>\n",
              "    <tr>\n",
              "      <th>323</th>\n",
              "      <td>credit</td>\n",
              "    </tr>\n",
              "    <tr>\n",
              "      <th>138</th>\n",
              "      <td>credit</td>\n",
              "    </tr>\n",
              "    <tr>\n",
              "      <th>624</th>\n",
              "      <td>cash</td>\n",
              "    </tr>\n",
              "    <tr>\n",
              "      <th>...</th>\n",
              "      <td>...</td>\n",
              "    </tr>\n",
              "    <tr>\n",
              "      <th>326</th>\n",
              "      <td>credit</td>\n",
              "    </tr>\n",
              "    <tr>\n",
              "      <th>401</th>\n",
              "      <td>credit</td>\n",
              "    </tr>\n",
              "    <tr>\n",
              "      <th>141</th>\n",
              "      <td>cheque</td>\n",
              "    </tr>\n",
              "    <tr>\n",
              "      <th>584</th>\n",
              "      <td>credit</td>\n",
              "    </tr>\n",
              "    <tr>\n",
              "      <th>803</th>\n",
              "      <td>credit</td>\n",
              "    </tr>\n",
              "  </tbody>\n",
              "</table>\n",
              "<p>900 rows × 1 columns</p>\n",
              "</div>"
            ],
            "text/plain": [
              "    payment\n",
              "841  credit\n",
              "751  credit\n",
              "323  credit\n",
              "138  credit\n",
              "624    cash\n",
              "..      ...\n",
              "326  credit\n",
              "401  credit\n",
              "141  cheque\n",
              "584  credit\n",
              "803  credit\n",
              "\n",
              "[900 rows x 1 columns]"
            ]
          },
          "execution_count": 63,
          "metadata": {},
          "output_type": "execute_result"
        }
      ],
      "source": [
        "df[[\"payment\"]]"
      ]
    },
    {
      "cell_type": "code",
      "execution_count": 64,
      "metadata": {
        "id": "P4xOFvSCuiNh"
      },
      "outputs": [
        {
          "data": {
            "text/plain": [
              "array(['credit', 'cash', 'cheque'], dtype=object)"
            ]
          },
          "execution_count": 64,
          "metadata": {},
          "output_type": "execute_result"
        }
      ],
      "source": [
        "df['payment'].unique()"
      ]
    },
    {
      "cell_type": "code",
      "execution_count": 65,
      "metadata": {
        "id": "p4LkzS_LuSda"
      },
      "outputs": [],
      "source": [
        "df = pd.get_dummies(df, columns=[\"payment\"])"
      ]
    },
    {
      "cell_type": "code",
      "execution_count": 66,
      "metadata": {
        "id": "sJngVWEVul0E"
      },
      "outputs": [
        {
          "data": {
            "text/html": [
              "<div>\n",
              "<style scoped>\n",
              "    .dataframe tbody tr th:only-of-type {\n",
              "        vertical-align: middle;\n",
              "    }\n",
              "\n",
              "    .dataframe tbody tr th {\n",
              "        vertical-align: top;\n",
              "    }\n",
              "\n",
              "    .dataframe thead th {\n",
              "        text-align: right;\n",
              "    }\n",
              "</style>\n",
              "<table border=\"1\" class=\"dataframe\">\n",
              "  <thead>\n",
              "    <tr style=\"text-align: right;\">\n",
              "      <th></th>\n",
              "      <th>cust_id</th>\n",
              "      <th>gender</th>\n",
              "      <th>birth</th>\n",
              "      <th>height</th>\n",
              "      <th>address</th>\n",
              "      <th>salary</th>\n",
              "      <th>job</th>\n",
              "      <th>last_tx</th>\n",
              "      <th>churn</th>\n",
              "      <th>age</th>\n",
              "      <th>age_group</th>\n",
              "      <th>salary_log</th>\n",
              "      <th>gender_code</th>\n",
              "      <th>payment_cash</th>\n",
              "      <th>payment_cheque</th>\n",
              "      <th>payment_credit</th>\n",
              "    </tr>\n",
              "  </thead>\n",
              "  <tbody>\n",
              "    <tr>\n",
              "      <th>841</th>\n",
              "      <td>C-0842</td>\n",
              "      <td>male</td>\n",
              "      <td>2005-07-02</td>\n",
              "      <td>165.0</td>\n",
              "      <td>108/60, ราชเทวี, กรุงเทพ</td>\n",
              "      <td>24448.0</td>\n",
              "      <td>student</td>\n",
              "      <td>70</td>\n",
              "      <td>loyal</td>\n",
              "      <td>17</td>\n",
              "      <td>teen</td>\n",
              "      <td>10.104304</td>\n",
              "      <td>1</td>\n",
              "      <td>0</td>\n",
              "      <td>0</td>\n",
              "      <td>1</td>\n",
              "    </tr>\n",
              "    <tr>\n",
              "      <th>751</th>\n",
              "      <td>C-0752</td>\n",
              "      <td>male</td>\n",
              "      <td>2005-08-12</td>\n",
              "      <td>168.0</td>\n",
              "      <td>307/36, จตุจักร, กรุงเทพ</td>\n",
              "      <td>16946.0</td>\n",
              "      <td>student</td>\n",
              "      <td>101</td>\n",
              "      <td>loyal</td>\n",
              "      <td>17</td>\n",
              "      <td>teen</td>\n",
              "      <td>9.737787</td>\n",
              "      <td>1</td>\n",
              "      <td>0</td>\n",
              "      <td>0</td>\n",
              "      <td>1</td>\n",
              "    </tr>\n",
              "    <tr>\n",
              "      <th>323</th>\n",
              "      <td>C-0324</td>\n",
              "      <td>female</td>\n",
              "      <td>2005-06-24</td>\n",
              "      <td>154.0</td>\n",
              "      <td>14/24, ปทุมวัน, กรุงเทพ</td>\n",
              "      <td>24637.0</td>\n",
              "      <td>student</td>\n",
              "      <td>85</td>\n",
              "      <td>loyal</td>\n",
              "      <td>17</td>\n",
              "      <td>teen</td>\n",
              "      <td>10.112005</td>\n",
              "      <td>0</td>\n",
              "      <td>0</td>\n",
              "      <td>0</td>\n",
              "      <td>1</td>\n",
              "    </tr>\n",
              "    <tr>\n",
              "      <th>138</th>\n",
              "      <td>C-0139</td>\n",
              "      <td>male</td>\n",
              "      <td>2005-02-23</td>\n",
              "      <td>162.0</td>\n",
              "      <td>466/20, ดอนตูม, นครปฐม</td>\n",
              "      <td>29106.0</td>\n",
              "      <td>student</td>\n",
              "      <td>130</td>\n",
              "      <td>loyal</td>\n",
              "      <td>17</td>\n",
              "      <td>teen</td>\n",
              "      <td>10.278700</td>\n",
              "      <td>1</td>\n",
              "      <td>0</td>\n",
              "      <td>0</td>\n",
              "      <td>1</td>\n",
              "    </tr>\n",
              "    <tr>\n",
              "      <th>624</th>\n",
              "      <td>C-0625</td>\n",
              "      <td>female</td>\n",
              "      <td>2005-07-23</td>\n",
              "      <td>168.0</td>\n",
              "      <td>263/65, ลำลูกกา, ปทุมธานี</td>\n",
              "      <td>30883.0</td>\n",
              "      <td>student</td>\n",
              "      <td>149</td>\n",
              "      <td>loyal</td>\n",
              "      <td>17</td>\n",
              "      <td>teen</td>\n",
              "      <td>10.337961</td>\n",
              "      <td>0</td>\n",
              "      <td>1</td>\n",
              "      <td>0</td>\n",
              "      <td>0</td>\n",
              "    </tr>\n",
              "    <tr>\n",
              "      <th>...</th>\n",
              "      <td>...</td>\n",
              "      <td>...</td>\n",
              "      <td>...</td>\n",
              "      <td>...</td>\n",
              "      <td>...</td>\n",
              "      <td>...</td>\n",
              "      <td>...</td>\n",
              "      <td>...</td>\n",
              "      <td>...</td>\n",
              "      <td>...</td>\n",
              "      <td>...</td>\n",
              "      <td>...</td>\n",
              "      <td>...</td>\n",
              "      <td>...</td>\n",
              "      <td>...</td>\n",
              "      <td>...</td>\n",
              "    </tr>\n",
              "    <tr>\n",
              "      <th>326</th>\n",
              "      <td>C-0327</td>\n",
              "      <td>male</td>\n",
              "      <td>1932-01-15</td>\n",
              "      <td>166.0</td>\n",
              "      <td>170/56, ไทรน้อย, นนทบุรี</td>\n",
              "      <td>50199.0</td>\n",
              "      <td>retired</td>\n",
              "      <td>31</td>\n",
              "      <td>loyal</td>\n",
              "      <td>90</td>\n",
              "      <td>senior</td>\n",
              "      <td>10.823750</td>\n",
              "      <td>1</td>\n",
              "      <td>0</td>\n",
              "      <td>0</td>\n",
              "      <td>1</td>\n",
              "    </tr>\n",
              "    <tr>\n",
              "      <th>401</th>\n",
              "      <td>C-0402</td>\n",
              "      <td>male</td>\n",
              "      <td>1931-03-12</td>\n",
              "      <td>163.0</td>\n",
              "      <td>398/10, หนองแขม, กรุงเทพ</td>\n",
              "      <td>20816.0</td>\n",
              "      <td>retired</td>\n",
              "      <td>158</td>\n",
              "      <td>loyal</td>\n",
              "      <td>91</td>\n",
              "      <td>senior</td>\n",
              "      <td>9.943477</td>\n",
              "      <td>1</td>\n",
              "      <td>0</td>\n",
              "      <td>0</td>\n",
              "      <td>1</td>\n",
              "    </tr>\n",
              "    <tr>\n",
              "      <th>141</th>\n",
              "      <td>C-0142</td>\n",
              "      <td>female</td>\n",
              "      <td>1931-07-10</td>\n",
              "      <td>160.0</td>\n",
              "      <td>350/37, ภาษีเจริญ, กรุงเทพ</td>\n",
              "      <td>35244.0</td>\n",
              "      <td>retired</td>\n",
              "      <td>194</td>\n",
              "      <td>loyal</td>\n",
              "      <td>91</td>\n",
              "      <td>senior</td>\n",
              "      <td>10.470051</td>\n",
              "      <td>0</td>\n",
              "      <td>0</td>\n",
              "      <td>1</td>\n",
              "      <td>0</td>\n",
              "    </tr>\n",
              "    <tr>\n",
              "      <th>584</th>\n",
              "      <td>C-0585</td>\n",
              "      <td>male</td>\n",
              "      <td>1931-02-15</td>\n",
              "      <td>166.0</td>\n",
              "      <td>107/23, บางบัวทอง, นนทบุรี</td>\n",
              "      <td>37288.0</td>\n",
              "      <td>retired</td>\n",
              "      <td>109</td>\n",
              "      <td>loyal</td>\n",
              "      <td>91</td>\n",
              "      <td>senior</td>\n",
              "      <td>10.526427</td>\n",
              "      <td>1</td>\n",
              "      <td>0</td>\n",
              "      <td>0</td>\n",
              "      <td>1</td>\n",
              "    </tr>\n",
              "    <tr>\n",
              "      <th>803</th>\n",
              "      <td>C-0804</td>\n",
              "      <td>male</td>\n",
              "      <td>1931-07-26</td>\n",
              "      <td>164.0</td>\n",
              "      <td>98/65, ดุสิต, กรุงเทพ</td>\n",
              "      <td>20446.0</td>\n",
              "      <td>retired</td>\n",
              "      <td>133</td>\n",
              "      <td>loyal</td>\n",
              "      <td>91</td>\n",
              "      <td>senior</td>\n",
              "      <td>9.925543</td>\n",
              "      <td>1</td>\n",
              "      <td>0</td>\n",
              "      <td>0</td>\n",
              "      <td>1</td>\n",
              "    </tr>\n",
              "  </tbody>\n",
              "</table>\n",
              "<p>900 rows × 16 columns</p>\n",
              "</div>"
            ],
            "text/plain": [
              "    cust_id  gender      birth  height                     address   salary  \\\n",
              "841  C-0842    male 2005-07-02   165.0    108/60, ราชเทวี, กรุงเทพ  24448.0   \n",
              "751  C-0752    male 2005-08-12   168.0    307/36, จตุจักร, กรุงเทพ  16946.0   \n",
              "323  C-0324  female 2005-06-24   154.0     14/24, ปทุมวัน, กรุงเทพ  24637.0   \n",
              "138  C-0139    male 2005-02-23   162.0      466/20, ดอนตูม, นครปฐม  29106.0   \n",
              "624  C-0625  female 2005-07-23   168.0   263/65, ลำลูกกา, ปทุมธานี  30883.0   \n",
              "..      ...     ...        ...     ...                         ...      ...   \n",
              "326  C-0327    male 1932-01-15   166.0    170/56, ไทรน้อย, นนทบุรี  50199.0   \n",
              "401  C-0402    male 1931-03-12   163.0    398/10, หนองแขม, กรุงเทพ  20816.0   \n",
              "141  C-0142  female 1931-07-10   160.0  350/37, ภาษีเจริญ, กรุงเทพ  35244.0   \n",
              "584  C-0585    male 1931-02-15   166.0  107/23, บางบัวทอง, นนทบุรี  37288.0   \n",
              "803  C-0804    male 1931-07-26   164.0       98/65, ดุสิต, กรุงเทพ  20446.0   \n",
              "\n",
              "         job  last_tx  churn  age age_group  salary_log  gender_code  \\\n",
              "841  student       70  loyal   17      teen   10.104304            1   \n",
              "751  student      101  loyal   17      teen    9.737787            1   \n",
              "323  student       85  loyal   17      teen   10.112005            0   \n",
              "138  student      130  loyal   17      teen   10.278700            1   \n",
              "624  student      149  loyal   17      teen   10.337961            0   \n",
              "..       ...      ...    ...  ...       ...         ...          ...   \n",
              "326  retired       31  loyal   90    senior   10.823750            1   \n",
              "401  retired      158  loyal   91    senior    9.943477            1   \n",
              "141  retired      194  loyal   91    senior   10.470051            0   \n",
              "584  retired      109  loyal   91    senior   10.526427            1   \n",
              "803  retired      133  loyal   91    senior    9.925543            1   \n",
              "\n",
              "     payment_cash  payment_cheque  payment_credit  \n",
              "841             0               0               1  \n",
              "751             0               0               1  \n",
              "323             0               0               1  \n",
              "138             0               0               1  \n",
              "624             1               0               0  \n",
              "..            ...             ...             ...  \n",
              "326             0               0               1  \n",
              "401             0               0               1  \n",
              "141             0               1               0  \n",
              "584             0               0               1  \n",
              "803             0               0               1  \n",
              "\n",
              "[900 rows x 16 columns]"
            ]
          },
          "execution_count": 66,
          "metadata": {},
          "output_type": "execute_result"
        }
      ],
      "source": [
        "df"
      ]
    },
    {
      "cell_type": "code",
      "execution_count": 67,
      "metadata": {
        "id": "wKEI-5hXutSF"
      },
      "outputs": [
        {
          "data": {
            "text/html": [
              "<div>\n",
              "<style scoped>\n",
              "    .dataframe tbody tr th:only-of-type {\n",
              "        vertical-align: middle;\n",
              "    }\n",
              "\n",
              "    .dataframe tbody tr th {\n",
              "        vertical-align: top;\n",
              "    }\n",
              "\n",
              "    .dataframe thead th {\n",
              "        text-align: right;\n",
              "    }\n",
              "</style>\n",
              "<table border=\"1\" class=\"dataframe\">\n",
              "  <thead>\n",
              "    <tr style=\"text-align: right;\">\n",
              "      <th></th>\n",
              "      <th>payment_cash</th>\n",
              "      <th>payment_cheque</th>\n",
              "      <th>payment_credit</th>\n",
              "    </tr>\n",
              "  </thead>\n",
              "  <tbody>\n",
              "    <tr>\n",
              "      <th>841</th>\n",
              "      <td>0</td>\n",
              "      <td>0</td>\n",
              "      <td>1</td>\n",
              "    </tr>\n",
              "    <tr>\n",
              "      <th>751</th>\n",
              "      <td>0</td>\n",
              "      <td>0</td>\n",
              "      <td>1</td>\n",
              "    </tr>\n",
              "    <tr>\n",
              "      <th>323</th>\n",
              "      <td>0</td>\n",
              "      <td>0</td>\n",
              "      <td>1</td>\n",
              "    </tr>\n",
              "    <tr>\n",
              "      <th>138</th>\n",
              "      <td>0</td>\n",
              "      <td>0</td>\n",
              "      <td>1</td>\n",
              "    </tr>\n",
              "    <tr>\n",
              "      <th>624</th>\n",
              "      <td>1</td>\n",
              "      <td>0</td>\n",
              "      <td>0</td>\n",
              "    </tr>\n",
              "    <tr>\n",
              "      <th>...</th>\n",
              "      <td>...</td>\n",
              "      <td>...</td>\n",
              "      <td>...</td>\n",
              "    </tr>\n",
              "    <tr>\n",
              "      <th>326</th>\n",
              "      <td>0</td>\n",
              "      <td>0</td>\n",
              "      <td>1</td>\n",
              "    </tr>\n",
              "    <tr>\n",
              "      <th>401</th>\n",
              "      <td>0</td>\n",
              "      <td>0</td>\n",
              "      <td>1</td>\n",
              "    </tr>\n",
              "    <tr>\n",
              "      <th>141</th>\n",
              "      <td>0</td>\n",
              "      <td>1</td>\n",
              "      <td>0</td>\n",
              "    </tr>\n",
              "    <tr>\n",
              "      <th>584</th>\n",
              "      <td>0</td>\n",
              "      <td>0</td>\n",
              "      <td>1</td>\n",
              "    </tr>\n",
              "    <tr>\n",
              "      <th>803</th>\n",
              "      <td>0</td>\n",
              "      <td>0</td>\n",
              "      <td>1</td>\n",
              "    </tr>\n",
              "  </tbody>\n",
              "</table>\n",
              "<p>900 rows × 3 columns</p>\n",
              "</div>"
            ],
            "text/plain": [
              "     payment_cash  payment_cheque  payment_credit\n",
              "841             0               0               1\n",
              "751             0               0               1\n",
              "323             0               0               1\n",
              "138             0               0               1\n",
              "624             1               0               0\n",
              "..            ...             ...             ...\n",
              "326             0               0               1\n",
              "401             0               0               1\n",
              "141             0               1               0\n",
              "584             0               0               1\n",
              "803             0               0               1\n",
              "\n",
              "[900 rows x 3 columns]"
            ]
          },
          "execution_count": 67,
          "metadata": {},
          "output_type": "execute_result"
        }
      ],
      "source": [
        "df[[\"payment_cash\", \"payment_cheque\", \"payment_credit\"]]"
      ]
    },
    {
      "cell_type": "markdown",
      "metadata": {
        "id": "Dw7WNKryu9Rc"
      },
      "source": [
        "## Text Extraction"
      ]
    },
    {
      "cell_type": "code",
      "execution_count": 68,
      "metadata": {
        "id": "rBlKhCGKu8Pw"
      },
      "outputs": [
        {
          "data": {
            "text/html": [
              "<div>\n",
              "<style scoped>\n",
              "    .dataframe tbody tr th:only-of-type {\n",
              "        vertical-align: middle;\n",
              "    }\n",
              "\n",
              "    .dataframe tbody tr th {\n",
              "        vertical-align: top;\n",
              "    }\n",
              "\n",
              "    .dataframe thead th {\n",
              "        text-align: right;\n",
              "    }\n",
              "</style>\n",
              "<table border=\"1\" class=\"dataframe\">\n",
              "  <thead>\n",
              "    <tr style=\"text-align: right;\">\n",
              "      <th></th>\n",
              "      <th>address</th>\n",
              "    </tr>\n",
              "  </thead>\n",
              "  <tbody>\n",
              "    <tr>\n",
              "      <th>841</th>\n",
              "      <td>108/60, ราชเทวี, กรุงเทพ</td>\n",
              "    </tr>\n",
              "    <tr>\n",
              "      <th>751</th>\n",
              "      <td>307/36, จตุจักร, กรุงเทพ</td>\n",
              "    </tr>\n",
              "    <tr>\n",
              "      <th>323</th>\n",
              "      <td>14/24, ปทุมวัน, กรุงเทพ</td>\n",
              "    </tr>\n",
              "    <tr>\n",
              "      <th>138</th>\n",
              "      <td>466/20, ดอนตูม, นครปฐม</td>\n",
              "    </tr>\n",
              "    <tr>\n",
              "      <th>624</th>\n",
              "      <td>263/65, ลำลูกกา, ปทุมธานี</td>\n",
              "    </tr>\n",
              "    <tr>\n",
              "      <th>...</th>\n",
              "      <td>...</td>\n",
              "    </tr>\n",
              "    <tr>\n",
              "      <th>326</th>\n",
              "      <td>170/56, ไทรน้อย, นนทบุรี</td>\n",
              "    </tr>\n",
              "    <tr>\n",
              "      <th>401</th>\n",
              "      <td>398/10, หนองแขม, กรุงเทพ</td>\n",
              "    </tr>\n",
              "    <tr>\n",
              "      <th>141</th>\n",
              "      <td>350/37, ภาษีเจริญ, กรุงเทพ</td>\n",
              "    </tr>\n",
              "    <tr>\n",
              "      <th>584</th>\n",
              "      <td>107/23, บางบัวทอง, นนทบุรี</td>\n",
              "    </tr>\n",
              "    <tr>\n",
              "      <th>803</th>\n",
              "      <td>98/65, ดุสิต, กรุงเทพ</td>\n",
              "    </tr>\n",
              "  </tbody>\n",
              "</table>\n",
              "<p>900 rows × 1 columns</p>\n",
              "</div>"
            ],
            "text/plain": [
              "                        address\n",
              "841    108/60, ราชเทวี, กรุงเทพ\n",
              "751    307/36, จตุจักร, กรุงเทพ\n",
              "323     14/24, ปทุมวัน, กรุงเทพ\n",
              "138      466/20, ดอนตูม, นครปฐม\n",
              "624   263/65, ลำลูกกา, ปทุมธานี\n",
              "..                          ...\n",
              "326    170/56, ไทรน้อย, นนทบุรี\n",
              "401    398/10, หนองแขม, กรุงเทพ\n",
              "141  350/37, ภาษีเจริญ, กรุงเทพ\n",
              "584  107/23, บางบัวทอง, นนทบุรี\n",
              "803       98/65, ดุสิต, กรุงเทพ\n",
              "\n",
              "[900 rows x 1 columns]"
            ]
          },
          "execution_count": 68,
          "metadata": {},
          "output_type": "execute_result"
        }
      ],
      "source": [
        "df[[\"address\"]]"
      ]
    },
    {
      "cell_type": "code",
      "execution_count": 69,
      "metadata": {
        "id": "gGoxUrHWxZ7T"
      },
      "outputs": [
        {
          "data": {
            "text/plain": [
              "['14/24', 'ปทุมวัน', 'กรุงเทพ']"
            ]
          },
          "execution_count": 69,
          "metadata": {},
          "output_type": "execute_result"
        }
      ],
      "source": [
        "\"14/24, ปทุมวัน, กรุงเทพ\".split(\", \")"
      ]
    },
    {
      "cell_type": "code",
      "execution_count": 70,
      "metadata": {
        "id": "ZBON91lhvHrz"
      },
      "outputs": [
        {
          "data": {
            "text/plain": [
              "'กรุงเทพ'"
            ]
          },
          "execution_count": 70,
          "metadata": {},
          "output_type": "execute_result"
        }
      ],
      "source": [
        "\"14/24, ปทุมวัน, กรุงเทพ\".split(\", \")[-1]"
      ]
    },
    {
      "cell_type": "code",
      "execution_count": 71,
      "metadata": {
        "id": "TZ-Ts4btvQ2D"
      },
      "outputs": [
        {
          "data": {
            "text/plain": [
              "841     กรุงเทพ\n",
              "751     กรุงเทพ\n",
              "323     กรุงเทพ\n",
              "138      นครปฐม\n",
              "624    ปทุมธานี\n",
              "         ...   \n",
              "326     นนทบุรี\n",
              "401     กรุงเทพ\n",
              "141     กรุงเทพ\n",
              "584     นนทบุรี\n",
              "803     กรุงเทพ\n",
              "Name: address, Length: 900, dtype: object"
            ]
          },
          "execution_count": 71,
          "metadata": {},
          "output_type": "execute_result"
        }
      ],
      "source": [
        "df[\"address\"].str.split(\", \").str[-1]"
      ]
    },
    {
      "cell_type": "code",
      "execution_count": 72,
      "metadata": {
        "id": "P0v8-NCLv_Nn"
      },
      "outputs": [],
      "source": [
        "df[\"city\"] = df[\"address\"].str.split(\", \").str[-1]"
      ]
    },
    {
      "cell_type": "code",
      "execution_count": 73,
      "metadata": {
        "id": "05Fdz1CTwCzp"
      },
      "outputs": [
        {
          "data": {
            "text/html": [
              "<div>\n",
              "<style scoped>\n",
              "    .dataframe tbody tr th:only-of-type {\n",
              "        vertical-align: middle;\n",
              "    }\n",
              "\n",
              "    .dataframe tbody tr th {\n",
              "        vertical-align: top;\n",
              "    }\n",
              "\n",
              "    .dataframe thead th {\n",
              "        text-align: right;\n",
              "    }\n",
              "</style>\n",
              "<table border=\"1\" class=\"dataframe\">\n",
              "  <thead>\n",
              "    <tr style=\"text-align: right;\">\n",
              "      <th></th>\n",
              "      <th>cust_id</th>\n",
              "      <th>gender</th>\n",
              "      <th>birth</th>\n",
              "      <th>height</th>\n",
              "      <th>address</th>\n",
              "      <th>salary</th>\n",
              "      <th>job</th>\n",
              "      <th>last_tx</th>\n",
              "      <th>churn</th>\n",
              "      <th>age</th>\n",
              "      <th>age_group</th>\n",
              "      <th>salary_log</th>\n",
              "      <th>gender_code</th>\n",
              "      <th>payment_cash</th>\n",
              "      <th>payment_cheque</th>\n",
              "      <th>payment_credit</th>\n",
              "      <th>city</th>\n",
              "    </tr>\n",
              "  </thead>\n",
              "  <tbody>\n",
              "    <tr>\n",
              "      <th>841</th>\n",
              "      <td>C-0842</td>\n",
              "      <td>male</td>\n",
              "      <td>2005-07-02</td>\n",
              "      <td>165.0</td>\n",
              "      <td>108/60, ราชเทวี, กรุงเทพ</td>\n",
              "      <td>24448.0</td>\n",
              "      <td>student</td>\n",
              "      <td>70</td>\n",
              "      <td>loyal</td>\n",
              "      <td>17</td>\n",
              "      <td>teen</td>\n",
              "      <td>10.104304</td>\n",
              "      <td>1</td>\n",
              "      <td>0</td>\n",
              "      <td>0</td>\n",
              "      <td>1</td>\n",
              "      <td>กรุงเทพ</td>\n",
              "    </tr>\n",
              "    <tr>\n",
              "      <th>751</th>\n",
              "      <td>C-0752</td>\n",
              "      <td>male</td>\n",
              "      <td>2005-08-12</td>\n",
              "      <td>168.0</td>\n",
              "      <td>307/36, จตุจักร, กรุงเทพ</td>\n",
              "      <td>16946.0</td>\n",
              "      <td>student</td>\n",
              "      <td>101</td>\n",
              "      <td>loyal</td>\n",
              "      <td>17</td>\n",
              "      <td>teen</td>\n",
              "      <td>9.737787</td>\n",
              "      <td>1</td>\n",
              "      <td>0</td>\n",
              "      <td>0</td>\n",
              "      <td>1</td>\n",
              "      <td>กรุงเทพ</td>\n",
              "    </tr>\n",
              "    <tr>\n",
              "      <th>323</th>\n",
              "      <td>C-0324</td>\n",
              "      <td>female</td>\n",
              "      <td>2005-06-24</td>\n",
              "      <td>154.0</td>\n",
              "      <td>14/24, ปทุมวัน, กรุงเทพ</td>\n",
              "      <td>24637.0</td>\n",
              "      <td>student</td>\n",
              "      <td>85</td>\n",
              "      <td>loyal</td>\n",
              "      <td>17</td>\n",
              "      <td>teen</td>\n",
              "      <td>10.112005</td>\n",
              "      <td>0</td>\n",
              "      <td>0</td>\n",
              "      <td>0</td>\n",
              "      <td>1</td>\n",
              "      <td>กรุงเทพ</td>\n",
              "    </tr>\n",
              "    <tr>\n",
              "      <th>138</th>\n",
              "      <td>C-0139</td>\n",
              "      <td>male</td>\n",
              "      <td>2005-02-23</td>\n",
              "      <td>162.0</td>\n",
              "      <td>466/20, ดอนตูม, นครปฐม</td>\n",
              "      <td>29106.0</td>\n",
              "      <td>student</td>\n",
              "      <td>130</td>\n",
              "      <td>loyal</td>\n",
              "      <td>17</td>\n",
              "      <td>teen</td>\n",
              "      <td>10.278700</td>\n",
              "      <td>1</td>\n",
              "      <td>0</td>\n",
              "      <td>0</td>\n",
              "      <td>1</td>\n",
              "      <td>นครปฐม</td>\n",
              "    </tr>\n",
              "    <tr>\n",
              "      <th>624</th>\n",
              "      <td>C-0625</td>\n",
              "      <td>female</td>\n",
              "      <td>2005-07-23</td>\n",
              "      <td>168.0</td>\n",
              "      <td>263/65, ลำลูกกา, ปทุมธานี</td>\n",
              "      <td>30883.0</td>\n",
              "      <td>student</td>\n",
              "      <td>149</td>\n",
              "      <td>loyal</td>\n",
              "      <td>17</td>\n",
              "      <td>teen</td>\n",
              "      <td>10.337961</td>\n",
              "      <td>0</td>\n",
              "      <td>1</td>\n",
              "      <td>0</td>\n",
              "      <td>0</td>\n",
              "      <td>ปทุมธานี</td>\n",
              "    </tr>\n",
              "    <tr>\n",
              "      <th>...</th>\n",
              "      <td>...</td>\n",
              "      <td>...</td>\n",
              "      <td>...</td>\n",
              "      <td>...</td>\n",
              "      <td>...</td>\n",
              "      <td>...</td>\n",
              "      <td>...</td>\n",
              "      <td>...</td>\n",
              "      <td>...</td>\n",
              "      <td>...</td>\n",
              "      <td>...</td>\n",
              "      <td>...</td>\n",
              "      <td>...</td>\n",
              "      <td>...</td>\n",
              "      <td>...</td>\n",
              "      <td>...</td>\n",
              "      <td>...</td>\n",
              "    </tr>\n",
              "    <tr>\n",
              "      <th>326</th>\n",
              "      <td>C-0327</td>\n",
              "      <td>male</td>\n",
              "      <td>1932-01-15</td>\n",
              "      <td>166.0</td>\n",
              "      <td>170/56, ไทรน้อย, นนทบุรี</td>\n",
              "      <td>50199.0</td>\n",
              "      <td>retired</td>\n",
              "      <td>31</td>\n",
              "      <td>loyal</td>\n",
              "      <td>90</td>\n",
              "      <td>senior</td>\n",
              "      <td>10.823750</td>\n",
              "      <td>1</td>\n",
              "      <td>0</td>\n",
              "      <td>0</td>\n",
              "      <td>1</td>\n",
              "      <td>นนทบุรี</td>\n",
              "    </tr>\n",
              "    <tr>\n",
              "      <th>401</th>\n",
              "      <td>C-0402</td>\n",
              "      <td>male</td>\n",
              "      <td>1931-03-12</td>\n",
              "      <td>163.0</td>\n",
              "      <td>398/10, หนองแขม, กรุงเทพ</td>\n",
              "      <td>20816.0</td>\n",
              "      <td>retired</td>\n",
              "      <td>158</td>\n",
              "      <td>loyal</td>\n",
              "      <td>91</td>\n",
              "      <td>senior</td>\n",
              "      <td>9.943477</td>\n",
              "      <td>1</td>\n",
              "      <td>0</td>\n",
              "      <td>0</td>\n",
              "      <td>1</td>\n",
              "      <td>กรุงเทพ</td>\n",
              "    </tr>\n",
              "    <tr>\n",
              "      <th>141</th>\n",
              "      <td>C-0142</td>\n",
              "      <td>female</td>\n",
              "      <td>1931-07-10</td>\n",
              "      <td>160.0</td>\n",
              "      <td>350/37, ภาษีเจริญ, กรุงเทพ</td>\n",
              "      <td>35244.0</td>\n",
              "      <td>retired</td>\n",
              "      <td>194</td>\n",
              "      <td>loyal</td>\n",
              "      <td>91</td>\n",
              "      <td>senior</td>\n",
              "      <td>10.470051</td>\n",
              "      <td>0</td>\n",
              "      <td>0</td>\n",
              "      <td>1</td>\n",
              "      <td>0</td>\n",
              "      <td>กรุงเทพ</td>\n",
              "    </tr>\n",
              "    <tr>\n",
              "      <th>584</th>\n",
              "      <td>C-0585</td>\n",
              "      <td>male</td>\n",
              "      <td>1931-02-15</td>\n",
              "      <td>166.0</td>\n",
              "      <td>107/23, บางบัวทอง, นนทบุรี</td>\n",
              "      <td>37288.0</td>\n",
              "      <td>retired</td>\n",
              "      <td>109</td>\n",
              "      <td>loyal</td>\n",
              "      <td>91</td>\n",
              "      <td>senior</td>\n",
              "      <td>10.526427</td>\n",
              "      <td>1</td>\n",
              "      <td>0</td>\n",
              "      <td>0</td>\n",
              "      <td>1</td>\n",
              "      <td>นนทบุรี</td>\n",
              "    </tr>\n",
              "    <tr>\n",
              "      <th>803</th>\n",
              "      <td>C-0804</td>\n",
              "      <td>male</td>\n",
              "      <td>1931-07-26</td>\n",
              "      <td>164.0</td>\n",
              "      <td>98/65, ดุสิต, กรุงเทพ</td>\n",
              "      <td>20446.0</td>\n",
              "      <td>retired</td>\n",
              "      <td>133</td>\n",
              "      <td>loyal</td>\n",
              "      <td>91</td>\n",
              "      <td>senior</td>\n",
              "      <td>9.925543</td>\n",
              "      <td>1</td>\n",
              "      <td>0</td>\n",
              "      <td>0</td>\n",
              "      <td>1</td>\n",
              "      <td>กรุงเทพ</td>\n",
              "    </tr>\n",
              "  </tbody>\n",
              "</table>\n",
              "<p>900 rows × 17 columns</p>\n",
              "</div>"
            ],
            "text/plain": [
              "    cust_id  gender      birth  height                     address   salary  \\\n",
              "841  C-0842    male 2005-07-02   165.0    108/60, ราชเทวี, กรุงเทพ  24448.0   \n",
              "751  C-0752    male 2005-08-12   168.0    307/36, จตุจักร, กรุงเทพ  16946.0   \n",
              "323  C-0324  female 2005-06-24   154.0     14/24, ปทุมวัน, กรุงเทพ  24637.0   \n",
              "138  C-0139    male 2005-02-23   162.0      466/20, ดอนตูม, นครปฐม  29106.0   \n",
              "624  C-0625  female 2005-07-23   168.0   263/65, ลำลูกกา, ปทุมธานี  30883.0   \n",
              "..      ...     ...        ...     ...                         ...      ...   \n",
              "326  C-0327    male 1932-01-15   166.0    170/56, ไทรน้อย, นนทบุรี  50199.0   \n",
              "401  C-0402    male 1931-03-12   163.0    398/10, หนองแขม, กรุงเทพ  20816.0   \n",
              "141  C-0142  female 1931-07-10   160.0  350/37, ภาษีเจริญ, กรุงเทพ  35244.0   \n",
              "584  C-0585    male 1931-02-15   166.0  107/23, บางบัวทอง, นนทบุรี  37288.0   \n",
              "803  C-0804    male 1931-07-26   164.0       98/65, ดุสิต, กรุงเทพ  20446.0   \n",
              "\n",
              "         job  last_tx  churn  age age_group  salary_log  gender_code  \\\n",
              "841  student       70  loyal   17      teen   10.104304            1   \n",
              "751  student      101  loyal   17      teen    9.737787            1   \n",
              "323  student       85  loyal   17      teen   10.112005            0   \n",
              "138  student      130  loyal   17      teen   10.278700            1   \n",
              "624  student      149  loyal   17      teen   10.337961            0   \n",
              "..       ...      ...    ...  ...       ...         ...          ...   \n",
              "326  retired       31  loyal   90    senior   10.823750            1   \n",
              "401  retired      158  loyal   91    senior    9.943477            1   \n",
              "141  retired      194  loyal   91    senior   10.470051            0   \n",
              "584  retired      109  loyal   91    senior   10.526427            1   \n",
              "803  retired      133  loyal   91    senior    9.925543            1   \n",
              "\n",
              "     payment_cash  payment_cheque  payment_credit      city  \n",
              "841             0               0               1   กรุงเทพ  \n",
              "751             0               0               1   กรุงเทพ  \n",
              "323             0               0               1   กรุงเทพ  \n",
              "138             0               0               1    นครปฐม  \n",
              "624             1               0               0  ปทุมธานี  \n",
              "..            ...             ...             ...       ...  \n",
              "326             0               0               1   นนทบุรี  \n",
              "401             0               0               1   กรุงเทพ  \n",
              "141             0               1               0   กรุงเทพ  \n",
              "584             0               0               1   นนทบุรี  \n",
              "803             0               0               1   กรุงเทพ  \n",
              "\n",
              "[900 rows x 17 columns]"
            ]
          },
          "execution_count": 73,
          "metadata": {},
          "output_type": "execute_result"
        }
      ],
      "source": [
        "df"
      ]
    },
    {
      "cell_type": "markdown",
      "metadata": {
        "id": "Tn5Tb0DTwT3e"
      },
      "source": [
        "\n",
        "\n",
        "---\n",
        "https://rathachai.creatier.pro/\n",
        "\n",
        "## つづく"
      ]
    }
  ],
  "metadata": {
    "colab": {
      "provenance": []
    },
    "kernelspec": {
      "display_name": "Python 3",
      "language": "python",
      "name": "python3"
    },
    "language_info": {
      "codemirror_mode": {
        "name": "ipython",
        "version": 3
      },
      "file_extension": ".py",
      "mimetype": "text/x-python",
      "name": "python",
      "nbconvert_exporter": "python",
      "pygments_lexer": "ipython3",
      "version": "3.10.6"
    },
    "vscode": {
      "interpreter": {
        "hash": "27f6fea6f47ae512550f0b8facdbd035a93e1dd89633f7bf2dd00a2502c71d0d"
      }
    }
  },
  "nbformat": 4,
  "nbformat_minor": 0
}
